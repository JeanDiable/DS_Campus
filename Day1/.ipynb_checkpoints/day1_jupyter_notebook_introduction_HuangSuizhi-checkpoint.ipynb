{
 "cells": [
  {
   "cell_type": "markdown",
   "metadata": {},
   "source": [
    "# Jupyter Notebook Introduction"
   ]
  },
  {
   "cell_type": "markdown",
   "metadata": {},
   "source": [
    "Welcome to your first notebook! Even if this not your first time, please read along, you might learn a few tricks/shortcut you don't already!"
   ]
  },
  {
   "cell_type": "markdown",
   "metadata": {},
   "source": [
    "## What is Jupyter Notebook?"
   ]
  },
  {
   "cell_type": "markdown",
   "metadata": {},
   "source": [
    "A notebook is a document contains both code (e.g. Python) and rich text elements (paragraphs, equations, figures, links, etc. thanks to [Markdown](https://github.com/adam-p/markdown-here/wiki/Markdown-Cheatsheet) and [MathJax](https://jupyter-notebook.readthedocs.io/en/stable/examples/Notebook/Typesetting%20Equations.html))"
   ]
  },
  {
   "cell_type": "markdown",
   "metadata": {},
   "source": [
    "The Jupyter Notebook have two main elements :\n",
    "- **Kernels**, “computational engine” that executes the code contained in a notebook document. The kernel can be interrupted, restarted or shut down at anytime in the kernel menu.\n",
    "- **Cells**, container for text to be displayed in the notebook or code to be executed by the notebook’s kernel.  "
   ]
  },
  {
   "cell_type": "markdown",
   "metadata": {},
   "source": [
    "### Kernels"
   ]
  },
  {
   "cell_type": "markdown",
   "metadata": {},
   "source": [
    "Through kernels, the Jupyter Notebook allows **code to be run.**   \n",
    "For each notebook document that a user opens, the web application starts a **new kernel** that runs the code for that notebook.  \n",
    "Each kernel is capable of running code in a single **programming language.**  \n",
    "There are kernels available in the following languages :\n",
    "- [Python](https://github.com/ipython/ipython)\n",
    "- [Julia](https://github.com/JuliaLang/IJulia.jl)\n",
    "- [R](https://github.com/IRkernel/IRkernel)\n",
    "- [Ruby](https://github.com/sciruby/iruby)  "
   ]
  },
  {
   "cell_type": "markdown",
   "metadata": {},
   "source": [
    "The default kernel runs **Python** code.  \n",
    "If you don't remember which Kernels are already installed on your laptop, just run `jupyter kernelspec list` in your environment command line."
   ]
  },
  {
   "cell_type": "markdown",
   "metadata": {},
   "source": [
    "### Cells"
   ]
  },
  {
   "cell_type": "markdown",
   "metadata": {},
   "source": [
    "In a Notebook, the cell is the container that wrap different code and rich text elements.\n",
    "There is two types of cell :\n",
    "- **Code cells**, that use the kernel programming langage syntax and can be run and display an output\n",
    "- **Text cells**, that use Markdown markup language syntax to display stylized text, links, images, equations ..."
   ]
  },
  {
   "cell_type": "markdown",
   "metadata": {},
   "source": [
    "### Example of cells"
   ]
  },
  {
   "cell_type": "markdown",
   "metadata": {},
   "source": [
    "Here are some example of **cells** :"
   ]
  },
  {
   "cell_type": "code",
   "execution_count": 1,
   "metadata": {},
   "outputs": [
    {
     "name": "stdout",
     "output_type": "stream",
     "text": [
      "this is code output area\n"
     ]
    }
   ],
   "source": [
    "text = \"this is a code cell\"\n",
    "print(\"this is code output area\")"
   ]
  },
  {
   "cell_type": "markdown",
   "metadata": {},
   "source": [
    "This _is_ a **text** <ins>cell</ins>"
   ]
  },
  {
   "cell_type": "code",
   "execution_count": 2,
   "metadata": {},
   "outputs": [
    {
     "name": "stdout",
     "output_type": "stream",
     "text": [
      "Code output can takes many forms ...\n",
      "\n"
     ]
    },
    {
     "data": {
      "text/html": [
       "<div>\n",
       "<style scoped>\n",
       "    .dataframe tbody tr th:only-of-type {\n",
       "        vertical-align: middle;\n",
       "    }\n",
       "\n",
       "    .dataframe tbody tr th {\n",
       "        vertical-align: top;\n",
       "    }\n",
       "\n",
       "    .dataframe thead th {\n",
       "        text-align: right;\n",
       "    }\n",
       "</style>\n",
       "<table border=\"1\" class=\"dataframe\">\n",
       "  <thead>\n",
       "    <tr style=\"text-align: right;\">\n",
       "      <th></th>\n",
       "      <th>First Column Name</th>\n",
       "      <th>Second Column Name</th>\n",
       "      <th>Third Column Name</th>\n",
       "    </tr>\n",
       "  </thead>\n",
       "  <tbody>\n",
       "    <tr>\n",
       "      <th>0</th>\n",
       "      <td>First value</td>\n",
       "      <td>First value</td>\n",
       "      <td>First value</td>\n",
       "    </tr>\n",
       "    <tr>\n",
       "      <th>1</th>\n",
       "      <td>Second value</td>\n",
       "      <td>Second value</td>\n",
       "      <td>Second value</td>\n",
       "    </tr>\n",
       "    <tr>\n",
       "      <th>2</th>\n",
       "      <td>Third value</td>\n",
       "      <td>Third value</td>\n",
       "      <td>Third value</td>\n",
       "    </tr>\n",
       "  </tbody>\n",
       "</table>\n",
       "</div>"
      ],
      "text/plain": [
       "  First Column Name Second Column Name Third Column Name\n",
       "0       First value        First value       First value\n",
       "1      Second value       Second value      Second value\n",
       "2       Third value        Third value       Third value"
      ]
     },
     "metadata": {},
     "output_type": "display_data"
    },
    {
     "name": "stdout",
     "output_type": "stream",
     "text": [
      "\n",
      "... such as graph, text, and tables !\n"
     ]
    }
   ],
   "source": [
    "import pandas as pd\n",
    "\n",
    "data = {'First Column Name':  ['First value', 'Second value','Third value'],\n",
    "        'Second Column Name': ['First value', 'Second value','Third value'],\n",
    "        'Third Column Name': ['First value', 'Second value','Third value']\n",
    "        }\n",
    "\n",
    "df = pd.DataFrame (data, columns = ['First Column Name','Second Column Name','Third Column Name'])\n",
    "print(\"Code output can takes many forms ...\\n\")\n",
    "\n",
    "display(df.head())\n",
    "\n",
    "print(\"\\n... such as graph, text, and tables !\")"
   ]
  },
  {
   "cell_type": "markdown",
   "metadata": {},
   "source": [
    "## Markdown is so flexible ...  \n",
    "### Play with title  \n",
    "Insert some **images**  \n",
    "![alt text](https://robot.isp.imath.be/wp-content/uploads/2015/01/python-logo.png \"Python logo\")  \n",
    "$it + is + \\frac{very}{easy} + to + \\sqrt{write} = equations$"
   ]
  },
  {
   "cell_type": "markdown",
   "metadata": {},
   "source": [
    "### Let's learn your first trick !"
   ]
  },
  {
   "cell_type": "markdown",
   "metadata": {},
   "source": [
    "Now that you are familiar with Kernel and Cells, let me tell you a secret ... You can also run bash commands **directly from the Notebook** if you prefix a code cell with ! For instance, run the cell below :"
   ]
  },
  {
   "cell_type": "code",
   "execution_count": null,
   "metadata": {
    "tags": []
   },
   "outputs": [],
   "source": [
    "!echo \"I can even use Bash using '!' character\""
   ]
  },
  {
   "cell_type": "markdown",
   "metadata": {},
   "source": [
    "Amazing isn't it ? It's your time now, try to run the `jupyter kernelspec list` command to display your installed kernel list"
   ]
  },
  {
   "cell_type": "code",
   "execution_count": null,
   "metadata": {},
   "outputs": [],
   "source": [
    "# Replace me with the command prefixed with \"!\"\n",
    "!jupyter kernelspec list"
   ]
  },
  {
   "cell_type": "markdown",
   "metadata": {},
   "source": [
    "## Shortcuts"
   ]
  },
  {
   "cell_type": "markdown",
   "metadata": {},
   "source": [
    "Learning the keyboard shortcuts is an important process to become faster at manipulating any notebook. At any moment, you can open a modal containing all the shortcuts by clicking Help in the toolbar, then Keyboard Shortcuts. You can also press H on your keyboard in command mode."
   ]
  },
  {
   "cell_type": "markdown",
   "metadata": {},
   "source": [
    "### The most useful shortcuts"
   ]
  },
  {
   "cell_type": "markdown",
   "metadata": {},
   "source": [
    "In **edit** mode, press  \n",
    "    - `Esc` to enter command mode (i.e. exit edit mode)  \n",
    "    - `Ctrl`-`↩` (read `Ctrl` `Enter`) to run the code and enter command mode _in the same_ cell  \n",
    "    - `⇧`-`↩` (read `Shift` `Enter`) to run the code, create a _new cell_ below and enter edit mode in that new cell  "
   ]
  },
  {
   "cell_type": "markdown",
   "metadata": {},
   "source": [
    "In **command** mode, press  \n",
    "    - `A` to insert a cell **Above** the current cell  \n",
    "    - `B` to insert a cell **Below** the current cell  \n",
    "    - `D`, `D` (read `D` twice) to delete the current cell. To recover from this, go to `Edit` > `Undo Delete Cells`  \n",
    "    - `Y` to change the current cell type to **Code** (Python)  \n",
    "    - `M` to change the current cell type to **Markdown**  \n",
    "    - `↩` (read `Enter` key) or double click to enter in **edit** mode  \n",
    "    - `↑`/`↓` (read `Up`/`Down` arrow) to navigate cells  "
   ]
  },
  {
   "cell_type": "markdown",
   "metadata": {},
   "source": [
    "Ok, that that you know almost everything, take some times and practice some code below !"
   ]
  },
  {
   "cell_type": "code",
   "execution_count": 2,
   "metadata": {},
   "outputs": [],
   "source": [
    "# Experiment with some Python code here\n",
    "print('hello world!')"
   ]
  },
  {
   "cell_type": "code",
   "execution_count": null,
   "metadata": {},
   "outputs": [],
   "source": [
    "!# Experiment with some Bash commands here\n",
    "!ls\n",
    "!mkdir new_dir"
   ]
  },
  {
   "cell_type": "code",
   "execution_count": null,
   "metadata": {},
   "outputs": [],
   "source": []
  }
 ],
 "metadata": {
  "kernelspec": {
   "display_name": "Python 3",
   "language": "python",
   "name": "python3"
  },
  "language_info": {
   "codemirror_mode": {
    "name": "ipython",
    "version": 3
   },
   "file_extension": ".py",
   "mimetype": "text/x-python",
   "name": "python",
   "nbconvert_exporter": "python",
   "pygments_lexer": "ipython3",
   "version": "3.7.6-final"
  }
 },
 "nbformat": 4,
 "nbformat_minor": 4
}
