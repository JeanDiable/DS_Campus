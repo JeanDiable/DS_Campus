{
 "cells": [
  {
   "cell_type": "markdown",
   "metadata": {},
   "source": [
    "## Suizhi HUANG's Homework"
   ]
  },
  {
   "cell_type": "markdown",
   "metadata": {},
   "source": [
    "## Context and Goal"
   ]
  },
  {
   "cell_type": "markdown",
   "metadata": {},
   "source": [
    "Because a good data scientist knows how to organize himself in order to not get lost in his own code, the goal of this first **Homework** will be to **create a template** that can be used as a basis for the development of learning machine models using **Markdown** language."
   ]
  },
  {
   "cell_type": "markdown",
   "metadata": {},
   "source": [
    "## Prerequisites"
   ]
  },
  {
   "cell_type": "markdown",
   "metadata": {},
   "source": [
    "As a machine learning model development template, this file should contains 7 parts :\n",
    " - Import libraries\n",
    " - Load Data\n",
    " - Process Data\n",
    " - Explore Data\n",
    " - Modeling\n",
    " - Validation\n",
    " - Save"
   ]
  },
  {
   "cell_type": "markdown",
   "metadata": {},
   "source": [
    "All these part should include one empty code cell."
   ]
  },
  {
   "cell_type": "markdown",
   "metadata": {},
   "source": [
    "You are free to use colors, images, underline/bold/italic and other tricks to make your template as beautiful as possible.  \n",
    "Here is a [perfect guide to learn how to use Markdown](https://github.com/adam-p/markdown-here/wiki/Markdown-Cheatsheet)."
   ]
  },
  {
   "cell_type": "markdown",
   "metadata": {},
   "source": [
    "As a last hint, here is a simple start for your template :"
   ]
  },
  {
   "cell_type": "markdown",
   "metadata": {},
   "source": [
    "# Model Title - Date"
   ]
  },
  {
   "cell_type": "markdown",
   "metadata": {},
   "source": [
    "Model Context and Goal : "
   ]
  },
  {
   "cell_type": "markdown",
   "metadata": {},
   "source": [
    "## Import Libraries"
   ]
  },
  {
   "cell_type": "code",
   "execution_count": null,
   "metadata": {},
   "outputs": [],
   "source": [
    "# import tensorflow as tf\n",
    "# import os\n",
    "# import zipfile\n",
    "# from tensorflow.keras.optimizers import RMSprop\n",
    "# from tensorflow.keras.preprocessing.image import ImageDataGenerator\n",
    "# import numpy as np\n",
    "# import matplotlib.image as mpimg\n",
    "# import matplotlib.pyplot as plt\n",
    "# import signal"
   ]
  },
  {
   "cell_type": "markdown",
   "metadata": {},
   "source": [
    "## Load Data"
   ]
  },
  {
   "cell_type": "code",
   "execution_count": null,
   "metadata": {},
   "outputs": [],
   "source": [
    "# !wget...\n",
    "\n",
    "# local_zip = ''\n",
    "# zip_ref = zipfile.ZipFile(local_zip, 'r')\n",
    "# zip_file.extractall('')\n",
    "# zip_ref.close()"
   ]
  },
  {
   "cell_type": "markdown",
   "metadata": {},
   "source": [
    "## Process Data"
   ]
  },
  {
   "cell_type": "code",
   "execution_count": null,
   "metadata": {},
   "outputs": [],
   "source": [
    "#base_dir = '' \n",
    "# train_dir = os.path.join(base_dir,'train')\n",
    "# validation_dir = os.path.join(base_dir,'validation')\n",
    "#\n",
    "# train_xx_dir = os.path.join(train_dir, 'xx')\n",
    "# validation_xx_dir = os.path.join(validation_dir, 'xx')\n",
    "#"
   ]
  },
  {
   "cell_type": "markdown",
   "metadata": {},
   "source": [
    "## Explore Data"
   ]
  },
  {
   "cell_type": "code",
   "execution_count": null,
   "metadata": {},
   "outputs": [],
   "source": [
    "#train_xx_fnames = os.listdir(train_xx_dir)\n",
    "#print(train_xx_fnames[:10])\n",
    "#validation_xx_fnames = os.listdir(validation_xx_dir)\n",
    "#print(validation_xx_fnames[:10])\n",
    "#\n"
   ]
  },
  {
   "cell_type": "code",
   "execution_count": null,
   "metadata": {},
   "outputs": [],
   "source": [
    "#%matplotlib inline\n",
    "#\n",
    "#norws = 4\n",
    "#nclos = 4\n",
    "#\n",
    "#pic_index = 0"
   ]
  },
  {
   "cell_type": "code",
   "execution_count": null,
   "metadata": {},
   "outputs": [],
   "source": [
    "# fig = plt.gcf()\n",
    "#fig.set_size_inches(ncols*4,nrows*4)\n",
    "#\n",
    "#pic_index += 8\n",
    "#\n",
    "#next_xx_pix = [os.path.join(train_xx_dir,fname)\\\n",
    "#      for fname in train_xx_fnames[pic_index-8:pic_index]]\n",
    "#\n",
    "#for i,img_path in enumerate(next_xx_pix):\n",
    "#    sp = plt.subplot(nrows,ncols, i+1)\n",
    "#    sp.axis('Off')\n",
    "\n",
    "#    img = mpimg.imread(img_path)\n",
    "#    plt.imshow(img)\n",
    "\n",
    "#plt.show()"
   ]
  },
  {
   "cell_type": "markdown",
   "metadata": {},
   "source": [
    "## Modeling"
   ]
  },
  {
   "cell_type": "code",
   "execution_count": null,
   "metadata": {},
   "outputs": [],
   "source": [
    "#model = tf.keras.models.Sequential([\n",
    "#    tf.keras.layers.Conv2D(16,(3,3),activation = 'relu',input_shape = (,,)),\n",
    "#    tf.keras.layers.MaxPooling2D(2,2),\n",
    "#     tf.keras.layers.Conv2D(32,(3,3),activation = 'relu'),\n",
    "#     tf.keras.layers.MaxPooling2D(2,2),    \n",
    "#     tf.keras.layers.Conv2D(64,(3,3),activation = 'relu'),\n",
    "#     tf.keras.layers.MaxPooling2D(2,2), \n",
    "#     tf.keras.layers.Flatten(),\n",
    "#     tf.keras.layers.Dense(512, activation='relu'),\n",
    "#     tf.keras.layers.Dense(1,activation='sigmoid')\n",
    "# ])\n",
    "\n",
    "# model.summary()"
   ]
  },
  {
   "cell_type": "code",
   "execution_count": null,
   "metadata": {},
   "outputs": [],
   "source": [
    "# model.compile(optimizer = RMSprop(lr = 0.001),\n",
    "#               loss = 'binary_crossentropy',\n",
    "#               metrics = ['acc'])"
   ]
  },
  {
   "cell_type": "code",
   "execution_count": null,
   "metadata": {},
   "outputs": [],
   "source": [
    "# train_datagen = ImageDataGenerator(rescale = 1.0/255.)\n",
    "# test_datagen = ImageDataGenerator(rescale = 1.0/255.)\n",
    "\n",
    "# train_generator = train_datagen.flow_from_directory(train_dir,\n",
    "#                                                     batch_size = xx,\n",
    "#                                                     class_mode = 'binary',\n",
    "#                                                     target_size = (xx,xx))\n",
    "\n",
    "# validation_generator = test_datagen.flow_from_directory(validation_dir,\n",
    "#                                                     batch_size = xx,\n",
    "#                                                     class_mode = 'binary',\n",
    "#                                                     target_size = (xx,xx))"
   ]
  },
  {
   "cell_type": "code",
   "execution_count": null,
   "metadata": {},
   "outputs": [],
   "source": [
    "# history = model.fit_generator(train_generator,\n",
    "#                               validation_data = validation_generator,\n",
    "#                               steps_per_epoch = xx,\n",
    "#                               epochs = xx,\n",
    "#                               validation_steps = xx,\n",
    "#                               verbose = 1/2/3 )"
   ]
  },
  {
   "cell_type": "code",
   "execution_count": null,
   "metadata": {},
   "outputs": [],
   "source": []
  },
  {
   "cell_type": "markdown",
   "metadata": {},
   "source": [
    "## Validation\n"
   ]
  },
  {
   "cell_type": "code",
   "execution_count": null,
   "metadata": {},
   "outputs": [],
   "source": [
    "# successive_outputs = [layer.output for layer in model.layers[1:]]\n",
    "# visualization_model = tf.keras.models.Model(inputs = model.input, outputs = successive_outputs)\n",
    "\n",
    "# xx_img_files = [os.path.join(train_xx_dir, f) for f in train_xx_fnames]\n",
    "# xxx_img_files = [os.path.join(train_xxx_dir, f) for f in train_xxx_fnames]\n",
    "\n",
    "# img_path = random.choice(xx_img_files + xxx_img_files)\n",
    "# img = load_img(img_path, target_size=(xx,xx))\n",
    "\n",
    "# x   = img_to_array(img)\n",
    "# x   = x.reshape((1,) + x.shape) \n",
    "# x /= 255.0\n",
    "\n",
    "# successive_feature_maps = visualization_model.predict(x)\n",
    "\n",
    "# layer_names = [layer.name for layer in model.layers]\n",
    "\n",
    "# for layer_name, feature_map in zip(layer_names, successive_feature_maps):\n",
    "  \n",
    "#   if len(feature_map.shape) == xx:\n",
    "#     n_features = feature_map.shape[-1]\n",
    "#     size       = feature_map.shape[ 1]\n",
    "#     display_grid = np.zeros((size, size * n_features))\n",
    "    \n",
    "#     for i in range(n_features):\n",
    "#       x  = feature_map[0, :, :, i]\n",
    "#       x -= x.mean()\n",
    "#       x /= x.std ()\n",
    "#       x *=  64\n",
    "#       x += 128\n",
    "#       x  = np.clip(x, 0, 255).astype('uint8')\n",
    "#       display_grid[:, i * size : (i + 1) * size] = x\n",
    "    \n",
    "#     scale = 20. / n_features\n",
    "#     plt.figure( figsize=(scale * n_features, scale) )\n",
    "#     plt.title ( layer_name )\n",
    "#     plt.grid  ( False )\n",
    "#     plt.imshow( display_grid, aspect='auto', cmap='viridis' ) "
   ]
  },
  {
   "cell_type": "code",
   "execution_count": null,
   "metadata": {},
   "outputs": [],
   "source": []
  },
  {
   "cell_type": "code",
   "execution_count": null,
   "metadata": {},
   "outputs": [],
   "source": []
  },
  {
   "cell_type": "markdown",
   "metadata": {},
   "source": [
    "## Save"
   ]
  },
  {
   "cell_type": "code",
   "execution_count": null,
   "metadata": {},
   "outputs": [],
   "source": [
    "# acc      = history.history[     'acc' ]\n",
    "# val_acc  = history.history[ 'val_acc' ]\n",
    "# loss     = history.history[    'loss' ]\n",
    "# val_loss = history.history['val_loss' ]\n",
    "\n",
    "# epochs   = range(len(acc))\n",
    "\n",
    "# plt.plot  ( epochs,     acc )\n",
    "# plt.plot  ( epochs, val_acc )\n",
    "# plt.title ('Training and validation accuracy')\n",
    "# plt.figure()\n",
    "\n",
    "# plt.plot  ( epochs,     loss )\n",
    "# plt.plot  ( epochs, val_loss )\n",
    "# plt.title ('Training and validation loss'   )"
   ]
  },
  {
   "cell_type": "code",
   "execution_count": null,
   "metadata": {},
   "outputs": [],
   "source": [
    "# os.kill(os.getpid(), signal.SIGKILL)"
   ]
  }
 ],
 "metadata": {
  "kernelspec": {
   "display_name": "Python 3",
   "language": "python",
   "name": "python3"
  },
  "language_info": {
   "codemirror_mode": {
    "name": "ipython",
    "version": 3
   },
   "file_extension": ".py",
   "mimetype": "text/x-python",
   "name": "python",
   "nbconvert_exporter": "python",
   "pygments_lexer": "ipython3",
   "version": "3.7.5"
  }
 },
 "nbformat": 4,
 "nbformat_minor": 4
}
