{
 "cells": [
  {
   "cell_type": "markdown",
   "metadata": {
    "_cell_guid": "e4a1cf77-b695-4ca0-9653-6c41ce2393d8",
    "_uuid": "ca91678a9dc8cc103a7fbf799a5d903a011334ef"
   },
   "source": [
    "## Some Background Information\n",
    "\n",
    "\n",
    "**The sinking of the RMS Titanic in the early morning of 15 April 1912, four days into the ship's maiden voyage from Southampton to New York City, was one of the deadliest peacetime maritime disasters in history, killing more than 1,500 people. The largest passenger liner in service at the time, Titanic had an estimated 2,224 people on board when she struck an iceberg in the North Atlantic. The ship had received six warnings of sea ice but was travelling at near maximum speed when the lookouts sighted the iceberg. Unable to turn quickly enough, the ship suffered a glancing blow that buckled the starboard (right) side and opened five of sixteen compartments to the sea. The disaster caused widespread outrage over the lack of lifeboats, lax regulations, and the unequal treatment of the three passenger classes during the evacuation. Inquiries recommended sweeping changes to maritime regulations, leading to the International Convention for the Safety of Life at Sea (1914), which continues to govern maritime safety.**  \n",
    "*from Wikipedia*"
   ]
  },
  {
   "cell_type": "markdown",
   "metadata": {
    "_cell_guid": "998b2a03-c60e-4fd6-9f69-784de6e6c9b8",
    "_uuid": "d3086cb02907affe5a674b54e4baaedd632482c7"
   },
   "source": [
    "**Imports**"
   ]
  },
  {
   "cell_type": "code",
   "execution_count": 1,
   "metadata": {
    "_cell_guid": "872b97b2-56fe-4644-a11f-afb00f422169",
    "_uuid": "efb595c75201cdb2a53388dc152a8e526e1b921a",
    "tags": []
   },
   "outputs": [],
   "source": [
    "import pandas as pd"
   ]
  },
  {
   "cell_type": "code",
   "execution_count": 2,
   "metadata": {
    "_cell_guid": "080fb327-390d-4124-b287-a561d050fe7e",
    "_uuid": "0333d5086a63e3870708e7ba7a540d036c53544e"
   },
   "outputs": [],
   "source": [
    "df = pd.read_csv(\"../input/titanic_data.csv\")"
   ]
  },
  {
   "cell_type": "markdown",
   "metadata": {
    "_cell_guid": "6c7d2500-95b1-4057-98f7-39100e8a6d7f",
    "_uuid": "13fd8422db7a1ceae9ebb002df452e8293a9ab0c"
   },
   "source": [
    "## Exploratory Data Analysis"
   ]
  },
  {
   "cell_type": "code",
   "execution_count": 3,
   "metadata": {
    "_cell_guid": "17a3c0a2-3aad-47f4-be6f-e8756bddf080",
    "_uuid": "48a2091edbeacc9c23dad6bc0c64d0302d01b87b"
   },
   "outputs": [
    {
     "data": {
      "text/html": [
       "<div>\n",
       "<style scoped>\n",
       "    .dataframe tbody tr th:only-of-type {\n",
       "        vertical-align: middle;\n",
       "    }\n",
       "\n",
       "    .dataframe tbody tr th {\n",
       "        vertical-align: top;\n",
       "    }\n",
       "\n",
       "    .dataframe thead th {\n",
       "        text-align: right;\n",
       "    }\n",
       "</style>\n",
       "<table border=\"1\" class=\"dataframe\">\n",
       "  <thead>\n",
       "    <tr style=\"text-align: right;\">\n",
       "      <th></th>\n",
       "      <th>PassengerId</th>\n",
       "      <th>Survived</th>\n",
       "      <th>Pclass</th>\n",
       "      <th>Name</th>\n",
       "      <th>Sex</th>\n",
       "      <th>Age</th>\n",
       "      <th>SibSp</th>\n",
       "      <th>Parch</th>\n",
       "      <th>Ticket</th>\n",
       "      <th>Fare</th>\n",
       "      <th>Cabin</th>\n",
       "      <th>Embarked</th>\n",
       "    </tr>\n",
       "  </thead>\n",
       "  <tbody>\n",
       "    <tr>\n",
       "      <th>0</th>\n",
       "      <td>1</td>\n",
       "      <td>0</td>\n",
       "      <td>3</td>\n",
       "      <td>Braund, Mr. Owen Harris</td>\n",
       "      <td>male</td>\n",
       "      <td>22.0</td>\n",
       "      <td>1</td>\n",
       "      <td>0</td>\n",
       "      <td>A/5 21171</td>\n",
       "      <td>7.2500</td>\n",
       "      <td>NaN</td>\n",
       "      <td>S</td>\n",
       "    </tr>\n",
       "    <tr>\n",
       "      <th>1</th>\n",
       "      <td>2</td>\n",
       "      <td>1</td>\n",
       "      <td>1</td>\n",
       "      <td>Cumings, Mrs. John Bradley (Florence Briggs Th...</td>\n",
       "      <td>female</td>\n",
       "      <td>38.0</td>\n",
       "      <td>1</td>\n",
       "      <td>0</td>\n",
       "      <td>PC 17599</td>\n",
       "      <td>71.2833</td>\n",
       "      <td>C85</td>\n",
       "      <td>C</td>\n",
       "    </tr>\n",
       "    <tr>\n",
       "      <th>2</th>\n",
       "      <td>3</td>\n",
       "      <td>1</td>\n",
       "      <td>3</td>\n",
       "      <td>Heikkinen, Miss. Laina</td>\n",
       "      <td>female</td>\n",
       "      <td>26.0</td>\n",
       "      <td>0</td>\n",
       "      <td>0</td>\n",
       "      <td>STON/O2. 3101282</td>\n",
       "      <td>7.9250</td>\n",
       "      <td>NaN</td>\n",
       "      <td>S</td>\n",
       "    </tr>\n",
       "    <tr>\n",
       "      <th>3</th>\n",
       "      <td>4</td>\n",
       "      <td>1</td>\n",
       "      <td>1</td>\n",
       "      <td>Futrelle, Mrs. Jacques Heath (Lily May Peel)</td>\n",
       "      <td>female</td>\n",
       "      <td>35.0</td>\n",
       "      <td>1</td>\n",
       "      <td>0</td>\n",
       "      <td>113803</td>\n",
       "      <td>53.1000</td>\n",
       "      <td>C123</td>\n",
       "      <td>S</td>\n",
       "    </tr>\n",
       "    <tr>\n",
       "      <th>4</th>\n",
       "      <td>5</td>\n",
       "      <td>0</td>\n",
       "      <td>3</td>\n",
       "      <td>Allen, Mr. William Henry</td>\n",
       "      <td>male</td>\n",
       "      <td>35.0</td>\n",
       "      <td>0</td>\n",
       "      <td>0</td>\n",
       "      <td>373450</td>\n",
       "      <td>8.0500</td>\n",
       "      <td>NaN</td>\n",
       "      <td>S</td>\n",
       "    </tr>\n",
       "  </tbody>\n",
       "</table>\n",
       "</div>"
      ],
      "text/plain": [
       "   PassengerId  Survived  Pclass  \\\n",
       "0            1         0       3   \n",
       "1            2         1       1   \n",
       "2            3         1       3   \n",
       "3            4         1       1   \n",
       "4            5         0       3   \n",
       "\n",
       "                                                Name     Sex   Age  SibSp  \\\n",
       "0                            Braund, Mr. Owen Harris    male  22.0      1   \n",
       "1  Cumings, Mrs. John Bradley (Florence Briggs Th...  female  38.0      1   \n",
       "2                             Heikkinen, Miss. Laina  female  26.0      0   \n",
       "3       Futrelle, Mrs. Jacques Heath (Lily May Peel)  female  35.0      1   \n",
       "4                           Allen, Mr. William Henry    male  35.0      0   \n",
       "\n",
       "   Parch            Ticket     Fare Cabin Embarked  \n",
       "0      0         A/5 21171   7.2500   NaN        S  \n",
       "1      0          PC 17599  71.2833   C85        C  \n",
       "2      0  STON/O2. 3101282   7.9250   NaN        S  \n",
       "3      0            113803  53.1000  C123        S  \n",
       "4      0            373450   8.0500   NaN        S  "
      ]
     },
     "execution_count": 3,
     "metadata": {},
     "output_type": "execute_result"
    }
   ],
   "source": [
    "df.head()"
   ]
  },
  {
   "cell_type": "markdown",
   "metadata": {},
   "source": [
    "**Question**\n",
    "\n",
    "**How many passengers are in the dataset? Are there any missing values in the dataset?**"
   ]
  },
  {
   "cell_type": "code",
   "execution_count": 4,
   "metadata": {
    "tags": []
   },
   "outputs": [
    {
     "name": "stdout",
     "output_type": "stream",
     "text": [
      "<class 'pandas.core.frame.DataFrame'>\n",
      "RangeIndex: 891 entries, 0 to 890\n",
      "Data columns (total 12 columns):\n",
      " #   Column       Non-Null Count  Dtype  \n",
      "---  ------       --------------  -----  \n",
      " 0   PassengerId  891 non-null    int64  \n",
      " 1   Survived     891 non-null    int64  \n",
      " 2   Pclass       891 non-null    int64  \n",
      " 3   Name         891 non-null    object \n",
      " 4   Sex          891 non-null    object \n",
      " 5   Age          714 non-null    float64\n",
      " 6   SibSp        891 non-null    int64  \n",
      " 7   Parch        891 non-null    int64  \n",
      " 8   Ticket       891 non-null    object \n",
      " 9   Fare         891 non-null    float64\n",
      " 10  Cabin        204 non-null    object \n",
      " 11  Embarked     889 non-null    object \n",
      "dtypes: float64(2), int64(5), object(5)\n",
      "memory usage: 83.7+ KB\n"
     ]
    }
   ],
   "source": [
    "df.info()"
   ]
  },
  {
   "cell_type": "markdown",
   "metadata": {
    "_cell_guid": "4e0c12ed-f9a7-4a2d-b33c-8e139c6387d1",
    "_uuid": "5f7bf32c6766cffd95125d01d24ccb7204611f45"
   },
   "source": [
    "**Insight**\n",
    "\n",
    "** The dataset has 891 entries, some values for Cabin and Age are missing**"
   ]
  },
  {
   "cell_type": "code",
   "execution_count": 5,
   "metadata": {
    "_cell_guid": "0e3973cb-3dee-4dab-9c7f-f4902f62c360",
    "_uuid": "b0c4e63035e9517722d8dbf8b2bc984410456181"
   },
   "outputs": [
    {
     "data": {
      "text/html": [
       "<div>\n",
       "<style scoped>\n",
       "    .dataframe tbody tr th:only-of-type {\n",
       "        vertical-align: middle;\n",
       "    }\n",
       "\n",
       "    .dataframe tbody tr th {\n",
       "        vertical-align: top;\n",
       "    }\n",
       "\n",
       "    .dataframe thead th {\n",
       "        text-align: right;\n",
       "    }\n",
       "</style>\n",
       "<table border=\"1\" class=\"dataframe\">\n",
       "  <thead>\n",
       "    <tr style=\"text-align: right;\">\n",
       "      <th></th>\n",
       "      <th>PassengerId</th>\n",
       "      <th>Survived</th>\n",
       "      <th>Pclass</th>\n",
       "      <th>Age</th>\n",
       "      <th>SibSp</th>\n",
       "      <th>Parch</th>\n",
       "      <th>Fare</th>\n",
       "    </tr>\n",
       "  </thead>\n",
       "  <tbody>\n",
       "    <tr>\n",
       "      <th>count</th>\n",
       "      <td>891.000000</td>\n",
       "      <td>891.000000</td>\n",
       "      <td>891.000000</td>\n",
       "      <td>714.000000</td>\n",
       "      <td>891.000000</td>\n",
       "      <td>891.000000</td>\n",
       "      <td>891.000000</td>\n",
       "    </tr>\n",
       "    <tr>\n",
       "      <th>mean</th>\n",
       "      <td>446.000000</td>\n",
       "      <td>0.383838</td>\n",
       "      <td>2.308642</td>\n",
       "      <td>29.699118</td>\n",
       "      <td>0.523008</td>\n",
       "      <td>0.381594</td>\n",
       "      <td>32.204208</td>\n",
       "    </tr>\n",
       "    <tr>\n",
       "      <th>std</th>\n",
       "      <td>257.353842</td>\n",
       "      <td>0.486592</td>\n",
       "      <td>0.836071</td>\n",
       "      <td>14.526497</td>\n",
       "      <td>1.102743</td>\n",
       "      <td>0.806057</td>\n",
       "      <td>49.693429</td>\n",
       "    </tr>\n",
       "    <tr>\n",
       "      <th>min</th>\n",
       "      <td>1.000000</td>\n",
       "      <td>0.000000</td>\n",
       "      <td>1.000000</td>\n",
       "      <td>0.420000</td>\n",
       "      <td>0.000000</td>\n",
       "      <td>0.000000</td>\n",
       "      <td>0.000000</td>\n",
       "    </tr>\n",
       "    <tr>\n",
       "      <th>25%</th>\n",
       "      <td>223.500000</td>\n",
       "      <td>0.000000</td>\n",
       "      <td>2.000000</td>\n",
       "      <td>20.125000</td>\n",
       "      <td>0.000000</td>\n",
       "      <td>0.000000</td>\n",
       "      <td>7.910400</td>\n",
       "    </tr>\n",
       "    <tr>\n",
       "      <th>50%</th>\n",
       "      <td>446.000000</td>\n",
       "      <td>0.000000</td>\n",
       "      <td>3.000000</td>\n",
       "      <td>28.000000</td>\n",
       "      <td>0.000000</td>\n",
       "      <td>0.000000</td>\n",
       "      <td>14.454200</td>\n",
       "    </tr>\n",
       "    <tr>\n",
       "      <th>75%</th>\n",
       "      <td>668.500000</td>\n",
       "      <td>1.000000</td>\n",
       "      <td>3.000000</td>\n",
       "      <td>38.000000</td>\n",
       "      <td>1.000000</td>\n",
       "      <td>0.000000</td>\n",
       "      <td>31.000000</td>\n",
       "    </tr>\n",
       "    <tr>\n",
       "      <th>max</th>\n",
       "      <td>891.000000</td>\n",
       "      <td>1.000000</td>\n",
       "      <td>3.000000</td>\n",
       "      <td>80.000000</td>\n",
       "      <td>8.000000</td>\n",
       "      <td>6.000000</td>\n",
       "      <td>512.329200</td>\n",
       "    </tr>\n",
       "  </tbody>\n",
       "</table>\n",
       "</div>"
      ],
      "text/plain": [
       "       PassengerId    Survived      Pclass         Age       SibSp  \\\n",
       "count   891.000000  891.000000  891.000000  714.000000  891.000000   \n",
       "mean    446.000000    0.383838    2.308642   29.699118    0.523008   \n",
       "std     257.353842    0.486592    0.836071   14.526497    1.102743   \n",
       "min       1.000000    0.000000    1.000000    0.420000    0.000000   \n",
       "25%     223.500000    0.000000    2.000000   20.125000    0.000000   \n",
       "50%     446.000000    0.000000    3.000000   28.000000    0.000000   \n",
       "75%     668.500000    1.000000    3.000000   38.000000    1.000000   \n",
       "max     891.000000    1.000000    3.000000   80.000000    8.000000   \n",
       "\n",
       "            Parch        Fare  \n",
       "count  891.000000  891.000000  \n",
       "mean     0.381594   32.204208  \n",
       "std      0.806057   49.693429  \n",
       "min      0.000000    0.000000  \n",
       "25%      0.000000    7.910400  \n",
       "50%      0.000000   14.454200  \n",
       "75%      0.000000   31.000000  \n",
       "max      6.000000  512.329200  "
      ]
     },
     "execution_count": 5,
     "metadata": {},
     "output_type": "execute_result"
    }
   ],
   "source": [
    "df.describe()"
   ]
  },
  {
   "cell_type": "markdown",
   "metadata": {
    "_cell_guid": "94c7f3de-746d-44cb-9a9d-43f32527948c",
    "_uuid": "20287febf1b25ddf9eccfbb88e363bdb80f3d958"
   },
   "source": [
    "**Question**\n",
    "\n",
    "**Of all passengers in df, how many survived?**"
   ]
  },
  {
   "cell_type": "code",
   "execution_count": 6,
   "metadata": {
    "_cell_guid": "d2bd2723-3a68-4e94-a629-7a0fca99cb2a",
    "_uuid": "3fe99f565401dae73cfecd3fb2cf8dc201119b36",
    "tags": []
   },
   "outputs": [
    {
     "name": "stdout",
     "output_type": "stream",
     "text": [
      "% of passengers survived:  0.3838383838383838\n"
     ]
    }
   ],
   "source": [
    "print(\"% of passengers survived: \", df.Survived.sum()/df.Survived.count())"
   ]
  },
  {
   "cell_type": "markdown",
   "metadata": {},
   "source": [
    "**Add a Pie Chart with % of passengers that survived**"
   ]
  },
  {
   "cell_type": "code",
   "execution_count": 1,
   "metadata": {},
   "outputs": [],
   "source": [
    "#TODO"
   ]
  },
  {
   "cell_type": "markdown",
   "metadata": {},
   "source": [
    "**Add a Bar Chart with number of passengers that survived**"
   ]
  },
  {
   "cell_type": "code",
   "execution_count": null,
   "metadata": {},
   "outputs": [],
   "source": [
    "#TODO"
   ]
  },
  {
   "cell_type": "markdown",
   "metadata": {
    "_cell_guid": "1babbbf7-085d-4141-b29a-f9fd8f388e46",
    "_uuid": "efa6e3dbb66ca31c8aa1a2e4ec934c00bbf2e411"
   },
   "source": [
    "**Insight**\n",
    "\n",
    "**More passengers died than survived**\n",
    "\n",
    "38% survived"
   ]
  },
  {
   "cell_type": "markdown",
   "metadata": {
    "_cell_guid": "d9cd643d-14a4-43e6-8eeb-53fca5e2ffb1",
    "_uuid": "fdc97f58b646df5993d1e90ff28abfa2b41b1425"
   },
   "source": [
    "**Question**\n",
    "\n",
    "**Sex: how likely are Female and Male passengers of surviving?**"
   ]
  },
  {
   "cell_type": "code",
   "execution_count": 15,
   "metadata": {
    "_cell_guid": "d6dd2033-80b8-44c6-8d91-95a7353552fd",
    "_uuid": "1b7ef6637506ba053434c3e0b0b3f0bc0cf4d01d"
   },
   "outputs": [
    {
     "data": {
      "text/plain": [
       "Survived  Sex   \n",
       "0         female     81\n",
       "          male      468\n",
       "1         female    233\n",
       "          male      109\n",
       "Name: Survived, dtype: int64"
      ]
     },
     "execution_count": 15,
     "metadata": {},
     "output_type": "execute_result"
    }
   ],
   "source": [
    "df.groupby(['Survived','Sex'])['Survived'].count()"
   ]
  },
  {
   "cell_type": "code",
   "execution_count": 16,
   "metadata": {
    "_cell_guid": "4a6f8e4e-c58f-4f6f-9287-9f9a741431da",
    "_uuid": "11444fc10bb62ac315a6ab2114b9ff54dde3d45e",
    "tags": []
   },
   "outputs": [
    {
     "name": "stdout",
     "output_type": "stream",
     "text": [
      "% of women survived:  0.7420382165605095\n",
      "% of men survived:    0.18890814558058924\n"
     ]
    }
   ],
   "source": [
    "print(\"% of women survived: \" , df[df.Sex == 'female'].Survived.sum()/df[df.Sex == 'female'].Survived.count())\n",
    "print(\"% of men survived:   \" , df[df.Sex == 'male'].Survived.sum()/df[df.Sex == 'male'].Survived.count())"
   ]
  },
  {
   "cell_type": "markdown",
   "metadata": {},
   "source": [
    "**Add a [Trellis Chart](https://seaborn.pydata.org/generated/seaborn.countplot.html#seaborn.countplot) that compare the number of male VS female passengers that died and number of male VS female passengers that survived**"
   ]
  },
  {
   "cell_type": "code",
   "execution_count": 2,
   "metadata": {},
   "outputs": [],
   "source": [
    "#TODO"
   ]
  },
  {
   "cell_type": "markdown",
   "metadata": {},
   "source": [
    "**Add a Pie Chart that compare the % of male VS female passengers that died and % of male VS female passengers that survived**"
   ]
  },
  {
   "cell_type": "code",
   "execution_count": 3,
   "metadata": {},
   "outputs": [],
   "source": [
    "#TODO"
   ]
  },
  {
   "cell_type": "markdown",
   "metadata": {},
   "source": [
    "**Insight**\n",
    "\n",
    "**Sex: Female are more likely to survive than male**\n",
    "\n",
    "74 % of women survived but only 19% of men"
   ]
  },
  {
   "cell_type": "markdown",
   "metadata": {},
   "source": [
    "**Question**\n",
    "\n",
    "**Class: how likely are passengers of surviving accordingly to their class?**"
   ]
  },
  {
   "cell_type": "code",
   "execution_count": 19,
   "metadata": {
    "_cell_guid": "b7182fb8-22cf-4adc-aebb-fb5842a753d6",
    "_uuid": "b48eb33382fbc5ee059c5c851fac9cf010858508"
   },
   "outputs": [
    {
     "data": {
      "text/html": [
       "<style  type=\"text/css\" >\n",
       "    #T_8f939ca8_bea1_11ea_8a43_acde48001122row0_col0 {\n",
       "            background-color:  #ffff00;\n",
       "            color:  #000000;\n",
       "        }    #T_8f939ca8_bea1_11ea_8a43_acde48001122row0_col1 {\n",
       "            background-color:  #ffce00;\n",
       "            color:  #000000;\n",
       "        }    #T_8f939ca8_bea1_11ea_8a43_acde48001122row0_col2 {\n",
       "            background-color:  #fff400;\n",
       "            color:  #000000;\n",
       "        }    #T_8f939ca8_bea1_11ea_8a43_acde48001122row1_col0 {\n",
       "            background-color:  #fff600;\n",
       "            color:  #000000;\n",
       "        }    #T_8f939ca8_bea1_11ea_8a43_acde48001122row1_col1 {\n",
       "            background-color:  #ffff00;\n",
       "            color:  #000000;\n",
       "        }    #T_8f939ca8_bea1_11ea_8a43_acde48001122row1_col2 {\n",
       "            background-color:  #ffff00;\n",
       "            color:  #000000;\n",
       "        }    #T_8f939ca8_bea1_11ea_8a43_acde48001122row2_col0 {\n",
       "            background-color:  #ff6000;\n",
       "            color:  #000000;\n",
       "        }    #T_8f939ca8_bea1_11ea_8a43_acde48001122row2_col1 {\n",
       "            background-color:  #ffdf00;\n",
       "            color:  #000000;\n",
       "        }    #T_8f939ca8_bea1_11ea_8a43_acde48001122row2_col2 {\n",
       "            background-color:  #ff9000;\n",
       "            color:  #000000;\n",
       "        }    #T_8f939ca8_bea1_11ea_8a43_acde48001122row3_col0 {\n",
       "            background-color:  #ff0000;\n",
       "            color:  #f1f1f1;\n",
       "        }    #T_8f939ca8_bea1_11ea_8a43_acde48001122row3_col1 {\n",
       "            background-color:  #ff0000;\n",
       "            color:  #f1f1f1;\n",
       "        }    #T_8f939ca8_bea1_11ea_8a43_acde48001122row3_col2 {\n",
       "            background-color:  #ff0000;\n",
       "            color:  #f1f1f1;\n",
       "        }</style><table id=\"T_8f939ca8_bea1_11ea_8a43_acde48001122\" ><thead>    <tr>        <th class=\"index_name level0\" >Survived</th>        <th class=\"col_heading level0 col0\" >0</th>        <th class=\"col_heading level0 col1\" >1</th>        <th class=\"col_heading level0 col2\" >All</th>    </tr>    <tr>        <th class=\"index_name level0\" >Pclass</th>        <th class=\"blank\" ></th>        <th class=\"blank\" ></th>        <th class=\"blank\" ></th>    </tr></thead><tbody>\n",
       "                <tr>\n",
       "                        <th id=\"T_8f939ca8_bea1_11ea_8a43_acde48001122level0_row0\" class=\"row_heading level0 row0\" >1</th>\n",
       "                        <td id=\"T_8f939ca8_bea1_11ea_8a43_acde48001122row0_col0\" class=\"data row0 col0\" >80</td>\n",
       "                        <td id=\"T_8f939ca8_bea1_11ea_8a43_acde48001122row0_col1\" class=\"data row0 col1\" >136</td>\n",
       "                        <td id=\"T_8f939ca8_bea1_11ea_8a43_acde48001122row0_col2\" class=\"data row0 col2\" >216</td>\n",
       "            </tr>\n",
       "            <tr>\n",
       "                        <th id=\"T_8f939ca8_bea1_11ea_8a43_acde48001122level0_row1\" class=\"row_heading level0 row1\" >2</th>\n",
       "                        <td id=\"T_8f939ca8_bea1_11ea_8a43_acde48001122row1_col0\" class=\"data row1 col0\" >97</td>\n",
       "                        <td id=\"T_8f939ca8_bea1_11ea_8a43_acde48001122row1_col1\" class=\"data row1 col1\" >87</td>\n",
       "                        <td id=\"T_8f939ca8_bea1_11ea_8a43_acde48001122row1_col2\" class=\"data row1 col2\" >184</td>\n",
       "            </tr>\n",
       "            <tr>\n",
       "                        <th id=\"T_8f939ca8_bea1_11ea_8a43_acde48001122level0_row2\" class=\"row_heading level0 row2\" >3</th>\n",
       "                        <td id=\"T_8f939ca8_bea1_11ea_8a43_acde48001122row2_col0\" class=\"data row2 col0\" >372</td>\n",
       "                        <td id=\"T_8f939ca8_bea1_11ea_8a43_acde48001122row2_col1\" class=\"data row2 col1\" >119</td>\n",
       "                        <td id=\"T_8f939ca8_bea1_11ea_8a43_acde48001122row2_col2\" class=\"data row2 col2\" >491</td>\n",
       "            </tr>\n",
       "            <tr>\n",
       "                        <th id=\"T_8f939ca8_bea1_11ea_8a43_acde48001122level0_row3\" class=\"row_heading level0 row3\" >All</th>\n",
       "                        <td id=\"T_8f939ca8_bea1_11ea_8a43_acde48001122row3_col0\" class=\"data row3 col0\" >549</td>\n",
       "                        <td id=\"T_8f939ca8_bea1_11ea_8a43_acde48001122row3_col1\" class=\"data row3 col1\" >342</td>\n",
       "                        <td id=\"T_8f939ca8_bea1_11ea_8a43_acde48001122row3_col2\" class=\"data row3 col2\" >891</td>\n",
       "            </tr>\n",
       "    </tbody></table>"
      ],
      "text/plain": [
       "<pandas.io.formats.style.Styler at 0x7fdf8a874810>"
      ]
     },
     "execution_count": 19,
     "metadata": {},
     "output_type": "execute_result"
    }
   ],
   "source": [
    "pd.crosstab(df.Pclass, df.Survived, margins=True).style.background_gradient(cmap='autumn_r')"
   ]
  },
  {
   "cell_type": "code",
   "execution_count": 20,
   "metadata": {
    "_cell_guid": "051feaa9-c5b0-4035-b002-4b9f2ff7e880",
    "_uuid": "a943c91ea1ce0dd40e8d53c696432e346d6605ab",
    "tags": []
   },
   "outputs": [
    {
     "name": "stdout",
     "output_type": "stream",
     "text": [
      "% of survivals in\n",
      "Pclass=1 :  0.6296296296296297\n",
      "Pclass=2 :  0.47282608695652173\n",
      "Pclass=3 :  0.24236252545824846\n"
     ]
    }
   ],
   "source": [
    "print(\"% of survivals in\") \n",
    "print(\"Pclass=1 : \", df.Survived[df.Pclass == 1].sum()/df[df.Pclass == 1].Survived.count())\n",
    "print(\"Pclass=2 : \", df.Survived[df.Pclass == 2].sum()/df[df.Pclass == 2].Survived.count())\n",
    "print(\"Pclass=3 : \", df.Survived[df.Pclass == 3].sum()/df[df.Pclass == 3].Survived.count())"
   ]
  },
  {
   "cell_type": "markdown",
   "metadata": {},
   "source": [
    "**Add a [point plot](https://seaborn.pydata.org/generated/seaborn.pointplot.html#seaborn.pointplot) to visualise Survival rate according to Passenger Class**"
   ]
  },
  {
   "cell_type": "code",
   "execution_count": 4,
   "metadata": {},
   "outputs": [],
   "source": [
    "#TODO"
   ]
  },
  {
   "cell_type": "markdown",
   "metadata": {
    "_cell_guid": "91aabc83-9f92-4e59-936c-e90fdddb0160",
    "_uuid": "0bb33fe29a3977709a691c74fea426010d120a3c"
   },
   "source": [
    "**Insight**\n",
    "\n",
    "**Passenger Class : Survival rate decreases with Pclass**"
   ]
  },
  {
   "cell_type": "markdown",
   "metadata": {
    "_cell_guid": "aaccbc96-a530-47df-88d4-0f2e3a6abcf0",
    "_uuid": "5dce35a66e5506d07a18cabb0f3440897d459aa7"
   },
   "source": [
    "**Question**\n",
    "\n",
    "**How lileky are passengers to survive based on their Class and Sex?**"
   ]
  },
  {
   "cell_type": "code",
   "execution_count": 12,
   "metadata": {
    "_cell_guid": "620eed70-7c9e-408d-b401-30ee97efd139",
    "_uuid": "e6bf54da5ad3bf4951330540a5671a2129990b52"
   },
   "outputs": [
    {
     "data": {
      "text/html": [
       "<style  type=\"text/css\" >\n",
       "    #T_4ef9a964_be9f_11ea_bf2b_acde48001122row0_col0 {\n",
       "            background-color:  #ffff00;\n",
       "            color:  #000000;\n",
       "        }    #T_4ef9a964_be9f_11ea_bf2b_acde48001122row0_col1 {\n",
       "            background-color:  #ffff00;\n",
       "            color:  #000000;\n",
       "        }    #T_4ef9a964_be9f_11ea_bf2b_acde48001122row0_col2 {\n",
       "            background-color:  #fff100;\n",
       "            color:  #000000;\n",
       "        }    #T_4ef9a964_be9f_11ea_bf2b_acde48001122row0_col3 {\n",
       "            background-color:  #ffff00;\n",
       "            color:  #000000;\n",
       "        }    #T_4ef9a964_be9f_11ea_bf2b_acde48001122row1_col0 {\n",
       "            background-color:  #ff9600;\n",
       "            color:  #000000;\n",
       "        }    #T_4ef9a964_be9f_11ea_bf2b_acde48001122row1_col1 {\n",
       "            background-color:  #ffa300;\n",
       "            color:  #000000;\n",
       "        }    #T_4ef9a964_be9f_11ea_bf2b_acde48001122row1_col2 {\n",
       "            background-color:  #fff100;\n",
       "            color:  #000000;\n",
       "        }    #T_4ef9a964_be9f_11ea_bf2b_acde48001122row1_col3 {\n",
       "            background-color:  #ffcf00;\n",
       "            color:  #000000;\n",
       "        }    #T_4ef9a964_be9f_11ea_bf2b_acde48001122row2_col0 {\n",
       "            background-color:  #ffa700;\n",
       "            color:  #000000;\n",
       "        }    #T_4ef9a964_be9f_11ea_bf2b_acde48001122row2_col1 {\n",
       "            background-color:  #ff8500;\n",
       "            color:  #000000;\n",
       "        }    #T_4ef9a964_be9f_11ea_bf2b_acde48001122row2_col2 {\n",
       "            background-color:  #ff6e00;\n",
       "            color:  #000000;\n",
       "        }    #T_4ef9a964_be9f_11ea_bf2b_acde48001122row2_col3 {\n",
       "            background-color:  #ff8500;\n",
       "            color:  #000000;\n",
       "        }    #T_4ef9a964_be9f_11ea_bf2b_acde48001122row3_col0 {\n",
       "            background-color:  #ffcd00;\n",
       "            color:  #000000;\n",
       "        }    #T_4ef9a964_be9f_11ea_bf2b_acde48001122row3_col1 {\n",
       "            background-color:  #fff000;\n",
       "            color:  #000000;\n",
       "        }    #T_4ef9a964_be9f_11ea_bf2b_acde48001122row3_col2 {\n",
       "            background-color:  #ffff00;\n",
       "            color:  #000000;\n",
       "        }    #T_4ef9a964_be9f_11ea_bf2b_acde48001122row3_col3 {\n",
       "            background-color:  #fff700;\n",
       "            color:  #000000;\n",
       "        }    #T_4ef9a964_be9f_11ea_bf2b_acde48001122row4_col0 {\n",
       "            background-color:  #ff0000;\n",
       "            color:  #f1f1f1;\n",
       "        }    #T_4ef9a964_be9f_11ea_bf2b_acde48001122row4_col1 {\n",
       "            background-color:  #ff0000;\n",
       "            color:  #f1f1f1;\n",
       "        }    #T_4ef9a964_be9f_11ea_bf2b_acde48001122row4_col2 {\n",
       "            background-color:  #ff0000;\n",
       "            color:  #f1f1f1;\n",
       "        }    #T_4ef9a964_be9f_11ea_bf2b_acde48001122row4_col3 {\n",
       "            background-color:  #ff0000;\n",
       "            color:  #f1f1f1;\n",
       "        }</style><table id=\"T_4ef9a964_be9f_11ea_bf2b_acde48001122\" ><thead>    <tr>        <th class=\"blank\" ></th>        <th class=\"index_name level0\" >Pclass</th>        <th class=\"col_heading level0 col0\" >1</th>        <th class=\"col_heading level0 col1\" >2</th>        <th class=\"col_heading level0 col2\" >3</th>        <th class=\"col_heading level0 col3\" >All</th>    </tr>    <tr>        <th class=\"index_name level0\" >Sex</th>        <th class=\"index_name level1\" >Survived</th>        <th class=\"blank\" ></th>        <th class=\"blank\" ></th>        <th class=\"blank\" ></th>        <th class=\"blank\" ></th>    </tr></thead><tbody>\n",
       "                <tr>\n",
       "                        <th id=\"T_4ef9a964_be9f_11ea_bf2b_acde48001122level0_row0\" class=\"row_heading level0 row0\" rowspan=2>female</th>\n",
       "                        <th id=\"T_4ef9a964_be9f_11ea_bf2b_acde48001122level1_row0\" class=\"row_heading level1 row0\" >0</th>\n",
       "                        <td id=\"T_4ef9a964_be9f_11ea_bf2b_acde48001122row0_col0\" class=\"data row0 col0\" >3</td>\n",
       "                        <td id=\"T_4ef9a964_be9f_11ea_bf2b_acde48001122row0_col1\" class=\"data row0 col1\" >6</td>\n",
       "                        <td id=\"T_4ef9a964_be9f_11ea_bf2b_acde48001122row0_col2\" class=\"data row0 col2\" >72</td>\n",
       "                        <td id=\"T_4ef9a964_be9f_11ea_bf2b_acde48001122row0_col3\" class=\"data row0 col3\" >81</td>\n",
       "            </tr>\n",
       "            <tr>\n",
       "                                <th id=\"T_4ef9a964_be9f_11ea_bf2b_acde48001122level1_row1\" class=\"row_heading level1 row1\" >1</th>\n",
       "                        <td id=\"T_4ef9a964_be9f_11ea_bf2b_acde48001122row1_col0\" class=\"data row1 col0\" >91</td>\n",
       "                        <td id=\"T_4ef9a964_be9f_11ea_bf2b_acde48001122row1_col1\" class=\"data row1 col1\" >70</td>\n",
       "                        <td id=\"T_4ef9a964_be9f_11ea_bf2b_acde48001122row1_col2\" class=\"data row1 col2\" >72</td>\n",
       "                        <td id=\"T_4ef9a964_be9f_11ea_bf2b_acde48001122row1_col3\" class=\"data row1 col3\" >233</td>\n",
       "            </tr>\n",
       "            <tr>\n",
       "                        <th id=\"T_4ef9a964_be9f_11ea_bf2b_acde48001122level0_row2\" class=\"row_heading level0 row2\" rowspan=2>male</th>\n",
       "                        <th id=\"T_4ef9a964_be9f_11ea_bf2b_acde48001122level1_row2\" class=\"row_heading level1 row2\" >0</th>\n",
       "                        <td id=\"T_4ef9a964_be9f_11ea_bf2b_acde48001122row2_col0\" class=\"data row2 col0\" >77</td>\n",
       "                        <td id=\"T_4ef9a964_be9f_11ea_bf2b_acde48001122row2_col1\" class=\"data row2 col1\" >91</td>\n",
       "                        <td id=\"T_4ef9a964_be9f_11ea_bf2b_acde48001122row2_col2\" class=\"data row2 col2\" >300</td>\n",
       "                        <td id=\"T_4ef9a964_be9f_11ea_bf2b_acde48001122row2_col3\" class=\"data row2 col3\" >468</td>\n",
       "            </tr>\n",
       "            <tr>\n",
       "                                <th id=\"T_4ef9a964_be9f_11ea_bf2b_acde48001122level1_row3\" class=\"row_heading level1 row3\" >1</th>\n",
       "                        <td id=\"T_4ef9a964_be9f_11ea_bf2b_acde48001122row3_col0\" class=\"data row3 col0\" >45</td>\n",
       "                        <td id=\"T_4ef9a964_be9f_11ea_bf2b_acde48001122row3_col1\" class=\"data row3 col1\" >17</td>\n",
       "                        <td id=\"T_4ef9a964_be9f_11ea_bf2b_acde48001122row3_col2\" class=\"data row3 col2\" >47</td>\n",
       "                        <td id=\"T_4ef9a964_be9f_11ea_bf2b_acde48001122row3_col3\" class=\"data row3 col3\" >109</td>\n",
       "            </tr>\n",
       "            <tr>\n",
       "                        <th id=\"T_4ef9a964_be9f_11ea_bf2b_acde48001122level0_row4\" class=\"row_heading level0 row4\" >All</th>\n",
       "                        <th id=\"T_4ef9a964_be9f_11ea_bf2b_acde48001122level1_row4\" class=\"row_heading level1 row4\" ></th>\n",
       "                        <td id=\"T_4ef9a964_be9f_11ea_bf2b_acde48001122row4_col0\" class=\"data row4 col0\" >216</td>\n",
       "                        <td id=\"T_4ef9a964_be9f_11ea_bf2b_acde48001122row4_col1\" class=\"data row4 col1\" >184</td>\n",
       "                        <td id=\"T_4ef9a964_be9f_11ea_bf2b_acde48001122row4_col2\" class=\"data row4 col2\" >491</td>\n",
       "                        <td id=\"T_4ef9a964_be9f_11ea_bf2b_acde48001122row4_col3\" class=\"data row4 col3\" >891</td>\n",
       "            </tr>\n",
       "    </tbody></table>"
      ],
      "text/plain": [
       "<pandas.io.formats.style.Styler at 0x7faf821cfed0>"
      ]
     },
     "execution_count": 12,
     "metadata": {},
     "output_type": "execute_result"
    }
   ],
   "source": [
    "pd.crosstab([df.Sex, df.Survived], df.Pclass, margins=True).style.background_gradient(cmap='autumn_r')"
   ]
  },
  {
   "cell_type": "markdown",
   "metadata": {},
   "source": [
    "**Add a [point plot](https://seaborn.pydata.org/generated/seaborn.pointplot.html#seaborn.pointplot) to visualise Survival rate according to Passenger Class with a comparaison between male and female**"
   ]
  },
  {
   "cell_type": "code",
   "execution_count": 5,
   "metadata": {},
   "outputs": [],
   "source": [
    "##TODO"
   ]
  },
  {
   "cell_type": "markdown",
   "metadata": {},
   "source": [
    "**Insight**\n",
    "\n",
    "**Almost all women in Pclass 1 and 2 survived and nearly all men in Pclass 2 and 3 died**"
   ]
  },
  {
   "cell_type": "markdown",
   "metadata": {},
   "source": [
    "**Question**\n",
    "\n",
    "**How lileky are passengers to survive based on the Embarked variable?**"
   ]
  },
  {
   "cell_type": "code",
   "execution_count": 24,
   "metadata": {},
   "outputs": [
    {
     "data": {
      "text/html": [
       "<style  type=\"text/css\" >\n",
       "    #T_72135ef6_bea2_11ea_8a43_acde48001122row0_col0 {\n",
       "            background-color:  #fff100;\n",
       "            color:  #000000;\n",
       "        }    #T_72135ef6_bea2_11ea_8a43_acde48001122row0_col1 {\n",
       "            background-color:  #ffcb00;\n",
       "            color:  #000000;\n",
       "        }    #T_72135ef6_bea2_11ea_8a43_acde48001122row0_col2 {\n",
       "            background-color:  #ffe300;\n",
       "            color:  #000000;\n",
       "        }    #T_72135ef6_bea2_11ea_8a43_acde48001122row1_col0 {\n",
       "            background-color:  #ffff00;\n",
       "            color:  #000000;\n",
       "        }    #T_72135ef6_bea2_11ea_8a43_acde48001122row1_col1 {\n",
       "            background-color:  #ffff00;\n",
       "            color:  #000000;\n",
       "        }    #T_72135ef6_bea2_11ea_8a43_acde48001122row1_col2 {\n",
       "            background-color:  #ffff00;\n",
       "            color:  #000000;\n",
       "        }    #T_72135ef6_bea2_11ea_8a43_acde48001122row2_col0 {\n",
       "            background-color:  #ff3e00;\n",
       "            color:  #f1f1f1;\n",
       "        }    #T_72135ef6_bea2_11ea_8a43_acde48001122row2_col1 {\n",
       "            background-color:  #ff6500;\n",
       "            color:  #000000;\n",
       "        }    #T_72135ef6_bea2_11ea_8a43_acde48001122row2_col2 {\n",
       "            background-color:  #ff4d00;\n",
       "            color:  #000000;\n",
       "        }    #T_72135ef6_bea2_11ea_8a43_acde48001122row3_col0 {\n",
       "            background-color:  #ff0000;\n",
       "            color:  #f1f1f1;\n",
       "        }    #T_72135ef6_bea2_11ea_8a43_acde48001122row3_col1 {\n",
       "            background-color:  #ff0000;\n",
       "            color:  #f1f1f1;\n",
       "        }    #T_72135ef6_bea2_11ea_8a43_acde48001122row3_col2 {\n",
       "            background-color:  #ff0000;\n",
       "            color:  #f1f1f1;\n",
       "        }</style><table id=\"T_72135ef6_bea2_11ea_8a43_acde48001122\" ><thead>    <tr>        <th class=\"index_name level0\" >Survived</th>        <th class=\"col_heading level0 col0\" >0</th>        <th class=\"col_heading level0 col1\" >1</th>        <th class=\"col_heading level0 col2\" >All</th>    </tr>    <tr>        <th class=\"index_name level0\" >Embarked</th>        <th class=\"blank\" ></th>        <th class=\"blank\" ></th>        <th class=\"blank\" ></th>    </tr></thead><tbody>\n",
       "                <tr>\n",
       "                        <th id=\"T_72135ef6_bea2_11ea_8a43_acde48001122level0_row0\" class=\"row_heading level0 row0\" >C</th>\n",
       "                        <td id=\"T_72135ef6_bea2_11ea_8a43_acde48001122row0_col0\" class=\"data row0 col0\" >75</td>\n",
       "                        <td id=\"T_72135ef6_bea2_11ea_8a43_acde48001122row0_col1\" class=\"data row0 col1\" >93</td>\n",
       "                        <td id=\"T_72135ef6_bea2_11ea_8a43_acde48001122row0_col2\" class=\"data row0 col2\" >168</td>\n",
       "            </tr>\n",
       "            <tr>\n",
       "                        <th id=\"T_72135ef6_bea2_11ea_8a43_acde48001122level0_row1\" class=\"row_heading level0 row1\" >Q</th>\n",
       "                        <td id=\"T_72135ef6_bea2_11ea_8a43_acde48001122row1_col0\" class=\"data row1 col0\" >47</td>\n",
       "                        <td id=\"T_72135ef6_bea2_11ea_8a43_acde48001122row1_col1\" class=\"data row1 col1\" >30</td>\n",
       "                        <td id=\"T_72135ef6_bea2_11ea_8a43_acde48001122row1_col2\" class=\"data row1 col2\" >77</td>\n",
       "            </tr>\n",
       "            <tr>\n",
       "                        <th id=\"T_72135ef6_bea2_11ea_8a43_acde48001122level0_row2\" class=\"row_heading level0 row2\" >S</th>\n",
       "                        <td id=\"T_72135ef6_bea2_11ea_8a43_acde48001122row2_col0\" class=\"data row2 col0\" >427</td>\n",
       "                        <td id=\"T_72135ef6_bea2_11ea_8a43_acde48001122row2_col1\" class=\"data row2 col1\" >217</td>\n",
       "                        <td id=\"T_72135ef6_bea2_11ea_8a43_acde48001122row2_col2\" class=\"data row2 col2\" >644</td>\n",
       "            </tr>\n",
       "            <tr>\n",
       "                        <th id=\"T_72135ef6_bea2_11ea_8a43_acde48001122level0_row3\" class=\"row_heading level0 row3\" >All</th>\n",
       "                        <td id=\"T_72135ef6_bea2_11ea_8a43_acde48001122row3_col0\" class=\"data row3 col0\" >549</td>\n",
       "                        <td id=\"T_72135ef6_bea2_11ea_8a43_acde48001122row3_col1\" class=\"data row3 col1\" >340</td>\n",
       "                        <td id=\"T_72135ef6_bea2_11ea_8a43_acde48001122row3_col2\" class=\"data row3 col2\" >889</td>\n",
       "            </tr>\n",
       "    </tbody></table>"
      ],
      "text/plain": [
       "<pandas.io.formats.style.Styler at 0x7fdf8afa2d50>"
      ]
     },
     "execution_count": 24,
     "metadata": {},
     "output_type": "execute_result"
    }
   ],
   "source": [
    "pd.crosstab(df.Embarked, df.Survived, margins=True).style.background_gradient(cmap='autumn_r')"
   ]
  },
  {
   "cell_type": "markdown",
   "metadata": {},
   "source": [
    "**Add a [Trellis Chart](https://seaborn.pydata.org/generated/seaborn.countplot.html#seaborn.countplot) to visualise the number of passagers that survived according to Embarked value**"
   ]
  },
  {
   "cell_type": "code",
   "execution_count": 6,
   "metadata": {},
   "outputs": [],
   "source": [
    "#TODO"
   ]
  },
  {
   "cell_type": "markdown",
   "metadata": {},
   "source": [
    "**Add a [point plot](https://seaborn.pydata.org/generated/seaborn.pointplot.html#seaborn.pointplot) to visualise Survival rate according to Embarked Value**"
   ]
  },
  {
   "cell_type": "code",
   "execution_count": 7,
   "metadata": {},
   "outputs": [],
   "source": [
    "#TODO"
   ]
  },
  {
   "cell_type": "markdown",
   "metadata": {},
   "source": [
    "**Insight**\n",
    "\n",
    "**Embarked : Survival rate lowest for S and highest for C**"
   ]
  },
  {
   "cell_type": "markdown",
   "metadata": {},
   "source": [
    "**Question**\n",
    "\n",
    "**How likely are passengers to survive based on the variables Embarked and Sex?**"
   ]
  },
  {
   "cell_type": "code",
   "execution_count": 28,
   "metadata": {},
   "outputs": [
    {
     "data": {
      "text/html": [
       "<style  type=\"text/css\" >\n",
       "    #T_a6166734_bea2_11ea_8a43_acde48001122row0_col0 {\n",
       "            background-color:  #ffff00;\n",
       "            color:  #000000;\n",
       "        }    #T_a6166734_bea2_11ea_8a43_acde48001122row0_col1 {\n",
       "            background-color:  #ffeb00;\n",
       "            color:  #000000;\n",
       "        }    #T_a6166734_bea2_11ea_8a43_acde48001122row0_col2 {\n",
       "            background-color:  #ffff00;\n",
       "            color:  #000000;\n",
       "        }    #T_a6166734_bea2_11ea_8a43_acde48001122row0_col3 {\n",
       "            background-color:  #ffff00;\n",
       "            color:  #000000;\n",
       "        }    #T_a6166734_bea2_11ea_8a43_acde48001122row1_col0 {\n",
       "            background-color:  #ffa700;\n",
       "            color:  #000000;\n",
       "        }    #T_a6166734_bea2_11ea_8a43_acde48001122row1_col1 {\n",
       "            background-color:  #ffac00;\n",
       "            color:  #000000;\n",
       "        }    #T_a6166734_bea2_11ea_8a43_acde48001122row1_col2 {\n",
       "            background-color:  #ffde00;\n",
       "            color:  #000000;\n",
       "        }    #T_a6166734_bea2_11ea_8a43_acde48001122row1_col3 {\n",
       "            background-color:  #ffd000;\n",
       "            color:  #000000;\n",
       "        }    #T_a6166734_bea2_11ea_8a43_acde48001122row2_col0 {\n",
       "            background-color:  #ffa400;\n",
       "            color:  #000000;\n",
       "        }    #T_a6166734_bea2_11ea_8a43_acde48001122row2_col1 {\n",
       "            background-color:  #ff8600;\n",
       "            color:  #000000;\n",
       "        }    #T_a6166734_bea2_11ea_8a43_acde48001122row2_col2 {\n",
       "            background-color:  #ff7b00;\n",
       "            color:  #000000;\n",
       "        }    #T_a6166734_bea2_11ea_8a43_acde48001122row2_col3 {\n",
       "            background-color:  #ff8500;\n",
       "            color:  #000000;\n",
       "        }    #T_a6166734_bea2_11ea_8a43_acde48001122row3_col0 {\n",
       "            background-color:  #ffdf00;\n",
       "            color:  #000000;\n",
       "        }    #T_a6166734_bea2_11ea_8a43_acde48001122row3_col1 {\n",
       "            background-color:  #ffff00;\n",
       "            color:  #000000;\n",
       "        }    #T_a6166734_bea2_11ea_8a43_acde48001122row3_col2 {\n",
       "            background-color:  #fff900;\n",
       "            color:  #000000;\n",
       "        }    #T_a6166734_bea2_11ea_8a43_acde48001122row3_col3 {\n",
       "            background-color:  #fff700;\n",
       "            color:  #000000;\n",
       "        }    #T_a6166734_bea2_11ea_8a43_acde48001122row4_col0 {\n",
       "            background-color:  #ff0000;\n",
       "            color:  #f1f1f1;\n",
       "        }    #T_a6166734_bea2_11ea_8a43_acde48001122row4_col1 {\n",
       "            background-color:  #ff0000;\n",
       "            color:  #f1f1f1;\n",
       "        }    #T_a6166734_bea2_11ea_8a43_acde48001122row4_col2 {\n",
       "            background-color:  #ff0000;\n",
       "            color:  #f1f1f1;\n",
       "        }    #T_a6166734_bea2_11ea_8a43_acde48001122row4_col3 {\n",
       "            background-color:  #ff0000;\n",
       "            color:  #f1f1f1;\n",
       "        }</style><table id=\"T_a6166734_bea2_11ea_8a43_acde48001122\" ><thead>    <tr>        <th class=\"blank\" ></th>        <th class=\"index_name level0\" >Embarked</th>        <th class=\"col_heading level0 col0\" >C</th>        <th class=\"col_heading level0 col1\" >Q</th>        <th class=\"col_heading level0 col2\" >S</th>        <th class=\"col_heading level0 col3\" >All</th>    </tr>    <tr>        <th class=\"index_name level0\" >Sex</th>        <th class=\"index_name level1\" >Survived</th>        <th class=\"blank\" ></th>        <th class=\"blank\" ></th>        <th class=\"blank\" ></th>        <th class=\"blank\" ></th>    </tr></thead><tbody>\n",
       "                <tr>\n",
       "                        <th id=\"T_a6166734_bea2_11ea_8a43_acde48001122level0_row0\" class=\"row_heading level0 row0\" rowspan=2>female</th>\n",
       "                        <th id=\"T_a6166734_bea2_11ea_8a43_acde48001122level1_row0\" class=\"row_heading level1 row0\" >0</th>\n",
       "                        <td id=\"T_a6166734_bea2_11ea_8a43_acde48001122row0_col0\" class=\"data row0 col0\" >9</td>\n",
       "                        <td id=\"T_a6166734_bea2_11ea_8a43_acde48001122row0_col1\" class=\"data row0 col1\" >9</td>\n",
       "                        <td id=\"T_a6166734_bea2_11ea_8a43_acde48001122row0_col2\" class=\"data row0 col2\" >63</td>\n",
       "                        <td id=\"T_a6166734_bea2_11ea_8a43_acde48001122row0_col3\" class=\"data row0 col3\" >81</td>\n",
       "            </tr>\n",
       "            <tr>\n",
       "                                <th id=\"T_a6166734_bea2_11ea_8a43_acde48001122level1_row1\" class=\"row_heading level1 row1\" >1</th>\n",
       "                        <td id=\"T_a6166734_bea2_11ea_8a43_acde48001122row1_col0\" class=\"data row1 col0\" >64</td>\n",
       "                        <td id=\"T_a6166734_bea2_11ea_8a43_acde48001122row1_col1\" class=\"data row1 col1\" >27</td>\n",
       "                        <td id=\"T_a6166734_bea2_11ea_8a43_acde48001122row1_col2\" class=\"data row1 col2\" >140</td>\n",
       "                        <td id=\"T_a6166734_bea2_11ea_8a43_acde48001122row1_col3\" class=\"data row1 col3\" >231</td>\n",
       "            </tr>\n",
       "            <tr>\n",
       "                        <th id=\"T_a6166734_bea2_11ea_8a43_acde48001122level0_row2\" class=\"row_heading level0 row2\" rowspan=2>male</th>\n",
       "                        <th id=\"T_a6166734_bea2_11ea_8a43_acde48001122level1_row2\" class=\"row_heading level1 row2\" >0</th>\n",
       "                        <td id=\"T_a6166734_bea2_11ea_8a43_acde48001122row2_col0\" class=\"data row2 col0\" >66</td>\n",
       "                        <td id=\"T_a6166734_bea2_11ea_8a43_acde48001122row2_col1\" class=\"data row2 col1\" >38</td>\n",
       "                        <td id=\"T_a6166734_bea2_11ea_8a43_acde48001122row2_col2\" class=\"data row2 col2\" >364</td>\n",
       "                        <td id=\"T_a6166734_bea2_11ea_8a43_acde48001122row2_col3\" class=\"data row2 col3\" >468</td>\n",
       "            </tr>\n",
       "            <tr>\n",
       "                                <th id=\"T_a6166734_bea2_11ea_8a43_acde48001122level1_row3\" class=\"row_heading level1 row3\" >1</th>\n",
       "                        <td id=\"T_a6166734_bea2_11ea_8a43_acde48001122row3_col0\" class=\"data row3 col0\" >29</td>\n",
       "                        <td id=\"T_a6166734_bea2_11ea_8a43_acde48001122row3_col1\" class=\"data row3 col1\" >3</td>\n",
       "                        <td id=\"T_a6166734_bea2_11ea_8a43_acde48001122row3_col2\" class=\"data row3 col2\" >77</td>\n",
       "                        <td id=\"T_a6166734_bea2_11ea_8a43_acde48001122row3_col3\" class=\"data row3 col3\" >109</td>\n",
       "            </tr>\n",
       "            <tr>\n",
       "                        <th id=\"T_a6166734_bea2_11ea_8a43_acde48001122level0_row4\" class=\"row_heading level0 row4\" >All</th>\n",
       "                        <th id=\"T_a6166734_bea2_11ea_8a43_acde48001122level1_row4\" class=\"row_heading level1 row4\" ></th>\n",
       "                        <td id=\"T_a6166734_bea2_11ea_8a43_acde48001122row4_col0\" class=\"data row4 col0\" >168</td>\n",
       "                        <td id=\"T_a6166734_bea2_11ea_8a43_acde48001122row4_col1\" class=\"data row4 col1\" >77</td>\n",
       "                        <td id=\"T_a6166734_bea2_11ea_8a43_acde48001122row4_col2\" class=\"data row4 col2\" >644</td>\n",
       "                        <td id=\"T_a6166734_bea2_11ea_8a43_acde48001122row4_col3\" class=\"data row4 col3\" >889</td>\n",
       "            </tr>\n",
       "    </tbody></table>"
      ],
      "text/plain": [
       "<pandas.io.formats.style.Styler at 0x7fdf8b39b210>"
      ]
     },
     "execution_count": 28,
     "metadata": {},
     "output_type": "execute_result"
    }
   ],
   "source": [
    "pd.crosstab([df.Sex, df.Survived], df.Embarked, margins=True).style.background_gradient(cmap='autumn_r')"
   ]
  },
  {
   "cell_type": "markdown",
   "metadata": {},
   "source": [
    "**Add a [point plot](https://seaborn.pydata.org/generated/seaborn.pointplot.html#seaborn.pointplot) to visualise Survival rate according to Embarked Value with a comparaison between male and female**"
   ]
  },
  {
   "cell_type": "code",
   "execution_count": 8,
   "metadata": {},
   "outputs": [],
   "source": [
    "#TODO"
   ]
  },
  {
   "cell_type": "markdown",
   "metadata": {},
   "source": [
    "**Question**\n",
    "\n",
    "**How likely are passengers to survive based on the variables Embarked, Pclass and Sex**"
   ]
  },
  {
   "cell_type": "code",
   "execution_count": 30,
   "metadata": {},
   "outputs": [
    {
     "data": {
      "text/html": [
       "<div>\n",
       "<style scoped>\n",
       "    .dataframe tbody tr th:only-of-type {\n",
       "        vertical-align: middle;\n",
       "    }\n",
       "\n",
       "    .dataframe tbody tr th {\n",
       "        vertical-align: top;\n",
       "    }\n",
       "\n",
       "    .dataframe thead tr th {\n",
       "        text-align: left;\n",
       "    }\n",
       "\n",
       "    .dataframe thead tr:last-of-type th {\n",
       "        text-align: right;\n",
       "    }\n",
       "</style>\n",
       "<table border=\"1\" class=\"dataframe\">\n",
       "  <thead>\n",
       "    <tr>\n",
       "      <th>Sex</th>\n",
       "      <th colspan=\"9\" halign=\"left\">female</th>\n",
       "      <th colspan=\"9\" halign=\"left\">male</th>\n",
       "      <th>All</th>\n",
       "    </tr>\n",
       "    <tr>\n",
       "      <th>Pclass</th>\n",
       "      <th colspan=\"3\" halign=\"left\">1</th>\n",
       "      <th colspan=\"3\" halign=\"left\">2</th>\n",
       "      <th colspan=\"3\" halign=\"left\">3</th>\n",
       "      <th colspan=\"3\" halign=\"left\">1</th>\n",
       "      <th colspan=\"3\" halign=\"left\">2</th>\n",
       "      <th colspan=\"3\" halign=\"left\">3</th>\n",
       "      <th></th>\n",
       "    </tr>\n",
       "    <tr>\n",
       "      <th>Embarked</th>\n",
       "      <th>C</th>\n",
       "      <th>Q</th>\n",
       "      <th>S</th>\n",
       "      <th>C</th>\n",
       "      <th>Q</th>\n",
       "      <th>S</th>\n",
       "      <th>C</th>\n",
       "      <th>Q</th>\n",
       "      <th>S</th>\n",
       "      <th>C</th>\n",
       "      <th>Q</th>\n",
       "      <th>S</th>\n",
       "      <th>C</th>\n",
       "      <th>Q</th>\n",
       "      <th>S</th>\n",
       "      <th>C</th>\n",
       "      <th>Q</th>\n",
       "      <th>S</th>\n",
       "      <th></th>\n",
       "    </tr>\n",
       "    <tr>\n",
       "      <th>Survived</th>\n",
       "      <th></th>\n",
       "      <th></th>\n",
       "      <th></th>\n",
       "      <th></th>\n",
       "      <th></th>\n",
       "      <th></th>\n",
       "      <th></th>\n",
       "      <th></th>\n",
       "      <th></th>\n",
       "      <th></th>\n",
       "      <th></th>\n",
       "      <th></th>\n",
       "      <th></th>\n",
       "      <th></th>\n",
       "      <th></th>\n",
       "      <th></th>\n",
       "      <th></th>\n",
       "      <th></th>\n",
       "      <th></th>\n",
       "    </tr>\n",
       "  </thead>\n",
       "  <tbody>\n",
       "    <tr>\n",
       "      <th>0</th>\n",
       "      <td>1</td>\n",
       "      <td>0</td>\n",
       "      <td>2</td>\n",
       "      <td>0</td>\n",
       "      <td>0</td>\n",
       "      <td>6</td>\n",
       "      <td>8</td>\n",
       "      <td>9</td>\n",
       "      <td>55</td>\n",
       "      <td>25</td>\n",
       "      <td>1</td>\n",
       "      <td>51</td>\n",
       "      <td>8</td>\n",
       "      <td>1</td>\n",
       "      <td>82</td>\n",
       "      <td>33</td>\n",
       "      <td>36</td>\n",
       "      <td>231</td>\n",
       "      <td>549</td>\n",
       "    </tr>\n",
       "    <tr>\n",
       "      <th>1</th>\n",
       "      <td>42</td>\n",
       "      <td>1</td>\n",
       "      <td>46</td>\n",
       "      <td>7</td>\n",
       "      <td>2</td>\n",
       "      <td>61</td>\n",
       "      <td>15</td>\n",
       "      <td>24</td>\n",
       "      <td>33</td>\n",
       "      <td>17</td>\n",
       "      <td>0</td>\n",
       "      <td>28</td>\n",
       "      <td>2</td>\n",
       "      <td>0</td>\n",
       "      <td>15</td>\n",
       "      <td>10</td>\n",
       "      <td>3</td>\n",
       "      <td>34</td>\n",
       "      <td>340</td>\n",
       "    </tr>\n",
       "    <tr>\n",
       "      <th>All</th>\n",
       "      <td>43</td>\n",
       "      <td>1</td>\n",
       "      <td>48</td>\n",
       "      <td>7</td>\n",
       "      <td>2</td>\n",
       "      <td>67</td>\n",
       "      <td>23</td>\n",
       "      <td>33</td>\n",
       "      <td>88</td>\n",
       "      <td>42</td>\n",
       "      <td>1</td>\n",
       "      <td>79</td>\n",
       "      <td>10</td>\n",
       "      <td>1</td>\n",
       "      <td>97</td>\n",
       "      <td>43</td>\n",
       "      <td>39</td>\n",
       "      <td>265</td>\n",
       "      <td>889</td>\n",
       "    </tr>\n",
       "  </tbody>\n",
       "</table>\n",
       "</div>"
      ],
      "text/plain": [
       "Sex      female                              male                            \\\n",
       "Pclass        1         2          3            1          2          3       \n",
       "Embarked      C  Q   S  C  Q   S   C   Q   S    C  Q   S   C  Q   S   C   Q   \n",
       "Survived                                                                      \n",
       "0             1  0   2  0  0   6   8   9  55   25  1  51   8  1  82  33  36   \n",
       "1            42  1  46  7  2  61  15  24  33   17  0  28   2  0  15  10   3   \n",
       "All          43  1  48  7  2  67  23  33  88   42  1  79  10  1  97  43  39   \n",
       "\n",
       "Sex            All  \n",
       "Pclass              \n",
       "Embarked    S       \n",
       "Survived            \n",
       "0         231  549  \n",
       "1          34  340  \n",
       "All       265  889  "
      ]
     },
     "execution_count": 30,
     "metadata": {},
     "output_type": "execute_result"
    }
   ],
   "source": [
    "pd.crosstab([df.Survived], [df.Sex, df.Pclass, df.Embarked], margins=True)"
   ]
  },
  {
   "cell_type": "markdown",
   "metadata": {},
   "source": [
    "**Add a [point plot](https://seaborn.pydata.org/generated/seaborn.pointplot.html#seaborn.pointplot) to visualise Survival rate according to Embarked Value with a comparaison between male and female, with one plot for each Passenger class**"
   ]
  },
  {
   "cell_type": "code",
   "execution_count": 9,
   "metadata": {},
   "outputs": [],
   "source": [
    "#TODO"
   ]
  }
 ],
 "metadata": {
  "kernelspec": {
   "display_name": "Python 3",
   "language": "python",
   "name": "python3"
  },
  "language_info": {
   "codemirror_mode": {
    "name": "ipython",
    "version": 3
   },
   "file_extension": ".py",
   "mimetype": "text/x-python",
   "name": "python",
   "nbconvert_exporter": "python",
   "pygments_lexer": "ipython3",
   "version": "3.7.5"
  }
 },
 "nbformat": 4,
 "nbformat_minor": 4
}