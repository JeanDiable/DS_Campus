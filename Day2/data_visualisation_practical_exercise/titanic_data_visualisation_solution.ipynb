{
 "cells": [
  {
   "cell_type": "markdown",
   "metadata": {
    "_cell_guid": "e4a1cf77-b695-4ca0-9653-6c41ce2393d8",
    "_uuid": "ca91678a9dc8cc103a7fbf799a5d903a011334ef"
   },
   "source": [
    "## Some Background Information\n",
    "\n",
    "\n",
    "**The sinking of the RMS Titanic in the early morning of 15 April 1912, four days into the ship's maiden voyage from Southampton to New York City, was one of the deadliest peacetime maritime disasters in history, killing more than 1,500 people. The largest passenger liner in service at the time, Titanic had an estimated 2,224 people on board when she struck an iceberg in the North Atlantic. The ship had received six warnings of sea ice but was travelling at near maximum speed when the lookouts sighted the iceberg. Unable to turn quickly enough, the ship suffered a glancing blow that buckled the starboard (right) side and opened five of sixteen compartments to the sea. The disaster caused widespread outrage over the lack of lifeboats, lax regulations, and the unequal treatment of the three passenger classes during the evacuation. Inquiries recommended sweeping changes to maritime regulations, leading to the International Convention for the Safety of Life at Sea (1914), which continues to govern maritime safety.**  \n",
    "*from Wikipedia*"
   ]
  },
  {
   "cell_type": "markdown",
   "metadata": {
    "_cell_guid": "998b2a03-c60e-4fd6-9f69-784de6e6c9b8",
    "_uuid": "d3086cb02907affe5a674b54e4baaedd632482c7"
   },
   "source": [
    "**Imports**"
   ]
  },
  {
   "cell_type": "code",
   "execution_count": 2,
   "metadata": {
    "_cell_guid": "872b97b2-56fe-4644-a11f-afb00f422169",
    "_uuid": "efb595c75201cdb2a53388dc152a8e526e1b921a",
    "tags": []
   },
   "outputs": [],
   "source": [
    "import pandas as pd"
   ]
  },
  {
   "cell_type": "code",
   "execution_count": 3,
   "metadata": {
    "_cell_guid": "080fb327-390d-4124-b287-a561d050fe7e",
    "_uuid": "0333d5086a63e3870708e7ba7a540d036c53544e"
   },
   "outputs": [],
   "source": [
    "df = pd.read_csv(\"titanic_data.csv\")"
   ]
  },
  {
   "cell_type": "markdown",
   "metadata": {
    "_cell_guid": "6c7d2500-95b1-4057-98f7-39100e8a6d7f",
    "_uuid": "13fd8422db7a1ceae9ebb002df452e8293a9ab0c"
   },
   "source": [
    "## Exploratory Data Analysis"
   ]
  },
  {
   "cell_type": "code",
   "execution_count": 4,
   "metadata": {
    "_cell_guid": "17a3c0a2-3aad-47f4-be6f-e8756bddf080",
    "_uuid": "48a2091edbeacc9c23dad6bc0c64d0302d01b87b"
   },
   "outputs": [
    {
     "data": {
      "text/html": [
       "<div>\n",
       "<style scoped>\n",
       "    .dataframe tbody tr th:only-of-type {\n",
       "        vertical-align: middle;\n",
       "    }\n",
       "\n",
       "    .dataframe tbody tr th {\n",
       "        vertical-align: top;\n",
       "    }\n",
       "\n",
       "    .dataframe thead th {\n",
       "        text-align: right;\n",
       "    }\n",
       "</style>\n",
       "<table border=\"1\" class=\"dataframe\">\n",
       "  <thead>\n",
       "    <tr style=\"text-align: right;\">\n",
       "      <th></th>\n",
       "      <th>PassengerId</th>\n",
       "      <th>Survived</th>\n",
       "      <th>Pclass</th>\n",
       "      <th>Name</th>\n",
       "      <th>Sex</th>\n",
       "      <th>Age</th>\n",
       "      <th>SibSp</th>\n",
       "      <th>Parch</th>\n",
       "      <th>Ticket</th>\n",
       "      <th>Fare</th>\n",
       "      <th>Cabin</th>\n",
       "      <th>Embarked</th>\n",
       "    </tr>\n",
       "  </thead>\n",
       "  <tbody>\n",
       "    <tr>\n",
       "      <th>0</th>\n",
       "      <td>1</td>\n",
       "      <td>0</td>\n",
       "      <td>3</td>\n",
       "      <td>Braund, Mr. Owen Harris</td>\n",
       "      <td>male</td>\n",
       "      <td>22.0</td>\n",
       "      <td>1</td>\n",
       "      <td>0</td>\n",
       "      <td>A/5 21171</td>\n",
       "      <td>7.2500</td>\n",
       "      <td>NaN</td>\n",
       "      <td>S</td>\n",
       "    </tr>\n",
       "    <tr>\n",
       "      <th>1</th>\n",
       "      <td>2</td>\n",
       "      <td>1</td>\n",
       "      <td>1</td>\n",
       "      <td>Cumings, Mrs. John Bradley (Florence Briggs Th...</td>\n",
       "      <td>female</td>\n",
       "      <td>38.0</td>\n",
       "      <td>1</td>\n",
       "      <td>0</td>\n",
       "      <td>PC 17599</td>\n",
       "      <td>71.2833</td>\n",
       "      <td>C85</td>\n",
       "      <td>C</td>\n",
       "    </tr>\n",
       "    <tr>\n",
       "      <th>2</th>\n",
       "      <td>3</td>\n",
       "      <td>1</td>\n",
       "      <td>3</td>\n",
       "      <td>Heikkinen, Miss. Laina</td>\n",
       "      <td>female</td>\n",
       "      <td>26.0</td>\n",
       "      <td>0</td>\n",
       "      <td>0</td>\n",
       "      <td>STON/O2. 3101282</td>\n",
       "      <td>7.9250</td>\n",
       "      <td>NaN</td>\n",
       "      <td>S</td>\n",
       "    </tr>\n",
       "    <tr>\n",
       "      <th>3</th>\n",
       "      <td>4</td>\n",
       "      <td>1</td>\n",
       "      <td>1</td>\n",
       "      <td>Futrelle, Mrs. Jacques Heath (Lily May Peel)</td>\n",
       "      <td>female</td>\n",
       "      <td>35.0</td>\n",
       "      <td>1</td>\n",
       "      <td>0</td>\n",
       "      <td>113803</td>\n",
       "      <td>53.1000</td>\n",
       "      <td>C123</td>\n",
       "      <td>S</td>\n",
       "    </tr>\n",
       "    <tr>\n",
       "      <th>4</th>\n",
       "      <td>5</td>\n",
       "      <td>0</td>\n",
       "      <td>3</td>\n",
       "      <td>Allen, Mr. William Henry</td>\n",
       "      <td>male</td>\n",
       "      <td>35.0</td>\n",
       "      <td>0</td>\n",
       "      <td>0</td>\n",
       "      <td>373450</td>\n",
       "      <td>8.0500</td>\n",
       "      <td>NaN</td>\n",
       "      <td>S</td>\n",
       "    </tr>\n",
       "  </tbody>\n",
       "</table>\n",
       "</div>"
      ],
      "text/plain": [
       "   PassengerId  Survived  Pclass  \\\n",
       "0            1         0       3   \n",
       "1            2         1       1   \n",
       "2            3         1       3   \n",
       "3            4         1       1   \n",
       "4            5         0       3   \n",
       "\n",
       "                                                Name     Sex   Age  SibSp  \\\n",
       "0                            Braund, Mr. Owen Harris    male  22.0      1   \n",
       "1  Cumings, Mrs. John Bradley (Florence Briggs Th...  female  38.0      1   \n",
       "2                             Heikkinen, Miss. Laina  female  26.0      0   \n",
       "3       Futrelle, Mrs. Jacques Heath (Lily May Peel)  female  35.0      1   \n",
       "4                           Allen, Mr. William Henry    male  35.0      0   \n",
       "\n",
       "   Parch            Ticket     Fare Cabin Embarked  \n",
       "0      0         A/5 21171   7.2500   NaN        S  \n",
       "1      0          PC 17599  71.2833   C85        C  \n",
       "2      0  STON/O2. 3101282   7.9250   NaN        S  \n",
       "3      0            113803  53.1000  C123        S  \n",
       "4      0            373450   8.0500   NaN        S  "
      ]
     },
     "execution_count": 4,
     "metadata": {},
     "output_type": "execute_result"
    }
   ],
   "source": [
    "df.head()"
   ]
  },
  {
   "cell_type": "markdown",
   "metadata": {},
   "source": [
    "**Question**\n",
    "\n",
    "**How many passengers are in the dataset? Are there any missing values in the dataset?**"
   ]
  },
  {
   "cell_type": "code",
   "execution_count": 4,
   "metadata": {
    "tags": []
   },
   "outputs": [
    {
     "name": "stdout",
     "output_type": "stream",
     "text": [
      "<class 'pandas.core.frame.DataFrame'>\n",
      "RangeIndex: 891 entries, 0 to 890\n",
      "Data columns (total 12 columns):\n",
      " #   Column       Non-Null Count  Dtype  \n",
      "---  ------       --------------  -----  \n",
      " 0   PassengerId  891 non-null    int64  \n",
      " 1   Survived     891 non-null    int64  \n",
      " 2   Pclass       891 non-null    int64  \n",
      " 3   Name         891 non-null    object \n",
      " 4   Sex          891 non-null    object \n",
      " 5   Age          714 non-null    float64\n",
      " 6   SibSp        891 non-null    int64  \n",
      " 7   Parch        891 non-null    int64  \n",
      " 8   Ticket       891 non-null    object \n",
      " 9   Fare         891 non-null    float64\n",
      " 10  Cabin        204 non-null    object \n",
      " 11  Embarked     889 non-null    object \n",
      "dtypes: float64(2), int64(5), object(5)\n",
      "memory usage: 83.7+ KB\n"
     ]
    }
   ],
   "source": [
    "df.info()"
   ]
  },
  {
   "cell_type": "code",
   "execution_count": null,
   "metadata": {},
   "outputs": [],
   "source": []
  },
  {
   "cell_type": "markdown",
   "metadata": {
    "_cell_guid": "4e0c12ed-f9a7-4a2d-b33c-8e139c6387d1",
    "_uuid": "5f7bf32c6766cffd95125d01d24ccb7204611f45"
   },
   "source": [
    "**Insight**\n",
    "\n",
    "** The dataset has 891 entries, some values for Cabin and Age are missing**"
   ]
  },
  {
   "cell_type": "code",
   "execution_count": 5,
   "metadata": {
    "_cell_guid": "0e3973cb-3dee-4dab-9c7f-f4902f62c360",
    "_uuid": "b0c4e63035e9517722d8dbf8b2bc984410456181"
   },
   "outputs": [
    {
     "data": {
      "text/html": [
       "<div>\n",
       "<style scoped>\n",
       "    .dataframe tbody tr th:only-of-type {\n",
       "        vertical-align: middle;\n",
       "    }\n",
       "\n",
       "    .dataframe tbody tr th {\n",
       "        vertical-align: top;\n",
       "    }\n",
       "\n",
       "    .dataframe thead th {\n",
       "        text-align: right;\n",
       "    }\n",
       "</style>\n",
       "<table border=\"1\" class=\"dataframe\">\n",
       "  <thead>\n",
       "    <tr style=\"text-align: right;\">\n",
       "      <th></th>\n",
       "      <th>PassengerId</th>\n",
       "      <th>Survived</th>\n",
       "      <th>Pclass</th>\n",
       "      <th>Age</th>\n",
       "      <th>SibSp</th>\n",
       "      <th>Parch</th>\n",
       "      <th>Fare</th>\n",
       "    </tr>\n",
       "  </thead>\n",
       "  <tbody>\n",
       "    <tr>\n",
       "      <th>count</th>\n",
       "      <td>891.000000</td>\n",
       "      <td>891.000000</td>\n",
       "      <td>891.000000</td>\n",
       "      <td>714.000000</td>\n",
       "      <td>891.000000</td>\n",
       "      <td>891.000000</td>\n",
       "      <td>891.000000</td>\n",
       "    </tr>\n",
       "    <tr>\n",
       "      <th>mean</th>\n",
       "      <td>446.000000</td>\n",
       "      <td>0.383838</td>\n",
       "      <td>2.308642</td>\n",
       "      <td>29.699118</td>\n",
       "      <td>0.523008</td>\n",
       "      <td>0.381594</td>\n",
       "      <td>32.204208</td>\n",
       "    </tr>\n",
       "    <tr>\n",
       "      <th>std</th>\n",
       "      <td>257.353842</td>\n",
       "      <td>0.486592</td>\n",
       "      <td>0.836071</td>\n",
       "      <td>14.526497</td>\n",
       "      <td>1.102743</td>\n",
       "      <td>0.806057</td>\n",
       "      <td>49.693429</td>\n",
       "    </tr>\n",
       "    <tr>\n",
       "      <th>min</th>\n",
       "      <td>1.000000</td>\n",
       "      <td>0.000000</td>\n",
       "      <td>1.000000</td>\n",
       "      <td>0.420000</td>\n",
       "      <td>0.000000</td>\n",
       "      <td>0.000000</td>\n",
       "      <td>0.000000</td>\n",
       "    </tr>\n",
       "    <tr>\n",
       "      <th>25%</th>\n",
       "      <td>223.500000</td>\n",
       "      <td>0.000000</td>\n",
       "      <td>2.000000</td>\n",
       "      <td>20.125000</td>\n",
       "      <td>0.000000</td>\n",
       "      <td>0.000000</td>\n",
       "      <td>7.910400</td>\n",
       "    </tr>\n",
       "    <tr>\n",
       "      <th>50%</th>\n",
       "      <td>446.000000</td>\n",
       "      <td>0.000000</td>\n",
       "      <td>3.000000</td>\n",
       "      <td>28.000000</td>\n",
       "      <td>0.000000</td>\n",
       "      <td>0.000000</td>\n",
       "      <td>14.454200</td>\n",
       "    </tr>\n",
       "    <tr>\n",
       "      <th>75%</th>\n",
       "      <td>668.500000</td>\n",
       "      <td>1.000000</td>\n",
       "      <td>3.000000</td>\n",
       "      <td>38.000000</td>\n",
       "      <td>1.000000</td>\n",
       "      <td>0.000000</td>\n",
       "      <td>31.000000</td>\n",
       "    </tr>\n",
       "    <tr>\n",
       "      <th>max</th>\n",
       "      <td>891.000000</td>\n",
       "      <td>1.000000</td>\n",
       "      <td>3.000000</td>\n",
       "      <td>80.000000</td>\n",
       "      <td>8.000000</td>\n",
       "      <td>6.000000</td>\n",
       "      <td>512.329200</td>\n",
       "    </tr>\n",
       "  </tbody>\n",
       "</table>\n",
       "</div>"
      ],
      "text/plain": [
       "       PassengerId    Survived      Pclass         Age       SibSp  \\\n",
       "count   891.000000  891.000000  891.000000  714.000000  891.000000   \n",
       "mean    446.000000    0.383838    2.308642   29.699118    0.523008   \n",
       "std     257.353842    0.486592    0.836071   14.526497    1.102743   \n",
       "min       1.000000    0.000000    1.000000    0.420000    0.000000   \n",
       "25%     223.500000    0.000000    2.000000   20.125000    0.000000   \n",
       "50%     446.000000    0.000000    3.000000   28.000000    0.000000   \n",
       "75%     668.500000    1.000000    3.000000   38.000000    1.000000   \n",
       "max     891.000000    1.000000    3.000000   80.000000    8.000000   \n",
       "\n",
       "            Parch        Fare  \n",
       "count  891.000000  891.000000  \n",
       "mean     0.381594   32.204208  \n",
       "std      0.806057   49.693429  \n",
       "min      0.000000    0.000000  \n",
       "25%      0.000000    7.910400  \n",
       "50%      0.000000   14.454200  \n",
       "75%      0.000000   31.000000  \n",
       "max      6.000000  512.329200  "
      ]
     },
     "execution_count": 5,
     "metadata": {},
     "output_type": "execute_result"
    }
   ],
   "source": [
    "df.describe()"
   ]
  },
  {
   "cell_type": "markdown",
   "metadata": {
    "_cell_guid": "94c7f3de-746d-44cb-9a9d-43f32527948c",
    "_uuid": "20287febf1b25ddf9eccfbb88e363bdb80f3d958"
   },
   "source": [
    "**Question**\n",
    "\n",
    "**Of all passengers in df, how many survived?**"
   ]
  },
  {
   "cell_type": "code",
   "execution_count": 5,
   "metadata": {
    "_cell_guid": "d2bd2723-3a68-4e94-a629-7a0fca99cb2a",
    "_uuid": "3fe99f565401dae73cfecd3fb2cf8dc201119b36",
    "tags": []
   },
   "outputs": [
    {
     "name": "stdout",
     "output_type": "stream",
     "text": [
      "% of passengers survived:  0.3838383838383838\n"
     ]
    }
   ],
   "source": [
    "print(\"% of passengers survived: \", df.Survived.sum()/df.Survived.count())"
   ]
  },
  {
   "cell_type": "markdown",
   "metadata": {},
   "source": [
    "**Add a Pie Chart with % of passengers that survived**"
   ]
  },
  {
   "cell_type": "code",
   "execution_count": 8,
   "metadata": {},
   "outputs": [
    {
     "data": {
      "text/plain": [
       "<matplotlib.axes._subplots.AxesSubplot at 0x1a1b1ce630>"
      ]
     },
     "execution_count": 8,
     "metadata": {},
     "output_type": "execute_result"
    },
    {
     "data": {
      "image/png": "[encoded data removed]",
      "text/plain": [
       "<Figure size 432x288 with 1 Axes>"
      ]
     },
     "metadata": {},
     "output_type": "display_data"
    }
   ],
   "source": [
    "%matplotlib inline\n",
    "import seaborn as sns\n",
    "df.Survived.value_counts().plot.pie()"
   ]
  },
  {
   "cell_type": "markdown",
   "metadata": {},
   "source": [
    "**Add a Bar Chart with number of passengers that survived**"
   ]
  },
  {
   "cell_type": "code",
   "execution_count": 14,
   "metadata": {},
   "outputs": [
    {
     "data": {
      "text/plain": [
       "<matplotlib.axes._subplots.AxesSubplot at 0x7fdf8a175250>"
      ]
     },
     "execution_count": 14,
     "metadata": {},
     "output_type": "execute_result"
    },
    {
     "data": {
      "image/png": "[encoded data removed]",
      "image/svg+xml": [
       "<?xml version=\"1.0\" encoding=\"utf-8\" standalone=\"no\"?>\n",
       "<!DOCTYPE svg PUBLIC \"-//W3C//DTD SVG 1.1//EN\"\n",
       "  \"http://www.w3.org/Graphics/SVG/1.1/DTD/svg11.dtd\">\n",
       "<!-- Created with matplotlib (https://matplotlib.org/) -->\n",
       "<svg height=\"262.19625pt\" version=\"1.1\" viewBox=\"0 0 388.965625 262.19625\" width=\"388.965625pt\" xmlns=\"http://www.w3.org/2000/svg\" xmlns:xlink=\"http://www.w3.org/1999/xlink\">\n",
       " <defs>\n",
       "  <style type=\"text/css\">\n",
       "*{stroke-linecap:butt;stroke-linejoin:round;}\n",
       "  </style>\n",
       " </defs>\n",
       " <g id=\"figure_1\">\n",
       "  <g id=\"patch_1\">\n",
       "   <path d=\"M -0 262.19625 \n",
       "L 388.965625 262.19625 \n",
       "L 388.965625 0 \n",
       "L -0 0 \n",
       "z\n",
       "\" style=\"fill:none;\"/>\n",
       "  </g>\n",
       "  <g id=\"axes_1\">\n",
       "   <g id=\"patch_2\">\n",
       "    <path d=\"M 46.965625 224.64 \n",
       "L 381.765625 224.64 \n",
       "L 381.765625 7.2 \n",
       "L 46.965625 7.2 \n",
       "z\n",
       "\" style=\"fill:#ffffff;\"/>\n",
       "   </g>\n",
       "   <g id=\"patch_3\">\n",
       "    <path clip-path=\"url(#p07fad3ca9d)\" d=\"M 63.705625 224.64 \n",
       "L 197.625625 224.64 \n",
       "L 197.625625 17.554286 \n",
       "L 63.705625 17.554286 \n",
       "z\n",
       "\" style=\"fill:#3274a1;\"/>\n",
       "   </g>\n",
       "   <g id=\"patch_4\">\n",
       "    <path clip-path=\"url(#p07fad3ca9d)\" d=\"M 231.105625 224.64 \n",
       "L 365.025625 224.64 \n",
       "L 365.025625 95.635785 \n",
       "L 231.105625 95.635785 \n",
       "z\n",
       "\" style=\"fill:#e1812c;\"/>\n",
       "   </g>\n",
       "   <g id=\"patch_5\">\n",
       "    <path clip-path=\"url(#p07fad3ca9d)\" d=\"M 63.705625 224.64 \n",
       "L 197.625625 224.64 \n",
       "L 197.625625 17.554286 \n",
       "L 63.705625 17.554286 \n",
       "z\n",
       "\" style=\"fill:#3274a1;\"/>\n",
       "   </g>\n",
       "   <g id=\"patch_6\">\n",
       "    <path clip-path=\"url(#p07fad3ca9d)\" d=\"M 231.105625 224.64 \n",
       "L 365.025625 224.64 \n",
       "L 365.025625 95.635785 \n",
       "L 231.105625 95.635785 \n",
       "z\n",
       "\" style=\"fill:#e1812c;\"/>\n",
       "   </g>\n",
       "   <g id=\"matplotlib.axis_1\">\n",
       "    <g id=\"xtick_1\">\n",
       "     <g id=\"line2d_1\">\n",
       "      <defs>\n",
       "       <path d=\"M 0 0 \n",
       "L 0 3.5 \n",
       "\" id=\"mabeb102c0e\" style=\"stroke:#000000;stroke-width:0.8;\"/>\n",
       "      </defs>\n",
       "      <g>\n",
       "       <use style=\"stroke:#000000;stroke-width:0.8;\" x=\"130.665625\" xlink:href=\"#mabeb102c0e\" y=\"224.64\"/>\n",
       "      </g>\n",
       "     </g>\n",
       "     <g id=\"text_1\">\n",
       "      <!-- 0 -->\n",
       "      <defs>\n",
       "       <path d=\"M 31.78125 66.40625 \n",
       "Q 24.171875 66.40625 20.328125 58.90625 \n",
       "Q 16.5 51.421875 16.5 36.375 \n",
       "Q 16.5 21.390625 20.328125 13.890625 \n",
       "Q 24.171875 6.390625 31.78125 6.390625 \n",
       "Q 39.453125 6.390625 43.28125 13.890625 \n",
       "Q 47.125 21.390625 47.125 36.375 \n",
       "Q 47.125 51.421875 43.28125 58.90625 \n",
       "Q 39.453125 66.40625 31.78125 66.40625 \n",
       "z\n",
       "M 31.78125 74.21875 \n",
       "Q 44.046875 74.21875 50.515625 64.515625 \n",
       "Q 56.984375 54.828125 56.984375 36.375 \n",
       "Q 56.984375 17.96875 50.515625 8.265625 \n",
       "Q 44.046875 -1.421875 31.78125 -1.421875 \n",
       "Q 19.53125 -1.421875 13.0625 8.265625 \n",
       "Q 6.59375 17.96875 6.59375 36.375 \n",
       "Q 6.59375 54.828125 13.0625 64.515625 \n",
       "Q 19.53125 74.21875 31.78125 74.21875 \n",
       "z\n",
       "\" id=\"DejaVuSans-48\"/>\n",
       "      </defs>\n",
       "      <g transform=\"translate(127.484375 239.238437)scale(0.1 -0.1)\">\n",
       "       <use xlink:href=\"#DejaVuSans-48\"/>\n",
       "      </g>\n",
       "     </g>\n",
       "    </g>\n",
       "    <g id=\"xtick_2\">\n",
       "     <g id=\"line2d_2\">\n",
       "      <g>\n",
       "       <use style=\"stroke:#000000;stroke-width:0.8;\" x=\"298.065625\" xlink:href=\"#mabeb102c0e\" y=\"224.64\"/>\n",
       "      </g>\n",
       "     </g>\n",
       "     <g id=\"text_2\">\n",
       "      <!-- 1 -->\n",
       "      <defs>\n",
       "       <path d=\"M 12.40625 8.296875 \n",
       "L 28.515625 8.296875 \n",
       "L 28.515625 63.921875 \n",
       "L 10.984375 60.40625 \n",
       "L 10.984375 69.390625 \n",
       "L 28.421875 72.90625 \n",
       "L 38.28125 72.90625 \n",
       "L 38.28125 8.296875 \n",
       "L 54.390625 8.296875 \n",
       "L 54.390625 0 \n",
       "L 12.40625 0 \n",
       "z\n",
       "\" id=\"DejaVuSans-49\"/>\n",
       "      </defs>\n",
       "      <g transform=\"translate(294.884375 239.238437)scale(0.1 -0.1)\">\n",
       "       <use xlink:href=\"#DejaVuSans-49\"/>\n",
       "      </g>\n",
       "     </g>\n",
       "    </g>\n",
       "    <g id=\"text_3\">\n",
       "     <!-- Survived -->\n",
       "     <defs>\n",
       "      <path d=\"M 53.515625 70.515625 \n",
       "L 53.515625 60.890625 \n",
       "Q 47.90625 63.578125 42.921875 64.890625 \n",
       "Q 37.9375 66.21875 33.296875 66.21875 \n",
       "Q 25.25 66.21875 20.875 63.09375 \n",
       "Q 16.5 59.96875 16.5 54.203125 \n",
       "Q 16.5 49.359375 19.40625 46.890625 \n",
       "Q 22.3125 44.4375 30.421875 42.921875 \n",
       "L 36.375 41.703125 \n",
       "Q 47.40625 39.59375 52.65625 34.296875 \n",
       "Q 57.90625 29 57.90625 20.125 \n",
       "Q 57.90625 9.515625 50.796875 4.046875 \n",
       "Q 43.703125 -1.421875 29.984375 -1.421875 \n",
       "Q 24.8125 -1.421875 18.96875 -0.25 \n",
       "Q 13.140625 0.921875 6.890625 3.21875 \n",
       "L 6.890625 13.375 \n",
       "Q 12.890625 10.015625 18.65625 8.296875 \n",
       "Q 24.421875 6.59375 29.984375 6.59375 \n",
       "Q 38.421875 6.59375 43.015625 9.90625 \n",
       "Q 47.609375 13.234375 47.609375 19.390625 \n",
       "Q 47.609375 24.75 44.3125 27.78125 \n",
       "Q 41.015625 30.8125 33.5 32.328125 \n",
       "L 27.484375 33.5 \n",
       "Q 16.453125 35.6875 11.515625 40.375 \n",
       "Q 6.59375 45.0625 6.59375 53.421875 \n",
       "Q 6.59375 63.09375 13.40625 68.65625 \n",
       "Q 20.21875 74.21875 32.171875 74.21875 \n",
       "Q 37.3125 74.21875 42.625 73.28125 \n",
       "Q 47.953125 72.359375 53.515625 70.515625 \n",
       "z\n",
       "\" id=\"DejaVuSans-83\"/>\n",
       "      <path d=\"M 8.5 21.578125 \n",
       "L 8.5 54.6875 \n",
       "L 17.484375 54.6875 \n",
       "L 17.484375 21.921875 \n",
       "Q 17.484375 14.15625 20.5 10.265625 \n",
       "Q 23.53125 6.390625 29.59375 6.390625 \n",
       "Q 36.859375 6.390625 41.078125 11.03125 \n",
       "Q 45.3125 15.671875 45.3125 23.6875 \n",
       "L 45.3125 54.6875 \n",
       "L 54.296875 54.6875 \n",
       "L 54.296875 0 \n",
       "L 45.3125 0 \n",
       "L 45.3125 8.40625 \n",
       "Q 42.046875 3.421875 37.71875 1 \n",
       "Q 33.40625 -1.421875 27.6875 -1.421875 \n",
       "Q 18.265625 -1.421875 13.375 4.4375 \n",
       "Q 8.5 10.296875 8.5 21.578125 \n",
       "z\n",
       "M 31.109375 56 \n",
       "z\n",
       "\" id=\"DejaVuSans-117\"/>\n",
       "      <path d=\"M 41.109375 46.296875 \n",
       "Q 39.59375 47.171875 37.8125 47.578125 \n",
       "Q 36.03125 48 33.890625 48 \n",
       "Q 26.265625 48 22.1875 43.046875 \n",
       "Q 18.109375 38.09375 18.109375 28.8125 \n",
       "L 18.109375 0 \n",
       "L 9.078125 0 \n",
       "L 9.078125 54.6875 \n",
       "L 18.109375 54.6875 \n",
       "L 18.109375 46.1875 \n",
       "Q 20.953125 51.171875 25.484375 53.578125 \n",
       "Q 30.03125 56 36.53125 56 \n",
       "Q 37.453125 56 38.578125 55.875 \n",
       "Q 39.703125 55.765625 41.0625 55.515625 \n",
       "z\n",
       "\" id=\"DejaVuSans-114\"/>\n",
       "      <path d=\"M 2.984375 54.6875 \n",
       "L 12.5 54.6875 \n",
       "L 29.59375 8.796875 \n",
       "L 46.6875 54.6875 \n",
       "L 56.203125 54.6875 \n",
       "L 35.6875 0 \n",
       "L 23.484375 0 \n",
       "z\n",
       "\" id=\"DejaVuSans-118\"/>\n",
       "      <path d=\"M 9.421875 54.6875 \n",
       "L 18.40625 54.6875 \n",
       "L 18.40625 0 \n",
       "L 9.421875 0 \n",
       "z\n",
       "M 9.421875 75.984375 \n",
       "L 18.40625 75.984375 \n",
       "L 18.40625 64.59375 \n",
       "L 9.421875 64.59375 \n",
       "z\n",
       "\" id=\"DejaVuSans-105\"/>\n",
       "      <path d=\"M 56.203125 29.59375 \n",
       "L 56.203125 25.203125 \n",
       "L 14.890625 25.203125 \n",
       "Q 15.484375 15.921875 20.484375 11.0625 \n",
       "Q 25.484375 6.203125 34.421875 6.203125 \n",
       "Q 39.59375 6.203125 44.453125 7.46875 \n",
       "Q 49.3125 8.734375 54.109375 11.28125 \n",
       "L 54.109375 2.78125 \n",
       "Q 49.265625 0.734375 44.1875 -0.34375 \n",
       "Q 39.109375 -1.421875 33.890625 -1.421875 \n",
       "Q 20.796875 -1.421875 13.15625 6.1875 \n",
       "Q 5.515625 13.8125 5.515625 26.8125 \n",
       "Q 5.515625 40.234375 12.765625 48.109375 \n",
       "Q 20.015625 56 32.328125 56 \n",
       "Q 43.359375 56 49.78125 48.890625 \n",
       "Q 56.203125 41.796875 56.203125 29.59375 \n",
       "z\n",
       "M 47.21875 32.234375 \n",
       "Q 47.125 39.59375 43.09375 43.984375 \n",
       "Q 39.0625 48.390625 32.421875 48.390625 \n",
       "Q 24.90625 48.390625 20.390625 44.140625 \n",
       "Q 15.875 39.890625 15.1875 32.171875 \n",
       "z\n",
       "\" id=\"DejaVuSans-101\"/>\n",
       "      <path d=\"M 45.40625 46.390625 \n",
       "L 45.40625 75.984375 \n",
       "L 54.390625 75.984375 \n",
       "L 54.390625 0 \n",
       "L 45.40625 0 \n",
       "L 45.40625 8.203125 \n",
       "Q 42.578125 3.328125 38.25 0.953125 \n",
       "Q 33.9375 -1.421875 27.875 -1.421875 \n",
       "Q 17.96875 -1.421875 11.734375 6.484375 \n",
       "Q 5.515625 14.40625 5.515625 27.296875 \n",
       "Q 5.515625 40.1875 11.734375 48.09375 \n",
       "Q 17.96875 56 27.875 56 \n",
       "Q 33.9375 56 38.25 53.625 \n",
       "Q 42.578125 51.265625 45.40625 46.390625 \n",
       "z\n",
       "M 14.796875 27.296875 \n",
       "Q 14.796875 17.390625 18.875 11.75 \n",
       "Q 22.953125 6.109375 30.078125 6.109375 \n",
       "Q 37.203125 6.109375 41.296875 11.75 \n",
       "Q 45.40625 17.390625 45.40625 27.296875 \n",
       "Q 45.40625 37.203125 41.296875 42.84375 \n",
       "Q 37.203125 48.484375 30.078125 48.484375 \n",
       "Q 22.953125 48.484375 18.875 42.84375 \n",
       "Q 14.796875 37.203125 14.796875 27.296875 \n",
       "z\n",
       "\" id=\"DejaVuSans-100\"/>\n",
       "     </defs>\n",
       "     <g transform=\"translate(192.408594 252.916562)scale(0.1 -0.1)\">\n",
       "      <use xlink:href=\"#DejaVuSans-83\"/>\n",
       "      <use x=\"63.476562\" xlink:href=\"#DejaVuSans-117\"/>\n",
       "      <use x=\"126.855469\" xlink:href=\"#DejaVuSans-114\"/>\n",
       "      <use x=\"167.96875\" xlink:href=\"#DejaVuSans-118\"/>\n",
       "      <use x=\"227.148438\" xlink:href=\"#DejaVuSans-105\"/>\n",
       "      <use x=\"254.931641\" xlink:href=\"#DejaVuSans-118\"/>\n",
       "      <use x=\"314.111328\" xlink:href=\"#DejaVuSans-101\"/>\n",
       "      <use x=\"375.634766\" xlink:href=\"#DejaVuSans-100\"/>\n",
       "     </g>\n",
       "    </g>\n",
       "   </g>\n",
       "   <g id=\"matplotlib.axis_2\">\n",
       "    <g id=\"ytick_1\">\n",
       "     <g id=\"line2d_3\">\n",
       "      <defs>\n",
       "       <path d=\"M 0 0 \n",
       "L -3.5 0 \n",
       "\" id=\"m0a04e24c63\" style=\"stroke:#000000;stroke-width:0.8;\"/>\n",
       "      </defs>\n",
       "      <g>\n",
       "       <use style=\"stroke:#000000;stroke-width:0.8;\" x=\"46.965625\" xlink:href=\"#m0a04e24c63\" y=\"224.64\"/>\n",
       "      </g>\n",
       "     </g>\n",
       "     <g id=\"text_4\">\n",
       "      <!-- 0 -->\n",
       "      <g transform=\"translate(33.603125 228.439219)scale(0.1 -0.1)\">\n",
       "       <use xlink:href=\"#DejaVuSans-48\"/>\n",
       "      </g>\n",
       "     </g>\n",
       "    </g>\n",
       "    <g id=\"ytick_2\">\n",
       "     <g id=\"line2d_4\">\n",
       "      <g>\n",
       "       <use style=\"stroke:#000000;stroke-width:0.8;\" x=\"46.965625\" xlink:href=\"#m0a04e24c63\" y=\"186.919469\"/>\n",
       "      </g>\n",
       "     </g>\n",
       "     <g id=\"text_5\">\n",
       "      <!-- 100 -->\n",
       "      <g transform=\"translate(20.878125 190.718688)scale(0.1 -0.1)\">\n",
       "       <use xlink:href=\"#DejaVuSans-49\"/>\n",
       "       <use x=\"63.623047\" xlink:href=\"#DejaVuSans-48\"/>\n",
       "       <use x=\"127.246094\" xlink:href=\"#DejaVuSans-48\"/>\n",
       "      </g>\n",
       "     </g>\n",
       "    </g>\n",
       "    <g id=\"ytick_3\">\n",
       "     <g id=\"line2d_5\">\n",
       "      <g>\n",
       "       <use style=\"stroke:#000000;stroke-width:0.8;\" x=\"46.965625\" xlink:href=\"#m0a04e24c63\" y=\"149.198938\"/>\n",
       "      </g>\n",
       "     </g>\n",
       "     <g id=\"text_6\">\n",
       "      <!-- 200 -->\n",
       "      <defs>\n",
       "       <path d=\"M 19.1875 8.296875 \n",
       "L 53.609375 8.296875 \n",
       "L 53.609375 0 \n",
       "L 7.328125 0 \n",
       "L 7.328125 8.296875 \n",
       "Q 12.9375 14.109375 22.625 23.890625 \n",
       "Q 32.328125 33.6875 34.8125 36.53125 \n",
       "Q 39.546875 41.84375 41.421875 45.53125 \n",
       "Q 43.3125 49.21875 43.3125 52.78125 \n",
       "Q 43.3125 58.59375 39.234375 62.25 \n",
       "Q 35.15625 65.921875 28.609375 65.921875 \n",
       "Q 23.96875 65.921875 18.8125 64.3125 \n",
       "Q 13.671875 62.703125 7.8125 59.421875 \n",
       "L 7.8125 69.390625 \n",
       "Q 13.765625 71.78125 18.9375 73 \n",
       "Q 24.125 74.21875 28.421875 74.21875 \n",
       "Q 39.75 74.21875 46.484375 68.546875 \n",
       "Q 53.21875 62.890625 53.21875 53.421875 \n",
       "Q 53.21875 48.921875 51.53125 44.890625 \n",
       "Q 49.859375 40.875 45.40625 35.40625 \n",
       "Q 44.1875 33.984375 37.640625 27.21875 \n",
       "Q 31.109375 20.453125 19.1875 8.296875 \n",
       "z\n",
       "\" id=\"DejaVuSans-50\"/>\n",
       "      </defs>\n",
       "      <g transform=\"translate(20.878125 152.998157)scale(0.1 -0.1)\">\n",
       "       <use xlink:href=\"#DejaVuSans-50\"/>\n",
       "       <use x=\"63.623047\" xlink:href=\"#DejaVuSans-48\"/>\n",
       "       <use x=\"127.246094\" xlink:href=\"#DejaVuSans-48\"/>\n",
       "      </g>\n",
       "     </g>\n",
       "    </g>\n",
       "    <g id=\"ytick_4\">\n",
       "     <g id=\"line2d_6\">\n",
       "      <g>\n",
       "       <use style=\"stroke:#000000;stroke-width:0.8;\" x=\"46.965625\" xlink:href=\"#m0a04e24c63\" y=\"111.478407\"/>\n",
       "      </g>\n",
       "     </g>\n",
       "     <g id=\"text_7\">\n",
       "      <!-- 300 -->\n",
       "      <defs>\n",
       "       <path d=\"M 40.578125 39.3125 \n",
       "Q 47.65625 37.796875 51.625 33 \n",
       "Q 55.609375 28.21875 55.609375 21.1875 \n",
       "Q 55.609375 10.40625 48.1875 4.484375 \n",
       "Q 40.765625 -1.421875 27.09375 -1.421875 \n",
       "Q 22.515625 -1.421875 17.65625 -0.515625 \n",
       "Q 12.796875 0.390625 7.625 2.203125 \n",
       "L 7.625 11.71875 \n",
       "Q 11.71875 9.328125 16.59375 8.109375 \n",
       "Q 21.484375 6.890625 26.8125 6.890625 \n",
       "Q 36.078125 6.890625 40.9375 10.546875 \n",
       "Q 45.796875 14.203125 45.796875 21.1875 \n",
       "Q 45.796875 27.640625 41.28125 31.265625 \n",
       "Q 36.765625 34.90625 28.71875 34.90625 \n",
       "L 20.21875 34.90625 \n",
       "L 20.21875 43.015625 \n",
       "L 29.109375 43.015625 \n",
       "Q 36.375 43.015625 40.234375 45.921875 \n",
       "Q 44.09375 48.828125 44.09375 54.296875 \n",
       "Q 44.09375 59.90625 40.109375 62.90625 \n",
       "Q 36.140625 65.921875 28.71875 65.921875 \n",
       "Q 24.65625 65.921875 20.015625 65.03125 \n",
       "Q 15.375 64.15625 9.8125 62.3125 \n",
       "L 9.8125 71.09375 \n",
       "Q 15.4375 72.65625 20.34375 73.4375 \n",
       "Q 25.25 74.21875 29.59375 74.21875 \n",
       "Q 40.828125 74.21875 47.359375 69.109375 \n",
       "Q 53.90625 64.015625 53.90625 55.328125 \n",
       "Q 53.90625 49.265625 50.4375 45.09375 \n",
       "Q 46.96875 40.921875 40.578125 39.3125 \n",
       "z\n",
       "\" id=\"DejaVuSans-51\"/>\n",
       "      </defs>\n",
       "      <g transform=\"translate(20.878125 115.277626)scale(0.1 -0.1)\">\n",
       "       <use xlink:href=\"#DejaVuSans-51\"/>\n",
       "       <use x=\"63.623047\" xlink:href=\"#DejaVuSans-48\"/>\n",
       "       <use x=\"127.246094\" xlink:href=\"#DejaVuSans-48\"/>\n",
       "      </g>\n",
       "     </g>\n",
       "    </g>\n",
       "    <g id=\"ytick_5\">\n",
       "     <g id=\"line2d_7\">\n",
       "      <g>\n",
       "       <use style=\"stroke:#000000;stroke-width:0.8;\" x=\"46.965625\" xlink:href=\"#m0a04e24c63\" y=\"73.757877\"/>\n",
       "      </g>\n",
       "     </g>\n",
       "     <g id=\"text_8\">\n",
       "      <!-- 400 -->\n",
       "      <defs>\n",
       "       <path d=\"M 37.796875 64.3125 \n",
       "L 12.890625 25.390625 \n",
       "L 37.796875 25.390625 \n",
       "z\n",
       "M 35.203125 72.90625 \n",
       "L 47.609375 72.90625 \n",
       "L 47.609375 25.390625 \n",
       "L 58.015625 25.390625 \n",
       "L 58.015625 17.1875 \n",
       "L 47.609375 17.1875 \n",
       "L 47.609375 0 \n",
       "L 37.796875 0 \n",
       "L 37.796875 17.1875 \n",
       "L 4.890625 17.1875 \n",
       "L 4.890625 26.703125 \n",
       "z\n",
       "\" id=\"DejaVuSans-52\"/>\n",
       "      </defs>\n",
       "      <g transform=\"translate(20.878125 77.557095)scale(0.1 -0.1)\">\n",
       "       <use xlink:href=\"#DejaVuSans-52\"/>\n",
       "       <use x=\"63.623047\" xlink:href=\"#DejaVuSans-48\"/>\n",
       "       <use x=\"127.246094\" xlink:href=\"#DejaVuSans-48\"/>\n",
       "      </g>\n",
       "     </g>\n",
       "    </g>\n",
       "    <g id=\"ytick_6\">\n",
       "     <g id=\"line2d_8\">\n",
       "      <g>\n",
       "       <use style=\"stroke:#000000;stroke-width:0.8;\" x=\"46.965625\" xlink:href=\"#m0a04e24c63\" y=\"36.037346\"/>\n",
       "      </g>\n",
       "     </g>\n",
       "     <g id=\"text_9\">\n",
       "      <!-- 500 -->\n",
       "      <defs>\n",
       "       <path d=\"M 10.796875 72.90625 \n",
       "L 49.515625 72.90625 \n",
       "L 49.515625 64.59375 \n",
       "L 19.828125 64.59375 \n",
       "L 19.828125 46.734375 \n",
       "Q 21.96875 47.46875 24.109375 47.828125 \n",
       "Q 26.265625 48.1875 28.421875 48.1875 \n",
       "Q 40.625 48.1875 47.75 41.5 \n",
       "Q 54.890625 34.8125 54.890625 23.390625 \n",
       "Q 54.890625 11.625 47.5625 5.09375 \n",
       "Q 40.234375 -1.421875 26.90625 -1.421875 \n",
       "Q 22.3125 -1.421875 17.546875 -0.640625 \n",
       "Q 12.796875 0.140625 7.71875 1.703125 \n",
       "L 7.71875 11.625 \n",
       "Q 12.109375 9.234375 16.796875 8.0625 \n",
       "Q 21.484375 6.890625 26.703125 6.890625 \n",
       "Q 35.15625 6.890625 40.078125 11.328125 \n",
       "Q 45.015625 15.765625 45.015625 23.390625 \n",
       "Q 45.015625 31 40.078125 35.4375 \n",
       "Q 35.15625 39.890625 26.703125 39.890625 \n",
       "Q 22.75 39.890625 18.8125 39.015625 \n",
       "Q 14.890625 38.140625 10.796875 36.28125 \n",
       "z\n",
       "\" id=\"DejaVuSans-53\"/>\n",
       "      </defs>\n",
       "      <g transform=\"translate(20.878125 39.836565)scale(0.1 -0.1)\">\n",
       "       <use xlink:href=\"#DejaVuSans-53\"/>\n",
       "       <use x=\"63.623047\" xlink:href=\"#DejaVuSans-48\"/>\n",
       "       <use x=\"127.246094\" xlink:href=\"#DejaVuSans-48\"/>\n",
       "      </g>\n",
       "     </g>\n",
       "    </g>\n",
       "    <g id=\"text_10\">\n",
       "     <!-- count -->\n",
       "     <defs>\n",
       "      <path d=\"M 48.78125 52.59375 \n",
       "L 48.78125 44.1875 \n",
       "Q 44.96875 46.296875 41.140625 47.34375 \n",
       "Q 37.3125 48.390625 33.40625 48.390625 \n",
       "Q 24.65625 48.390625 19.8125 42.84375 \n",
       "Q 14.984375 37.3125 14.984375 27.296875 \n",
       "Q 14.984375 17.28125 19.8125 11.734375 \n",
       "Q 24.65625 6.203125 33.40625 6.203125 \n",
       "Q 37.3125 6.203125 41.140625 7.25 \n",
       "Q 44.96875 8.296875 48.78125 10.40625 \n",
       "L 48.78125 2.09375 \n",
       "Q 45.015625 0.34375 40.984375 -0.53125 \n",
       "Q 36.96875 -1.421875 32.421875 -1.421875 \n",
       "Q 20.0625 -1.421875 12.78125 6.34375 \n",
       "Q 5.515625 14.109375 5.515625 27.296875 \n",
       "Q 5.515625 40.671875 12.859375 48.328125 \n",
       "Q 20.21875 56 33.015625 56 \n",
       "Q 37.15625 56 41.109375 55.140625 \n",
       "Q 45.0625 54.296875 48.78125 52.59375 \n",
       "z\n",
       "\" id=\"DejaVuSans-99\"/>\n",
       "      <path d=\"M 30.609375 48.390625 \n",
       "Q 23.390625 48.390625 19.1875 42.75 \n",
       "Q 14.984375 37.109375 14.984375 27.296875 \n",
       "Q 14.984375 17.484375 19.15625 11.84375 \n",
       "Q 23.34375 6.203125 30.609375 6.203125 \n",
       "Q 37.796875 6.203125 41.984375 11.859375 \n",
       "Q 46.1875 17.53125 46.1875 27.296875 \n",
       "Q 46.1875 37.015625 41.984375 42.703125 \n",
       "Q 37.796875 48.390625 30.609375 48.390625 \n",
       "z\n",
       "M 30.609375 56 \n",
       "Q 42.328125 56 49.015625 48.375 \n",
       "Q 55.71875 40.765625 55.71875 27.296875 \n",
       "Q 55.71875 13.875 49.015625 6.21875 \n",
       "Q 42.328125 -1.421875 30.609375 -1.421875 \n",
       "Q 18.84375 -1.421875 12.171875 6.21875 \n",
       "Q 5.515625 13.875 5.515625 27.296875 \n",
       "Q 5.515625 40.765625 12.171875 48.375 \n",
       "Q 18.84375 56 30.609375 56 \n",
       "z\n",
       "\" id=\"DejaVuSans-111\"/>\n",
       "      <path d=\"M 54.890625 33.015625 \n",
       "L 54.890625 0 \n",
       "L 45.90625 0 \n",
       "L 45.90625 32.71875 \n",
       "Q 45.90625 40.484375 42.875 44.328125 \n",
       "Q 39.84375 48.1875 33.796875 48.1875 \n",
       "Q 26.515625 48.1875 22.3125 43.546875 \n",
       "Q 18.109375 38.921875 18.109375 30.90625 \n",
       "L 18.109375 0 \n",
       "L 9.078125 0 \n",
       "L 9.078125 54.6875 \n",
       "L 18.109375 54.6875 \n",
       "L 18.109375 46.1875 \n",
       "Q 21.34375 51.125 25.703125 53.5625 \n",
       "Q 30.078125 56 35.796875 56 \n",
       "Q 45.21875 56 50.046875 50.171875 \n",
       "Q 54.890625 44.34375 54.890625 33.015625 \n",
       "z\n",
       "\" id=\"DejaVuSans-110\"/>\n",
       "      <path d=\"M 18.3125 70.21875 \n",
       "L 18.3125 54.6875 \n",
       "L 36.8125 54.6875 \n",
       "L 36.8125 47.703125 \n",
       "L 18.3125 47.703125 \n",
       "L 18.3125 18.015625 \n",
       "Q 18.3125 11.328125 20.140625 9.421875 \n",
       "Q 21.96875 7.515625 27.59375 7.515625 \n",
       "L 36.8125 7.515625 \n",
       "L 36.8125 0 \n",
       "L 27.59375 0 \n",
       "Q 17.1875 0 13.234375 3.875 \n",
       "Q 9.28125 7.765625 9.28125 18.015625 \n",
       "L 9.28125 47.703125 \n",
       "L 2.6875 47.703125 \n",
       "L 2.6875 54.6875 \n",
       "L 9.28125 54.6875 \n",
       "L 9.28125 70.21875 \n",
       "z\n",
       "\" id=\"DejaVuSans-116\"/>\n",
       "     </defs>\n",
       "     <g transform=\"translate(14.798438 130.02625)rotate(-90)scale(0.1 -0.1)\">\n",
       "      <use xlink:href=\"#DejaVuSans-99\"/>\n",
       "      <use x=\"54.980469\" xlink:href=\"#DejaVuSans-111\"/>\n",
       "      <use x=\"116.162109\" xlink:href=\"#DejaVuSans-117\"/>\n",
       "      <use x=\"179.541016\" xlink:href=\"#DejaVuSans-110\"/>\n",
       "      <use x=\"242.919922\" xlink:href=\"#DejaVuSans-116\"/>\n",
       "     </g>\n",
       "    </g>\n",
       "   </g>\n",
       "   <g id=\"patch_7\">\n",
       "    <path d=\"M 46.965625 224.64 \n",
       "L 46.965625 7.2 \n",
       "\" style=\"fill:none;stroke:#000000;stroke-linecap:square;stroke-linejoin:miter;stroke-width:0.8;\"/>\n",
       "   </g>\n",
       "   <g id=\"patch_8\">\n",
       "    <path d=\"M 381.765625 224.64 \n",
       "L 381.765625 7.2 \n",
       "\" style=\"fill:none;stroke:#000000;stroke-linecap:square;stroke-linejoin:miter;stroke-width:0.8;\"/>\n",
       "   </g>\n",
       "   <g id=\"patch_9\">\n",
       "    <path d=\"M 46.965625 224.64 \n",
       "L 381.765625 224.64 \n",
       "\" style=\"fill:none;stroke:#000000;stroke-linecap:square;stroke-linejoin:miter;stroke-width:0.8;\"/>\n",
       "   </g>\n",
       "   <g id=\"patch_10\">\n",
       "    <path d=\"M 46.965625 7.2 \n",
       "L 381.765625 7.2 \n",
       "\" style=\"fill:none;stroke:#000000;stroke-linecap:square;stroke-linejoin:miter;stroke-width:0.8;\"/>\n",
       "   </g>\n",
       "  </g>\n",
       " </g>\n",
       " <defs>\n",
       "  <clipPath id=\"p07fad3ca9d\">\n",
       "   <rect height=\"217.44\" width=\"334.8\" x=\"46.965625\" y=\"7.2\"/>\n",
       "  </clipPath>\n",
       " </defs>\n",
       "</svg>\n"
      ],
      "text/plain": [
       "<Figure size 432x288 with 1 Axes>"
      ]
     },
     "metadata": {
      "needs_background": "light"
     },
     "output_type": "display_data"
    }
   ],
   "source": [
    "sns.countplot(x='Survived', data=df)"
   ]
  },
  {
   "cell_type": "markdown",
   "metadata": {
    "_cell_guid": "1babbbf7-085d-4141-b29a-f9fd8f388e46",
    "_uuid": "efa6e3dbb66ca31c8aa1a2e4ec934c00bbf2e411"
   },
   "source": [
    "**Insight**\n",
    "\n",
    "**More passengers died than survived**\n",
    "\n",
    "38% survived"
   ]
  },
  {
   "cell_type": "markdown",
   "metadata": {
    "_cell_guid": "d9cd643d-14a4-43e6-8eeb-53fca5e2ffb1",
    "_uuid": "fdc97f58b646df5993d1e90ff28abfa2b41b1425"
   },
   "source": [
    "**Question**\n",
    "\n",
    "**Sex: how likely are Female and Male passengers of surviving?**"
   ]
  },
  {
   "cell_type": "code",
   "execution_count": 9,
   "metadata": {
    "_cell_guid": "d6dd2033-80b8-44c6-8d91-95a7353552fd",
    "_uuid": "1b7ef6637506ba053434c3e0b0b3f0bc0cf4d01d"
   },
   "outputs": [
    {
     "data": {
      "text/plain": [
       "Survived  Sex   \n",
       "0         female     81\n",
       "          male      468\n",
       "1         female    233\n",
       "          male      109\n",
       "Name: Survived, dtype: int64"
      ]
     },
     "execution_count": 9,
     "metadata": {},
     "output_type": "execute_result"
    }
   ],
   "source": [
    "df.groupby(['Survived','Sex'])['Survived'].count()"
   ]
  },
  {
   "cell_type": "code",
   "execution_count": 10,
   "metadata": {
    "_cell_guid": "4a6f8e4e-c58f-4f6f-9287-9f9a741431da",
    "_uuid": "11444fc10bb62ac315a6ab2114b9ff54dde3d45e",
    "tags": []
   },
   "outputs": [
    {
     "name": "stdout",
     "output_type": "stream",
     "text": [
      "% of women survived:  0.7420382165605095\n",
      "% of men survived:    0.18890814558058924\n"
     ]
    }
   ],
   "source": [
    "print(\"% of women survived: \" , df[df.Sex == 'female'].Survived.sum()/df[df.Sex == 'female'].Survived.count())\n",
    "print(\"% of men survived:   \" , df[df.Sex == 'male'].Survived.sum()/df[df.Sex == 'male'].Survived.count())"
   ]
  },
  {
   "cell_type": "markdown",
   "metadata": {},
   "source": [
    "**Add a [Trellis Chart](https://seaborn.pydata.org/generated/seaborn.countplot.html#seaborn.countplot) that compare the number of male VS female passengers that died and number of male VS female passengers that survived**"
   ]
  },
  {
   "cell_type": "code",
   "execution_count": 11,
   "metadata": {},
   "outputs": [
    {
     "data": {
      "text/plain": [
       "<seaborn.axisgrid.FacetGrid at 0x10d1a4ba8>"
      ]
     },
     "execution_count": 11,
     "metadata": {},
     "output_type": "execute_result"
    },
    {
     "data": {
      "image/png": "[encoded data removed]",
      "text/plain": [
       "<Figure size 720x360 with 2 Axes>"
      ]
     },
     "metadata": {},
     "output_type": "display_data"
    }
   ],
   "source": [
    "sns.catplot(x='Sex', col='Survived', kind='count', data=df)"
   ]
  },
  {
   "cell_type": "markdown",
   "metadata": {},
   "source": [
    "**Add a Pie Chart that compare the % of male VS female passengers that died and % of male VS female passengers that survived**"
   ]
  },
  {
   "cell_type": "code",
   "execution_count": 12,
   "metadata": {},
   "outputs": [
    {
     "data": {
      "image/png": "[encoded data removed]",
      "text/plain": [
       "<Figure size 1152x504 with 2 Axes>"
      ]
     },
     "metadata": {},
     "output_type": "display_data"
    }
   ],
   "source": [
    "import matplotlib.pyplot as plt\n",
    "\n",
    "f,ax=plt.subplots(1,2,figsize=(16,7))\n",
    "df['Survived'][df['Sex']=='male'].value_counts().plot.pie(explode=[0,0.2],autopct='%1.1f%%',ax=ax[0],shadow=True)\n",
    "df['Survived'][df['Sex']=='female'].value_counts().plot.pie(explode=[0,0.2],autopct='%1.1f%%',ax=ax[1],shadow=True)\n",
    "ax[0].set_title('Survived (male)')\n",
    "ax[1].set_title('Survived (female)')\n",
    "\n",
    "plt.show()"
   ]
  },
  {
   "cell_type": "markdown",
   "metadata": {},
   "source": [
    "**Insight**\n",
    "\n",
    "**Sex: Female are more likely to survive than male**\n",
    "\n",
    "74 % of women survived but only 19% of men"
   ]
  },
  {
   "cell_type": "markdown",
   "metadata": {},
   "source": [
    "**Question**\n",
    "\n",
    "**Class: how likely are passengers of surviving accordingly to their class?**"
   ]
  },
  {
   "cell_type": "code",
   "execution_count": 15,
   "metadata": {
    "_cell_guid": "b7182fb8-22cf-4adc-aebb-fb5842a753d6",
    "_uuid": "b48eb33382fbc5ee059c5c851fac9cf010858508"
   },
   "outputs": [
    {
     "data": {
      "text/html": [
       "<style  type=\"text/css\" >\n",
       "    #T_edb3106e_c18c_11ea_931f_dca904945c80row0_col0 {\n",
       "            background-color:  #ffff00;\n",
       "            color:  #000000;\n",
       "        }    #T_edb3106e_c18c_11ea_931f_dca904945c80row0_col1 {\n",
       "            background-color:  #ffce00;\n",
       "            color:  #000000;\n",
       "        }    #T_edb3106e_c18c_11ea_931f_dca904945c80row0_col2 {\n",
       "            background-color:  #fff400;\n",
       "            color:  #000000;\n",
       "        }    #T_edb3106e_c18c_11ea_931f_dca904945c80row1_col0 {\n",
       "            background-color:  #fff600;\n",
       "            color:  #000000;\n",
       "        }    #T_edb3106e_c18c_11ea_931f_dca904945c80row1_col1 {\n",
       "            background-color:  #ffff00;\n",
       "            color:  #000000;\n",
       "        }    #T_edb3106e_c18c_11ea_931f_dca904945c80row1_col2 {\n",
       "            background-color:  #ffff00;\n",
       "            color:  #000000;\n",
       "        }    #T_edb3106e_c18c_11ea_931f_dca904945c80row2_col0 {\n",
       "            background-color:  #ff6000;\n",
       "            color:  #000000;\n",
       "        }    #T_edb3106e_c18c_11ea_931f_dca904945c80row2_col1 {\n",
       "            background-color:  #ffdf00;\n",
       "            color:  #000000;\n",
       "        }    #T_edb3106e_c18c_11ea_931f_dca904945c80row2_col2 {\n",
       "            background-color:  #ff9000;\n",
       "            color:  #000000;\n",
       "        }    #T_edb3106e_c18c_11ea_931f_dca904945c80row3_col0 {\n",
       "            background-color:  #ff0000;\n",
       "            color:  #f1f1f1;\n",
       "        }    #T_edb3106e_c18c_11ea_931f_dca904945c80row3_col1 {\n",
       "            background-color:  #ff0000;\n",
       "            color:  #f1f1f1;\n",
       "        }    #T_edb3106e_c18c_11ea_931f_dca904945c80row3_col2 {\n",
       "            background-color:  #ff0000;\n",
       "            color:  #f1f1f1;\n",
       "        }</style><table id=\"T_edb3106e_c18c_11ea_931f_dca904945c80\" ><thead>    <tr>        <th class=\"index_name level0\" >Survived</th>        <th class=\"col_heading level0 col0\" >0</th>        <th class=\"col_heading level0 col1\" >1</th>        <th class=\"col_heading level0 col2\" >All</th>    </tr>    <tr>        <th class=\"index_name level0\" >Pclass</th>        <th class=\"blank\" ></th>        <th class=\"blank\" ></th>        <th class=\"blank\" ></th>    </tr></thead><tbody>\n",
       "                <tr>\n",
       "                        <th id=\"T_edb3106e_c18c_11ea_931f_dca904945c80level0_row0\" class=\"row_heading level0 row0\" >1</th>\n",
       "                        <td id=\"T_edb3106e_c18c_11ea_931f_dca904945c80row0_col0\" class=\"data row0 col0\" >80</td>\n",
       "                        <td id=\"T_edb3106e_c18c_11ea_931f_dca904945c80row0_col1\" class=\"data row0 col1\" >136</td>\n",
       "                        <td id=\"T_edb3106e_c18c_11ea_931f_dca904945c80row0_col2\" class=\"data row0 col2\" >216</td>\n",
       "            </tr>\n",
       "            <tr>\n",
       "                        <th id=\"T_edb3106e_c18c_11ea_931f_dca904945c80level0_row1\" class=\"row_heading level0 row1\" >2</th>\n",
       "                        <td id=\"T_edb3106e_c18c_11ea_931f_dca904945c80row1_col0\" class=\"data row1 col0\" >97</td>\n",
       "                        <td id=\"T_edb3106e_c18c_11ea_931f_dca904945c80row1_col1\" class=\"data row1 col1\" >87</td>\n",
       "                        <td id=\"T_edb3106e_c18c_11ea_931f_dca904945c80row1_col2\" class=\"data row1 col2\" >184</td>\n",
       "            </tr>\n",
       "            <tr>\n",
       "                        <th id=\"T_edb3106e_c18c_11ea_931f_dca904945c80level0_row2\" class=\"row_heading level0 row2\" >3</th>\n",
       "                        <td id=\"T_edb3106e_c18c_11ea_931f_dca904945c80row2_col0\" class=\"data row2 col0\" >372</td>\n",
       "                        <td id=\"T_edb3106e_c18c_11ea_931f_dca904945c80row2_col1\" class=\"data row2 col1\" >119</td>\n",
       "                        <td id=\"T_edb3106e_c18c_11ea_931f_dca904945c80row2_col2\" class=\"data row2 col2\" >491</td>\n",
       "            </tr>\n",
       "            <tr>\n",
       "                        <th id=\"T_edb3106e_c18c_11ea_931f_dca904945c80level0_row3\" class=\"row_heading level0 row3\" >All</th>\n",
       "                        <td id=\"T_edb3106e_c18c_11ea_931f_dca904945c80row3_col0\" class=\"data row3 col0\" >549</td>\n",
       "                        <td id=\"T_edb3106e_c18c_11ea_931f_dca904945c80row3_col1\" class=\"data row3 col1\" >342</td>\n",
       "                        <td id=\"T_edb3106e_c18c_11ea_931f_dca904945c80row3_col2\" class=\"data row3 col2\" >891</td>\n",
       "            </tr>\n",
       "    </tbody></table>"
      ],
      "text/plain": [
       "<pandas.io.formats.style.Styler at 0x115ffe898>"
      ]
     },
     "execution_count": 15,
     "metadata": {},
     "output_type": "execute_result"
    }
   ],
   "source": [
    "pd.crosstab(df.Pclass, df.Survived, margins=True).style.background_gradient(cmap='autumn_r')"
   ]
  },
  {
   "cell_type": "code",
   "execution_count": 16,
   "metadata": {
    "_cell_guid": "051feaa9-c5b0-4035-b002-4b9f2ff7e880",
    "_uuid": "a943c91ea1ce0dd40e8d53c696432e346d6605ab",
    "tags": []
   },
   "outputs": [
    {
     "name": "stdout",
     "output_type": "stream",
     "text": [
      "% of survivals in\n",
      "Pclass=1 :  0.6296296296296297\n",
      "Pclass=2 :  0.47282608695652173\n",
      "Pclass=3 :  0.24236252545824846\n"
     ]
    }
   ],
   "source": [
    "print(\"% of survivals in\") \n",
    "print(\"Pclass=1 : \", df.Survived[df.Pclass == 1].sum()/df[df.Pclass == 1].Survived.count())\n",
    "print(\"Pclass=2 : \", df.Survived[df.Pclass == 2].sum()/df[df.Pclass == 2].Survived.count())\n",
    "print(\"Pclass=3 : \", df.Survived[df.Pclass == 3].sum()/df[df.Pclass == 3].Survived.count())"
   ]
  },
  {
   "cell_type": "markdown",
   "metadata": {},
   "source": [
    "**Add a [point plot](https://seaborn.pydata.org/generated/seaborn.pointplot.html#seaborn.pointplot) to visualise Survival rate according to Passenger Class**"
   ]
  },
  {
   "cell_type": "code",
   "execution_count": 17,
   "metadata": {},
   "outputs": [
    {
     "data": {
      "text/plain": [
       "<seaborn.axisgrid.FacetGrid at 0x1a1b4c06d8>"
      ]
     },
     "execution_count": 17,
     "metadata": {},
     "output_type": "execute_result"
    },
    {
     "data": {
      "image/png": "[encoded data removed]",
      "text/plain": [
       "<Figure size 360x360 with 1 Axes>"
      ]
     },
     "metadata": {},
     "output_type": "display_data"
    }
   ],
   "source": [
    "sns.catplot('Pclass','Survived', kind='point', data=df)"
   ]
  },
  {
   "cell_type": "markdown",
   "metadata": {
    "_cell_guid": "91aabc83-9f92-4e59-936c-e90fdddb0160",
    "_uuid": "0bb33fe29a3977709a691c74fea426010d120a3c"
   },
   "source": [
    "**Insight**\n",
    "\n",
    "**Passenger Class : Survival rate decreases with Pclass**"
   ]
  },
  {
   "cell_type": "markdown",
   "metadata": {
    "_cell_guid": "aaccbc96-a530-47df-88d4-0f2e3a6abcf0",
    "_uuid": "5dce35a66e5506d07a18cabb0f3440897d459aa7"
   },
   "source": [
    "**Question**\n",
    "\n",
    "**How lileky are passengers to survive based on their Class and Sex?**"
   ]
  },
  {
   "cell_type": "code",
   "execution_count": 18,
   "metadata": {
    "_cell_guid": "620eed70-7c9e-408d-b401-30ee97efd139",
    "_uuid": "e6bf54da5ad3bf4951330540a5671a2129990b52"
   },
   "outputs": [
    {
     "data": {
      "text/html": [
       "<style  type=\"text/css\" >\n",
       "    #T_fc27e91c_c18c_11ea_9698_dca904945c80row0_col0 {\n",
       "            background-color:  #ffff00;\n",
       "            color:  #000000;\n",
       "        }    #T_fc27e91c_c18c_11ea_9698_dca904945c80row0_col1 {\n",
       "            background-color:  #ffff00;\n",
       "            color:  #000000;\n",
       "        }    #T_fc27e91c_c18c_11ea_9698_dca904945c80row0_col2 {\n",
       "            background-color:  #fff100;\n",
       "            color:  #000000;\n",
       "        }    #T_fc27e91c_c18c_11ea_9698_dca904945c80row0_col3 {\n",
       "            background-color:  #ffff00;\n",
       "            color:  #000000;\n",
       "        }    #T_fc27e91c_c18c_11ea_9698_dca904945c80row1_col0 {\n",
       "            background-color:  #ff9600;\n",
       "            color:  #000000;\n",
       "        }    #T_fc27e91c_c18c_11ea_9698_dca904945c80row1_col1 {\n",
       "            background-color:  #ffa300;\n",
       "            color:  #000000;\n",
       "        }    #T_fc27e91c_c18c_11ea_9698_dca904945c80row1_col2 {\n",
       "            background-color:  #fff100;\n",
       "            color:  #000000;\n",
       "        }    #T_fc27e91c_c18c_11ea_9698_dca904945c80row1_col3 {\n",
       "            background-color:  #ffcf00;\n",
       "            color:  #000000;\n",
       "        }    #T_fc27e91c_c18c_11ea_9698_dca904945c80row2_col0 {\n",
       "            background-color:  #ffa700;\n",
       "            color:  #000000;\n",
       "        }    #T_fc27e91c_c18c_11ea_9698_dca904945c80row2_col1 {\n",
       "            background-color:  #ff8500;\n",
       "            color:  #000000;\n",
       "        }    #T_fc27e91c_c18c_11ea_9698_dca904945c80row2_col2 {\n",
       "            background-color:  #ff6e00;\n",
       "            color:  #000000;\n",
       "        }    #T_fc27e91c_c18c_11ea_9698_dca904945c80row2_col3 {\n",
       "            background-color:  #ff8500;\n",
       "            color:  #000000;\n",
       "        }    #T_fc27e91c_c18c_11ea_9698_dca904945c80row3_col0 {\n",
       "            background-color:  #ffcd00;\n",
       "            color:  #000000;\n",
       "        }    #T_fc27e91c_c18c_11ea_9698_dca904945c80row3_col1 {\n",
       "            background-color:  #fff000;\n",
       "            color:  #000000;\n",
       "        }    #T_fc27e91c_c18c_11ea_9698_dca904945c80row3_col2 {\n",
       "            background-color:  #ffff00;\n",
       "            color:  #000000;\n",
       "        }    #T_fc27e91c_c18c_11ea_9698_dca904945c80row3_col3 {\n",
       "            background-color:  #fff700;\n",
       "            color:  #000000;\n",
       "        }    #T_fc27e91c_c18c_11ea_9698_dca904945c80row4_col0 {\n",
       "            background-color:  #ff0000;\n",
       "            color:  #f1f1f1;\n",
       "        }    #T_fc27e91c_c18c_11ea_9698_dca904945c80row4_col1 {\n",
       "            background-color:  #ff0000;\n",
       "            color:  #f1f1f1;\n",
       "        }    #T_fc27e91c_c18c_11ea_9698_dca904945c80row4_col2 {\n",
       "            background-color:  #ff0000;\n",
       "            color:  #f1f1f1;\n",
       "        }    #T_fc27e91c_c18c_11ea_9698_dca904945c80row4_col3 {\n",
       "            background-color:  #ff0000;\n",
       "            color:  #f1f1f1;\n",
       "        }</style><table id=\"T_fc27e91c_c18c_11ea_9698_dca904945c80\" ><thead>    <tr>        <th class=\"blank\" ></th>        <th class=\"index_name level0\" >Pclass</th>        <th class=\"col_heading level0 col0\" >1</th>        <th class=\"col_heading level0 col1\" >2</th>        <th class=\"col_heading level0 col2\" >3</th>        <th class=\"col_heading level0 col3\" >All</th>    </tr>    <tr>        <th class=\"index_name level0\" >Sex</th>        <th class=\"index_name level1\" >Survived</th>        <th class=\"blank\" ></th>        <th class=\"blank\" ></th>        <th class=\"blank\" ></th>        <th class=\"blank\" ></th>    </tr></thead><tbody>\n",
       "                <tr>\n",
       "                        <th id=\"T_fc27e91c_c18c_11ea_9698_dca904945c80level0_row0\" class=\"row_heading level0 row0\" rowspan=2>female</th>\n",
       "                        <th id=\"T_fc27e91c_c18c_11ea_9698_dca904945c80level1_row0\" class=\"row_heading level1 row0\" >0</th>\n",
       "                        <td id=\"T_fc27e91c_c18c_11ea_9698_dca904945c80row0_col0\" class=\"data row0 col0\" >3</td>\n",
       "                        <td id=\"T_fc27e91c_c18c_11ea_9698_dca904945c80row0_col1\" class=\"data row0 col1\" >6</td>\n",
       "                        <td id=\"T_fc27e91c_c18c_11ea_9698_dca904945c80row0_col2\" class=\"data row0 col2\" >72</td>\n",
       "                        <td id=\"T_fc27e91c_c18c_11ea_9698_dca904945c80row0_col3\" class=\"data row0 col3\" >81</td>\n",
       "            </tr>\n",
       "            <tr>\n",
       "                                <th id=\"T_fc27e91c_c18c_11ea_9698_dca904945c80level1_row1\" class=\"row_heading level1 row1\" >1</th>\n",
       "                        <td id=\"T_fc27e91c_c18c_11ea_9698_dca904945c80row1_col0\" class=\"data row1 col0\" >91</td>\n",
       "                        <td id=\"T_fc27e91c_c18c_11ea_9698_dca904945c80row1_col1\" class=\"data row1 col1\" >70</td>\n",
       "                        <td id=\"T_fc27e91c_c18c_11ea_9698_dca904945c80row1_col2\" class=\"data row1 col2\" >72</td>\n",
       "                        <td id=\"T_fc27e91c_c18c_11ea_9698_dca904945c80row1_col3\" class=\"data row1 col3\" >233</td>\n",
       "            </tr>\n",
       "            <tr>\n",
       "                        <th id=\"T_fc27e91c_c18c_11ea_9698_dca904945c80level0_row2\" class=\"row_heading level0 row2\" rowspan=2>male</th>\n",
       "                        <th id=\"T_fc27e91c_c18c_11ea_9698_dca904945c80level1_row2\" class=\"row_heading level1 row2\" >0</th>\n",
       "                        <td id=\"T_fc27e91c_c18c_11ea_9698_dca904945c80row2_col0\" class=\"data row2 col0\" >77</td>\n",
       "                        <td id=\"T_fc27e91c_c18c_11ea_9698_dca904945c80row2_col1\" class=\"data row2 col1\" >91</td>\n",
       "                        <td id=\"T_fc27e91c_c18c_11ea_9698_dca904945c80row2_col2\" class=\"data row2 col2\" >300</td>\n",
       "                        <td id=\"T_fc27e91c_c18c_11ea_9698_dca904945c80row2_col3\" class=\"data row2 col3\" >468</td>\n",
       "            </tr>\n",
       "            <tr>\n",
       "                                <th id=\"T_fc27e91c_c18c_11ea_9698_dca904945c80level1_row3\" class=\"row_heading level1 row3\" >1</th>\n",
       "                        <td id=\"T_fc27e91c_c18c_11ea_9698_dca904945c80row3_col0\" class=\"data row3 col0\" >45</td>\n",
       "                        <td id=\"T_fc27e91c_c18c_11ea_9698_dca904945c80row3_col1\" class=\"data row3 col1\" >17</td>\n",
       "                        <td id=\"T_fc27e91c_c18c_11ea_9698_dca904945c80row3_col2\" class=\"data row3 col2\" >47</td>\n",
       "                        <td id=\"T_fc27e91c_c18c_11ea_9698_dca904945c80row3_col3\" class=\"data row3 col3\" >109</td>\n",
       "            </tr>\n",
       "            <tr>\n",
       "                        <th id=\"T_fc27e91c_c18c_11ea_9698_dca904945c80level0_row4\" class=\"row_heading level0 row4\" >All</th>\n",
       "                        <th id=\"T_fc27e91c_c18c_11ea_9698_dca904945c80level1_row4\" class=\"row_heading level1 row4\" ></th>\n",
       "                        <td id=\"T_fc27e91c_c18c_11ea_9698_dca904945c80row4_col0\" class=\"data row4 col0\" >216</td>\n",
       "                        <td id=\"T_fc27e91c_c18c_11ea_9698_dca904945c80row4_col1\" class=\"data row4 col1\" >184</td>\n",
       "                        <td id=\"T_fc27e91c_c18c_11ea_9698_dca904945c80row4_col2\" class=\"data row4 col2\" >491</td>\n",
       "                        <td id=\"T_fc27e91c_c18c_11ea_9698_dca904945c80row4_col3\" class=\"data row4 col3\" >891</td>\n",
       "            </tr>\n",
       "    </tbody></table>"
      ],
      "text/plain": [
       "<pandas.io.formats.style.Styler at 0x1a1b650d30>"
      ]
     },
     "execution_count": 18,
     "metadata": {},
     "output_type": "execute_result"
    }
   ],
   "source": [
    "pd.crosstab([df.Sex, df.Survived], df.Pclass, margins=True).style.background_gradient(cmap='autumn_r')"
   ]
  },
  {
   "cell_type": "markdown",
   "metadata": {},
   "source": [
    "**Add a [point plot](https://seaborn.pydata.org/generated/seaborn.pointplot.html#seaborn.pointplot) to visualise Survival rate according to Passenger Class with a comparaison between male and female**"
   ]
  },
  {
   "cell_type": "code",
   "execution_count": 21,
   "metadata": {},
   "outputs": [
    {
     "data": {
      "text/plain": [
       "<seaborn.axisgrid.FacetGrid at 0x1a1c1924a8>"
      ]
     },
     "execution_count": 21,
     "metadata": {},
     "output_type": "execute_result"
    },
    {
     "data": {
      "image/png": "[encoded data removed]",
      "text/plain": [
       "<Figure size 430.5x360 with 1 Axes>"
      ]
     },
     "metadata": {},
     "output_type": "display_data"
    }
   ],
   "source": [
    "sns.catplot('Pclass','Survived',hue='Sex', kind='point', data=df)"
   ]
  },
  {
   "cell_type": "markdown",
   "metadata": {},
   "source": [
    "**Insight**\n",
    "\n",
    "**Almost all women in Pclass 1 and 2 survived and nearly all men in Pclass 2 and 3 died**"
   ]
  },
  {
   "cell_type": "markdown",
   "metadata": {},
   "source": [
    "**Question**\n",
    "\n",
    "**How lileky are passengers to survive based on the Embarked variable?**"
   ]
  },
  {
   "cell_type": "code",
   "execution_count": 22,
   "metadata": {},
   "outputs": [
    {
     "data": {
      "text/html": [
       "<style  type=\"text/css\" >\n",
       "    #T_11d2eea6_c18d_11ea_b591_dca904945c80row0_col0 {\n",
       "            background-color:  #fff100;\n",
       "            color:  #000000;\n",
       "        }    #T_11d2eea6_c18d_11ea_b591_dca904945c80row0_col1 {\n",
       "            background-color:  #ffcb00;\n",
       "            color:  #000000;\n",
       "        }    #T_11d2eea6_c18d_11ea_b591_dca904945c80row0_col2 {\n",
       "            background-color:  #ffe300;\n",
       "            color:  #000000;\n",
       "        }    #T_11d2eea6_c18d_11ea_b591_dca904945c80row1_col0 {\n",
       "            background-color:  #ffff00;\n",
       "            color:  #000000;\n",
       "        }    #T_11d2eea6_c18d_11ea_b591_dca904945c80row1_col1 {\n",
       "            background-color:  #ffff00;\n",
       "            color:  #000000;\n",
       "        }    #T_11d2eea6_c18d_11ea_b591_dca904945c80row1_col2 {\n",
       "            background-color:  #ffff00;\n",
       "            color:  #000000;\n",
       "        }    #T_11d2eea6_c18d_11ea_b591_dca904945c80row2_col0 {\n",
       "            background-color:  #ff3e00;\n",
       "            color:  #f1f1f1;\n",
       "        }    #T_11d2eea6_c18d_11ea_b591_dca904945c80row2_col1 {\n",
       "            background-color:  #ff6500;\n",
       "            color:  #000000;\n",
       "        }    #T_11d2eea6_c18d_11ea_b591_dca904945c80row2_col2 {\n",
       "            background-color:  #ff4d00;\n",
       "            color:  #000000;\n",
       "        }    #T_11d2eea6_c18d_11ea_b591_dca904945c80row3_col0 {\n",
       "            background-color:  #ff0000;\n",
       "            color:  #f1f1f1;\n",
       "        }    #T_11d2eea6_c18d_11ea_b591_dca904945c80row3_col1 {\n",
       "            background-color:  #ff0000;\n",
       "            color:  #f1f1f1;\n",
       "        }    #T_11d2eea6_c18d_11ea_b591_dca904945c80row3_col2 {\n",
       "            background-color:  #ff0000;\n",
       "            color:  #f1f1f1;\n",
       "        }</style><table id=\"T_11d2eea6_c18d_11ea_b591_dca904945c80\" ><thead>    <tr>        <th class=\"index_name level0\" >Survived</th>        <th class=\"col_heading level0 col0\" >0</th>        <th class=\"col_heading level0 col1\" >1</th>        <th class=\"col_heading level0 col2\" >All</th>    </tr>    <tr>        <th class=\"index_name level0\" >Embarked</th>        <th class=\"blank\" ></th>        <th class=\"blank\" ></th>        <th class=\"blank\" ></th>    </tr></thead><tbody>\n",
       "                <tr>\n",
       "                        <th id=\"T_11d2eea6_c18d_11ea_b591_dca904945c80level0_row0\" class=\"row_heading level0 row0\" >C</th>\n",
       "                        <td id=\"T_11d2eea6_c18d_11ea_b591_dca904945c80row0_col0\" class=\"data row0 col0\" >75</td>\n",
       "                        <td id=\"T_11d2eea6_c18d_11ea_b591_dca904945c80row0_col1\" class=\"data row0 col1\" >93</td>\n",
       "                        <td id=\"T_11d2eea6_c18d_11ea_b591_dca904945c80row0_col2\" class=\"data row0 col2\" >168</td>\n",
       "            </tr>\n",
       "            <tr>\n",
       "                        <th id=\"T_11d2eea6_c18d_11ea_b591_dca904945c80level0_row1\" class=\"row_heading level0 row1\" >Q</th>\n",
       "                        <td id=\"T_11d2eea6_c18d_11ea_b591_dca904945c80row1_col0\" class=\"data row1 col0\" >47</td>\n",
       "                        <td id=\"T_11d2eea6_c18d_11ea_b591_dca904945c80row1_col1\" class=\"data row1 col1\" >30</td>\n",
       "                        <td id=\"T_11d2eea6_c18d_11ea_b591_dca904945c80row1_col2\" class=\"data row1 col2\" >77</td>\n",
       "            </tr>\n",
       "            <tr>\n",
       "                        <th id=\"T_11d2eea6_c18d_11ea_b591_dca904945c80level0_row2\" class=\"row_heading level0 row2\" >S</th>\n",
       "                        <td id=\"T_11d2eea6_c18d_11ea_b591_dca904945c80row2_col0\" class=\"data row2 col0\" >427</td>\n",
       "                        <td id=\"T_11d2eea6_c18d_11ea_b591_dca904945c80row2_col1\" class=\"data row2 col1\" >217</td>\n",
       "                        <td id=\"T_11d2eea6_c18d_11ea_b591_dca904945c80row2_col2\" class=\"data row2 col2\" >644</td>\n",
       "            </tr>\n",
       "            <tr>\n",
       "                        <th id=\"T_11d2eea6_c18d_11ea_b591_dca904945c80level0_row3\" class=\"row_heading level0 row3\" >All</th>\n",
       "                        <td id=\"T_11d2eea6_c18d_11ea_b591_dca904945c80row3_col0\" class=\"data row3 col0\" >549</td>\n",
       "                        <td id=\"T_11d2eea6_c18d_11ea_b591_dca904945c80row3_col1\" class=\"data row3 col1\" >340</td>\n",
       "                        <td id=\"T_11d2eea6_c18d_11ea_b591_dca904945c80row3_col2\" class=\"data row3 col2\" >889</td>\n",
       "            </tr>\n",
       "    </tbody></table>"
      ],
      "text/plain": [
       "<pandas.io.formats.style.Styler at 0x1a1c192f60>"
      ]
     },
     "execution_count": 22,
     "metadata": {},
     "output_type": "execute_result"
    }
   ],
   "source": [
    "pd.crosstab(df.Embarked, df.Survived, margins=True).style.background_gradient(cmap='autumn_r')"
   ]
  },
  {
   "cell_type": "markdown",
   "metadata": {},
   "source": [
    "**Add a [Trellis Chart](https://seaborn.pydata.org/generated/seaborn.countplot.html#seaborn.countplot) to visualise the number of passagers that survived according to Embarked value**"
   ]
  },
  {
   "cell_type": "code",
   "execution_count": 23,
   "metadata": {},
   "outputs": [
    {
     "data": {
      "text/plain": [
       "<seaborn.axisgrid.FacetGrid at 0x1a1bdd74e0>"
      ]
     },
     "execution_count": 23,
     "metadata": {},
     "output_type": "execute_result"
    },
    {
     "data": {
      "image/png": "[encoded data removed]",
      "text/plain": [
       "<Figure size 1080x360 with 3 Axes>"
      ]
     },
     "metadata": {},
     "output_type": "display_data"
    }
   ],
   "source": [
    "sns.catplot(x='Survived', col='Embarked', kind='count', data=df)"
   ]
  },
  {
   "cell_type": "markdown",
   "metadata": {},
   "source": [
    "**Add a [point plot](https://seaborn.pydata.org/generated/seaborn.pointplot.html#seaborn.pointplot) to visualise Survival rate according to Embarked Value**"
   ]
  },
  {
   "cell_type": "code",
   "execution_count": 24,
   "metadata": {},
   "outputs": [
    {
     "data": {
      "text/plain": [
       "<seaborn.axisgrid.FacetGrid at 0x1a1c1926a0>"
      ]
     },
     "execution_count": 24,
     "metadata": {},
     "output_type": "execute_result"
    },
    {
     "data": {
      "image/png": "[encoded data removed]",
      "text/plain": [
       "<Figure size 360x360 with 1 Axes>"
      ]
     },
     "metadata": {},
     "output_type": "display_data"
    }
   ],
   "source": [
    "sns.catplot('Embarked','Survived', kind='point', data=df)"
   ]
  },
  {
   "cell_type": "markdown",
   "metadata": {},
   "source": [
    "**Insight**\n",
    "\n",
    "**Embarked : Survival rate lowest for S and highest for C**"
   ]
  },
  {
   "cell_type": "markdown",
   "metadata": {},
   "source": [
    "**Question**\n",
    "\n",
    "**How likely are passengers to survive based on the variables Embarked and Sex?**"
   ]
  },
  {
   "cell_type": "code",
   "execution_count": 25,
   "metadata": {},
   "outputs": [
    {
     "data": {
      "text/html": [
       "<style  type=\"text/css\" >\n",
       "    #T_21600890_c18d_11ea_90b3_dca904945c80row0_col0 {\n",
       "            background-color:  #ffff00;\n",
       "            color:  #000000;\n",
       "        }    #T_21600890_c18d_11ea_90b3_dca904945c80row0_col1 {\n",
       "            background-color:  #ffeb00;\n",
       "            color:  #000000;\n",
       "        }    #T_21600890_c18d_11ea_90b3_dca904945c80row0_col2 {\n",
       "            background-color:  #ffff00;\n",
       "            color:  #000000;\n",
       "        }    #T_21600890_c18d_11ea_90b3_dca904945c80row0_col3 {\n",
       "            background-color:  #ffff00;\n",
       "            color:  #000000;\n",
       "        }    #T_21600890_c18d_11ea_90b3_dca904945c80row1_col0 {\n",
       "            background-color:  #ffa700;\n",
       "            color:  #000000;\n",
       "        }    #T_21600890_c18d_11ea_90b3_dca904945c80row1_col1 {\n",
       "            background-color:  #ffac00;\n",
       "            color:  #000000;\n",
       "        }    #T_21600890_c18d_11ea_90b3_dca904945c80row1_col2 {\n",
       "            background-color:  #ffde00;\n",
       "            color:  #000000;\n",
       "        }    #T_21600890_c18d_11ea_90b3_dca904945c80row1_col3 {\n",
       "            background-color:  #ffd000;\n",
       "            color:  #000000;\n",
       "        }    #T_21600890_c18d_11ea_90b3_dca904945c80row2_col0 {\n",
       "            background-color:  #ffa400;\n",
       "            color:  #000000;\n",
       "        }    #T_21600890_c18d_11ea_90b3_dca904945c80row2_col1 {\n",
       "            background-color:  #ff8600;\n",
       "            color:  #000000;\n",
       "        }    #T_21600890_c18d_11ea_90b3_dca904945c80row2_col2 {\n",
       "            background-color:  #ff7b00;\n",
       "            color:  #000000;\n",
       "        }    #T_21600890_c18d_11ea_90b3_dca904945c80row2_col3 {\n",
       "            background-color:  #ff8500;\n",
       "            color:  #000000;\n",
       "        }    #T_21600890_c18d_11ea_90b3_dca904945c80row3_col0 {\n",
       "            background-color:  #ffdf00;\n",
       "            color:  #000000;\n",
       "        }    #T_21600890_c18d_11ea_90b3_dca904945c80row3_col1 {\n",
       "            background-color:  #ffff00;\n",
       "            color:  #000000;\n",
       "        }    #T_21600890_c18d_11ea_90b3_dca904945c80row3_col2 {\n",
       "            background-color:  #fff900;\n",
       "            color:  #000000;\n",
       "        }    #T_21600890_c18d_11ea_90b3_dca904945c80row3_col3 {\n",
       "            background-color:  #fff700;\n",
       "            color:  #000000;\n",
       "        }    #T_21600890_c18d_11ea_90b3_dca904945c80row4_col0 {\n",
       "            background-color:  #ff0000;\n",
       "            color:  #f1f1f1;\n",
       "        }    #T_21600890_c18d_11ea_90b3_dca904945c80row4_col1 {\n",
       "            background-color:  #ff0000;\n",
       "            color:  #f1f1f1;\n",
       "        }    #T_21600890_c18d_11ea_90b3_dca904945c80row4_col2 {\n",
       "            background-color:  #ff0000;\n",
       "            color:  #f1f1f1;\n",
       "        }    #T_21600890_c18d_11ea_90b3_dca904945c80row4_col3 {\n",
       "            background-color:  #ff0000;\n",
       "            color:  #f1f1f1;\n",
       "        }</style><table id=\"T_21600890_c18d_11ea_90b3_dca904945c80\" ><thead>    <tr>        <th class=\"blank\" ></th>        <th class=\"index_name level0\" >Embarked</th>        <th class=\"col_heading level0 col0\" >C</th>        <th class=\"col_heading level0 col1\" >Q</th>        <th class=\"col_heading level0 col2\" >S</th>        <th class=\"col_heading level0 col3\" >All</th>    </tr>    <tr>        <th class=\"index_name level0\" >Sex</th>        <th class=\"index_name level1\" >Survived</th>        <th class=\"blank\" ></th>        <th class=\"blank\" ></th>        <th class=\"blank\" ></th>        <th class=\"blank\" ></th>    </tr></thead><tbody>\n",
       "                <tr>\n",
       "                        <th id=\"T_21600890_c18d_11ea_90b3_dca904945c80level0_row0\" class=\"row_heading level0 row0\" rowspan=2>female</th>\n",
       "                        <th id=\"T_21600890_c18d_11ea_90b3_dca904945c80level1_row0\" class=\"row_heading level1 row0\" >0</th>\n",
       "                        <td id=\"T_21600890_c18d_11ea_90b3_dca904945c80row0_col0\" class=\"data row0 col0\" >9</td>\n",
       "                        <td id=\"T_21600890_c18d_11ea_90b3_dca904945c80row0_col1\" class=\"data row0 col1\" >9</td>\n",
       "                        <td id=\"T_21600890_c18d_11ea_90b3_dca904945c80row0_col2\" class=\"data row0 col2\" >63</td>\n",
       "                        <td id=\"T_21600890_c18d_11ea_90b3_dca904945c80row0_col3\" class=\"data row0 col3\" >81</td>\n",
       "            </tr>\n",
       "            <tr>\n",
       "                                <th id=\"T_21600890_c18d_11ea_90b3_dca904945c80level1_row1\" class=\"row_heading level1 row1\" >1</th>\n",
       "                        <td id=\"T_21600890_c18d_11ea_90b3_dca904945c80row1_col0\" class=\"data row1 col0\" >64</td>\n",
       "                        <td id=\"T_21600890_c18d_11ea_90b3_dca904945c80row1_col1\" class=\"data row1 col1\" >27</td>\n",
       "                        <td id=\"T_21600890_c18d_11ea_90b3_dca904945c80row1_col2\" class=\"data row1 col2\" >140</td>\n",
       "                        <td id=\"T_21600890_c18d_11ea_90b3_dca904945c80row1_col3\" class=\"data row1 col3\" >231</td>\n",
       "            </tr>\n",
       "            <tr>\n",
       "                        <th id=\"T_21600890_c18d_11ea_90b3_dca904945c80level0_row2\" class=\"row_heading level0 row2\" rowspan=2>male</th>\n",
       "                        <th id=\"T_21600890_c18d_11ea_90b3_dca904945c80level1_row2\" class=\"row_heading level1 row2\" >0</th>\n",
       "                        <td id=\"T_21600890_c18d_11ea_90b3_dca904945c80row2_col0\" class=\"data row2 col0\" >66</td>\n",
       "                        <td id=\"T_21600890_c18d_11ea_90b3_dca904945c80row2_col1\" class=\"data row2 col1\" >38</td>\n",
       "                        <td id=\"T_21600890_c18d_11ea_90b3_dca904945c80row2_col2\" class=\"data row2 col2\" >364</td>\n",
       "                        <td id=\"T_21600890_c18d_11ea_90b3_dca904945c80row2_col3\" class=\"data row2 col3\" >468</td>\n",
       "            </tr>\n",
       "            <tr>\n",
       "                                <th id=\"T_21600890_c18d_11ea_90b3_dca904945c80level1_row3\" class=\"row_heading level1 row3\" >1</th>\n",
       "                        <td id=\"T_21600890_c18d_11ea_90b3_dca904945c80row3_col0\" class=\"data row3 col0\" >29</td>\n",
       "                        <td id=\"T_21600890_c18d_11ea_90b3_dca904945c80row3_col1\" class=\"data row3 col1\" >3</td>\n",
       "                        <td id=\"T_21600890_c18d_11ea_90b3_dca904945c80row3_col2\" class=\"data row3 col2\" >77</td>\n",
       "                        <td id=\"T_21600890_c18d_11ea_90b3_dca904945c80row3_col3\" class=\"data row3 col3\" >109</td>\n",
       "            </tr>\n",
       "            <tr>\n",
       "                        <th id=\"T_21600890_c18d_11ea_90b3_dca904945c80level0_row4\" class=\"row_heading level0 row4\" >All</th>\n",
       "                        <th id=\"T_21600890_c18d_11ea_90b3_dca904945c80level1_row4\" class=\"row_heading level1 row4\" ></th>\n",
       "                        <td id=\"T_21600890_c18d_11ea_90b3_dca904945c80row4_col0\" class=\"data row4 col0\" >168</td>\n",
       "                        <td id=\"T_21600890_c18d_11ea_90b3_dca904945c80row4_col1\" class=\"data row4 col1\" >77</td>\n",
       "                        <td id=\"T_21600890_c18d_11ea_90b3_dca904945c80row4_col2\" class=\"data row4 col2\" >644</td>\n",
       "                        <td id=\"T_21600890_c18d_11ea_90b3_dca904945c80row4_col3\" class=\"data row4 col3\" >889</td>\n",
       "            </tr>\n",
       "    </tbody></table>"
      ],
      "text/plain": [
       "<pandas.io.formats.style.Styler at 0x1a1c69fe10>"
      ]
     },
     "execution_count": 25,
     "metadata": {},
     "output_type": "execute_result"
    }
   ],
   "source": [
    "pd.crosstab([df.Sex, df.Survived], df.Embarked, margins=True).style.background_gradient(cmap='autumn_r')"
   ]
  },
  {
   "cell_type": "markdown",
   "metadata": {},
   "source": [
    "**Add a [point plot](https://seaborn.pydata.org/generated/seaborn.pointplot.html#seaborn.pointplot) to visualise Survival rate according to Embarked Value with a comparaison between male and female**"
   ]
  },
  {
   "cell_type": "code",
   "execution_count": 26,
   "metadata": {},
   "outputs": [
    {
     "data": {
      "text/plain": [
       "<seaborn.axisgrid.FacetGrid at 0x1a1c248048>"
      ]
     },
     "execution_count": 26,
     "metadata": {},
     "output_type": "execute_result"
    },
    {
     "data": {
      "image/png": "[encoded data removed]",
      "text/plain": [
       "<Figure size 430.5x360 with 1 Axes>"
      ]
     },
     "metadata": {},
     "output_type": "display_data"
    }
   ],
   "source": [
    "sns.catplot('Embarked','Survived', hue= 'Sex', kind='point', data=df)"
   ]
  },
  {
   "cell_type": "markdown",
   "metadata": {},
   "source": [
    "**Question**\n",
    "\n",
    "**How likely are passengers to survive based on the variables Embarked, Pclass and Sex**"
   ]
  },
  {
   "cell_type": "code",
   "execution_count": 28,
   "metadata": {},
   "outputs": [
    {
     "data": {
      "text/html": [
       "<style  type=\"text/css\" >\n",
       "    #T_4cec719c_c18d_11ea_8fd2_dca904945c80row0_col0 {\n",
       "            background-color:  #ffff00;\n",
       "            color:  #000000;\n",
       "        }    #T_4cec719c_c18d_11ea_8fd2_dca904945c80row0_col1 {\n",
       "            background-color:  #ffff00;\n",
       "            color:  #000000;\n",
       "        }    #T_4cec719c_c18d_11ea_8fd2_dca904945c80row0_col2 {\n",
       "            background-color:  #ffff00;\n",
       "            color:  #000000;\n",
       "        }    #T_4cec719c_c18d_11ea_8fd2_dca904945c80row0_col3 {\n",
       "            background-color:  #ffff00;\n",
       "            color:  #000000;\n",
       "        }    #T_4cec719c_c18d_11ea_8fd2_dca904945c80row0_col4 {\n",
       "            background-color:  #ffff00;\n",
       "            color:  #000000;\n",
       "        }    #T_4cec719c_c18d_11ea_8fd2_dca904945c80row0_col5 {\n",
       "            background-color:  #ffff00;\n",
       "            color:  #000000;\n",
       "        }    #T_4cec719c_c18d_11ea_8fd2_dca904945c80row0_col6 {\n",
       "            background-color:  #ffff00;\n",
       "            color:  #000000;\n",
       "        }    #T_4cec719c_c18d_11ea_8fd2_dca904945c80row0_col7 {\n",
       "            background-color:  #ffff00;\n",
       "            color:  #000000;\n",
       "        }    #T_4cec719c_c18d_11ea_8fd2_dca904945c80row0_col8 {\n",
       "            background-color:  #ff9900;\n",
       "            color:  #000000;\n",
       "        }    #T_4cec719c_c18d_11ea_8fd2_dca904945c80row0_col9 {\n",
       "            background-color:  #ffae00;\n",
       "            color:  #000000;\n",
       "        }    #T_4cec719c_c18d_11ea_8fd2_dca904945c80row0_col10 {\n",
       "            background-color:  #ff0000;\n",
       "            color:  #f1f1f1;\n",
       "        }    #T_4cec719c_c18d_11ea_8fd2_dca904945c80row0_col11 {\n",
       "            background-color:  #ff8c00;\n",
       "            color:  #000000;\n",
       "        }    #T_4cec719c_c18d_11ea_8fd2_dca904945c80row0_col12 {\n",
       "            background-color:  #ff3f00;\n",
       "            color:  #f1f1f1;\n",
       "        }    #T_4cec719c_c18d_11ea_8fd2_dca904945c80row0_col13 {\n",
       "            background-color:  #ff0000;\n",
       "            color:  #f1f1f1;\n",
       "        }    #T_4cec719c_c18d_11ea_8fd2_dca904945c80row0_col14 {\n",
       "            background-color:  #ff2e00;\n",
       "            color:  #f1f1f1;\n",
       "        }    #T_4cec719c_c18d_11ea_8fd2_dca904945c80row0_col15 {\n",
       "            background-color:  #ff4d00;\n",
       "            color:  #000000;\n",
       "        }    #T_4cec719c_c18d_11ea_8fd2_dca904945c80row0_col16 {\n",
       "            background-color:  #ff1500;\n",
       "            color:  #f1f1f1;\n",
       "        }    #T_4cec719c_c18d_11ea_8fd2_dca904945c80row0_col17 {\n",
       "            background-color:  #ff2500;\n",
       "            color:  #f1f1f1;\n",
       "        }    #T_4cec719c_c18d_11ea_8fd2_dca904945c80row0_col18 {\n",
       "            background-color:  #ff9e00;\n",
       "            color:  #000000;\n",
       "        }    #T_4cec719c_c18d_11ea_8fd2_dca904945c80row1_col0 {\n",
       "            background-color:  #ff0600;\n",
       "            color:  #f1f1f1;\n",
       "        }    #T_4cec719c_c18d_11ea_8fd2_dca904945c80row1_col1 {\n",
       "            background-color:  #ff0000;\n",
       "            color:  #f1f1f1;\n",
       "        }    #T_4cec719c_c18d_11ea_8fd2_dca904945c80row1_col2 {\n",
       "            background-color:  #ff0b00;\n",
       "            color:  #f1f1f1;\n",
       "        }    #T_4cec719c_c18d_11ea_8fd2_dca904945c80row1_col3 {\n",
       "            background-color:  #ff0000;\n",
       "            color:  #f1f1f1;\n",
       "        }    #T_4cec719c_c18d_11ea_8fd2_dca904945c80row1_col4 {\n",
       "            background-color:  #ff0000;\n",
       "            color:  #f1f1f1;\n",
       "        }    #T_4cec719c_c18d_11ea_8fd2_dca904945c80row1_col5 {\n",
       "            background-color:  #ff1900;\n",
       "            color:  #f1f1f1;\n",
       "        }    #T_4cec719c_c18d_11ea_8fd2_dca904945c80row1_col6 {\n",
       "            background-color:  #ff8800;\n",
       "            color:  #000000;\n",
       "        }    #T_4cec719c_c18d_11ea_8fd2_dca904945c80row1_col7 {\n",
       "            background-color:  #ff5f00;\n",
       "            color:  #000000;\n",
       "        }    #T_4cec719c_c18d_11ea_8fd2_dca904945c80row1_col8 {\n",
       "            background-color:  #ffff00;\n",
       "            color:  #000000;\n",
       "        }    #T_4cec719c_c18d_11ea_8fd2_dca904945c80row1_col9 {\n",
       "            background-color:  #ffff00;\n",
       "            color:  #000000;\n",
       "        }    #T_4cec719c_c18d_11ea_8fd2_dca904945c80row1_col10 {\n",
       "            background-color:  #ffff00;\n",
       "            color:  #000000;\n",
       "        }    #T_4cec719c_c18d_11ea_8fd2_dca904945c80row1_col11 {\n",
       "            background-color:  #ffff00;\n",
       "            color:  #000000;\n",
       "        }    #T_4cec719c_c18d_11ea_8fd2_dca904945c80row1_col12 {\n",
       "            background-color:  #ffff00;\n",
       "            color:  #000000;\n",
       "        }    #T_4cec719c_c18d_11ea_8fd2_dca904945c80row1_col13 {\n",
       "            background-color:  #ffff00;\n",
       "            color:  #000000;\n",
       "        }    #T_4cec719c_c18d_11ea_8fd2_dca904945c80row1_col14 {\n",
       "            background-color:  #ffff00;\n",
       "            color:  #000000;\n",
       "        }    #T_4cec719c_c18d_11ea_8fd2_dca904945c80row1_col15 {\n",
       "            background-color:  #ffff00;\n",
       "            color:  #000000;\n",
       "        }    #T_4cec719c_c18d_11ea_8fd2_dca904945c80row1_col16 {\n",
       "            background-color:  #ffff00;\n",
       "            color:  #000000;\n",
       "        }    #T_4cec719c_c18d_11ea_8fd2_dca904945c80row1_col17 {\n",
       "            background-color:  #ffff00;\n",
       "            color:  #000000;\n",
       "        }    #T_4cec719c_c18d_11ea_8fd2_dca904945c80row1_col18 {\n",
       "            background-color:  #ffff00;\n",
       "            color:  #000000;\n",
       "        }    #T_4cec719c_c18d_11ea_8fd2_dca904945c80row2_col0 {\n",
       "            background-color:  #ff0000;\n",
       "            color:  #f1f1f1;\n",
       "        }    #T_4cec719c_c18d_11ea_8fd2_dca904945c80row2_col1 {\n",
       "            background-color:  #ff0000;\n",
       "            color:  #f1f1f1;\n",
       "        }    #T_4cec719c_c18d_11ea_8fd2_dca904945c80row2_col2 {\n",
       "            background-color:  #ff0000;\n",
       "            color:  #f1f1f1;\n",
       "        }    #T_4cec719c_c18d_11ea_8fd2_dca904945c80row2_col3 {\n",
       "            background-color:  #ff0000;\n",
       "            color:  #f1f1f1;\n",
       "        }    #T_4cec719c_c18d_11ea_8fd2_dca904945c80row2_col4 {\n",
       "            background-color:  #ff0000;\n",
       "            color:  #f1f1f1;\n",
       "        }    #T_4cec719c_c18d_11ea_8fd2_dca904945c80row2_col5 {\n",
       "            background-color:  #ff0000;\n",
       "            color:  #f1f1f1;\n",
       "        }    #T_4cec719c_c18d_11ea_8fd2_dca904945c80row2_col6 {\n",
       "            background-color:  #ff0000;\n",
       "            color:  #f1f1f1;\n",
       "        }    #T_4cec719c_c18d_11ea_8fd2_dca904945c80row2_col7 {\n",
       "            background-color:  #ff0000;\n",
       "            color:  #f1f1f1;\n",
       "        }    #T_4cec719c_c18d_11ea_8fd2_dca904945c80row2_col8 {\n",
       "            background-color:  #ff0000;\n",
       "            color:  #f1f1f1;\n",
       "        }    #T_4cec719c_c18d_11ea_8fd2_dca904945c80row2_col9 {\n",
       "            background-color:  #ff0000;\n",
       "            color:  #f1f1f1;\n",
       "        }    #T_4cec719c_c18d_11ea_8fd2_dca904945c80row2_col10 {\n",
       "            background-color:  #ff0000;\n",
       "            color:  #f1f1f1;\n",
       "        }    #T_4cec719c_c18d_11ea_8fd2_dca904945c80row2_col11 {\n",
       "            background-color:  #ff0000;\n",
       "            color:  #f1f1f1;\n",
       "        }    #T_4cec719c_c18d_11ea_8fd2_dca904945c80row2_col12 {\n",
       "            background-color:  #ff0000;\n",
       "            color:  #f1f1f1;\n",
       "        }    #T_4cec719c_c18d_11ea_8fd2_dca904945c80row2_col13 {\n",
       "            background-color:  #ff0000;\n",
       "            color:  #f1f1f1;\n",
       "        }    #T_4cec719c_c18d_11ea_8fd2_dca904945c80row2_col14 {\n",
       "            background-color:  #ff0000;\n",
       "            color:  #f1f1f1;\n",
       "        }    #T_4cec719c_c18d_11ea_8fd2_dca904945c80row2_col15 {\n",
       "            background-color:  #ff0000;\n",
       "            color:  #f1f1f1;\n",
       "        }    #T_4cec719c_c18d_11ea_8fd2_dca904945c80row2_col16 {\n",
       "            background-color:  #ff0000;\n",
       "            color:  #f1f1f1;\n",
       "        }    #T_4cec719c_c18d_11ea_8fd2_dca904945c80row2_col17 {\n",
       "            background-color:  #ff0000;\n",
       "            color:  #f1f1f1;\n",
       "        }    #T_4cec719c_c18d_11ea_8fd2_dca904945c80row2_col18 {\n",
       "            background-color:  #ff0000;\n",
       "            color:  #f1f1f1;\n",
       "        }</style><table id=\"T_4cec719c_c18d_11ea_8fd2_dca904945c80\" ><thead>    <tr>        <th class=\"index_name level0\" >Sex</th>        <th class=\"col_heading level0 col0\" colspan=9>female</th>        <th class=\"col_heading level0 col9\" colspan=9>male</th>        <th class=\"col_heading level0 col18\" >All</th>    </tr>    <tr>        <th class=\"index_name level1\" >Pclass</th>        <th class=\"col_heading level1 col0\" colspan=3>1</th>        <th class=\"col_heading level1 col3\" colspan=3>2</th>        <th class=\"col_heading level1 col6\" colspan=3>3</th>        <th class=\"col_heading level1 col9\" colspan=3>1</th>        <th class=\"col_heading level1 col12\" colspan=3>2</th>        <th class=\"col_heading level1 col15\" colspan=3>3</th>        <th class=\"col_heading level1 col18\" ></th>    </tr>    <tr>        <th class=\"index_name level2\" >Embarked</th>        <th class=\"col_heading level2 col0\" >C</th>        <th class=\"col_heading level2 col1\" >Q</th>        <th class=\"col_heading level2 col2\" >S</th>        <th class=\"col_heading level2 col3\" >C</th>        <th class=\"col_heading level2 col4\" >Q</th>        <th class=\"col_heading level2 col5\" >S</th>        <th class=\"col_heading level2 col6\" >C</th>        <th class=\"col_heading level2 col7\" >Q</th>        <th class=\"col_heading level2 col8\" >S</th>        <th class=\"col_heading level2 col9\" >C</th>        <th class=\"col_heading level2 col10\" >Q</th>        <th class=\"col_heading level2 col11\" >S</th>        <th class=\"col_heading level2 col12\" >C</th>        <th class=\"col_heading level2 col13\" >Q</th>        <th class=\"col_heading level2 col14\" >S</th>        <th class=\"col_heading level2 col15\" >C</th>        <th class=\"col_heading level2 col16\" >Q</th>        <th class=\"col_heading level2 col17\" >S</th>        <th class=\"col_heading level2 col18\" ></th>    </tr>    <tr>        <th class=\"index_name level0\" >Survived</th>        <th class=\"blank\" ></th>        <th class=\"blank\" ></th>        <th class=\"blank\" ></th>        <th class=\"blank\" ></th>        <th class=\"blank\" ></th>        <th class=\"blank\" ></th>        <th class=\"blank\" ></th>        <th class=\"blank\" ></th>        <th class=\"blank\" ></th>        <th class=\"blank\" ></th>        <th class=\"blank\" ></th>        <th class=\"blank\" ></th>        <th class=\"blank\" ></th>        <th class=\"blank\" ></th>        <th class=\"blank\" ></th>        <th class=\"blank\" ></th>        <th class=\"blank\" ></th>        <th class=\"blank\" ></th>        <th class=\"blank\" ></th>    </tr></thead><tbody>\n",
       "                <tr>\n",
       "                        <th id=\"T_4cec719c_c18d_11ea_8fd2_dca904945c80level0_row0\" class=\"row_heading level0 row0\" >0</th>\n",
       "                        <td id=\"T_4cec719c_c18d_11ea_8fd2_dca904945c80row0_col0\" class=\"data row0 col0\" >1</td>\n",
       "                        <td id=\"T_4cec719c_c18d_11ea_8fd2_dca904945c80row0_col1\" class=\"data row0 col1\" >0</td>\n",
       "                        <td id=\"T_4cec719c_c18d_11ea_8fd2_dca904945c80row0_col2\" class=\"data row0 col2\" >2</td>\n",
       "                        <td id=\"T_4cec719c_c18d_11ea_8fd2_dca904945c80row0_col3\" class=\"data row0 col3\" >0</td>\n",
       "                        <td id=\"T_4cec719c_c18d_11ea_8fd2_dca904945c80row0_col4\" class=\"data row0 col4\" >0</td>\n",
       "                        <td id=\"T_4cec719c_c18d_11ea_8fd2_dca904945c80row0_col5\" class=\"data row0 col5\" >6</td>\n",
       "                        <td id=\"T_4cec719c_c18d_11ea_8fd2_dca904945c80row0_col6\" class=\"data row0 col6\" >8</td>\n",
       "                        <td id=\"T_4cec719c_c18d_11ea_8fd2_dca904945c80row0_col7\" class=\"data row0 col7\" >9</td>\n",
       "                        <td id=\"T_4cec719c_c18d_11ea_8fd2_dca904945c80row0_col8\" class=\"data row0 col8\" >55</td>\n",
       "                        <td id=\"T_4cec719c_c18d_11ea_8fd2_dca904945c80row0_col9\" class=\"data row0 col9\" >25</td>\n",
       "                        <td id=\"T_4cec719c_c18d_11ea_8fd2_dca904945c80row0_col10\" class=\"data row0 col10\" >1</td>\n",
       "                        <td id=\"T_4cec719c_c18d_11ea_8fd2_dca904945c80row0_col11\" class=\"data row0 col11\" >51</td>\n",
       "                        <td id=\"T_4cec719c_c18d_11ea_8fd2_dca904945c80row0_col12\" class=\"data row0 col12\" >8</td>\n",
       "                        <td id=\"T_4cec719c_c18d_11ea_8fd2_dca904945c80row0_col13\" class=\"data row0 col13\" >1</td>\n",
       "                        <td id=\"T_4cec719c_c18d_11ea_8fd2_dca904945c80row0_col14\" class=\"data row0 col14\" >82</td>\n",
       "                        <td id=\"T_4cec719c_c18d_11ea_8fd2_dca904945c80row0_col15\" class=\"data row0 col15\" >33</td>\n",
       "                        <td id=\"T_4cec719c_c18d_11ea_8fd2_dca904945c80row0_col16\" class=\"data row0 col16\" >36</td>\n",
       "                        <td id=\"T_4cec719c_c18d_11ea_8fd2_dca904945c80row0_col17\" class=\"data row0 col17\" >231</td>\n",
       "                        <td id=\"T_4cec719c_c18d_11ea_8fd2_dca904945c80row0_col18\" class=\"data row0 col18\" >549</td>\n",
       "            </tr>\n",
       "            <tr>\n",
       "                        <th id=\"T_4cec719c_c18d_11ea_8fd2_dca904945c80level0_row1\" class=\"row_heading level0 row1\" >1</th>\n",
       "                        <td id=\"T_4cec719c_c18d_11ea_8fd2_dca904945c80row1_col0\" class=\"data row1 col0\" >42</td>\n",
       "                        <td id=\"T_4cec719c_c18d_11ea_8fd2_dca904945c80row1_col1\" class=\"data row1 col1\" >1</td>\n",
       "                        <td id=\"T_4cec719c_c18d_11ea_8fd2_dca904945c80row1_col2\" class=\"data row1 col2\" >46</td>\n",
       "                        <td id=\"T_4cec719c_c18d_11ea_8fd2_dca904945c80row1_col3\" class=\"data row1 col3\" >7</td>\n",
       "                        <td id=\"T_4cec719c_c18d_11ea_8fd2_dca904945c80row1_col4\" class=\"data row1 col4\" >2</td>\n",
       "                        <td id=\"T_4cec719c_c18d_11ea_8fd2_dca904945c80row1_col5\" class=\"data row1 col5\" >61</td>\n",
       "                        <td id=\"T_4cec719c_c18d_11ea_8fd2_dca904945c80row1_col6\" class=\"data row1 col6\" >15</td>\n",
       "                        <td id=\"T_4cec719c_c18d_11ea_8fd2_dca904945c80row1_col7\" class=\"data row1 col7\" >24</td>\n",
       "                        <td id=\"T_4cec719c_c18d_11ea_8fd2_dca904945c80row1_col8\" class=\"data row1 col8\" >33</td>\n",
       "                        <td id=\"T_4cec719c_c18d_11ea_8fd2_dca904945c80row1_col9\" class=\"data row1 col9\" >17</td>\n",
       "                        <td id=\"T_4cec719c_c18d_11ea_8fd2_dca904945c80row1_col10\" class=\"data row1 col10\" >0</td>\n",
       "                        <td id=\"T_4cec719c_c18d_11ea_8fd2_dca904945c80row1_col11\" class=\"data row1 col11\" >28</td>\n",
       "                        <td id=\"T_4cec719c_c18d_11ea_8fd2_dca904945c80row1_col12\" class=\"data row1 col12\" >2</td>\n",
       "                        <td id=\"T_4cec719c_c18d_11ea_8fd2_dca904945c80row1_col13\" class=\"data row1 col13\" >0</td>\n",
       "                        <td id=\"T_4cec719c_c18d_11ea_8fd2_dca904945c80row1_col14\" class=\"data row1 col14\" >15</td>\n",
       "                        <td id=\"T_4cec719c_c18d_11ea_8fd2_dca904945c80row1_col15\" class=\"data row1 col15\" >10</td>\n",
       "                        <td id=\"T_4cec719c_c18d_11ea_8fd2_dca904945c80row1_col16\" class=\"data row1 col16\" >3</td>\n",
       "                        <td id=\"T_4cec719c_c18d_11ea_8fd2_dca904945c80row1_col17\" class=\"data row1 col17\" >34</td>\n",
       "                        <td id=\"T_4cec719c_c18d_11ea_8fd2_dca904945c80row1_col18\" class=\"data row1 col18\" >340</td>\n",
       "            </tr>\n",
       "            <tr>\n",
       "                        <th id=\"T_4cec719c_c18d_11ea_8fd2_dca904945c80level0_row2\" class=\"row_heading level0 row2\" >All</th>\n",
       "                        <td id=\"T_4cec719c_c18d_11ea_8fd2_dca904945c80row2_col0\" class=\"data row2 col0\" >43</td>\n",
       "                        <td id=\"T_4cec719c_c18d_11ea_8fd2_dca904945c80row2_col1\" class=\"data row2 col1\" >1</td>\n",
       "                        <td id=\"T_4cec719c_c18d_11ea_8fd2_dca904945c80row2_col2\" class=\"data row2 col2\" >48</td>\n",
       "                        <td id=\"T_4cec719c_c18d_11ea_8fd2_dca904945c80row2_col3\" class=\"data row2 col3\" >7</td>\n",
       "                        <td id=\"T_4cec719c_c18d_11ea_8fd2_dca904945c80row2_col4\" class=\"data row2 col4\" >2</td>\n",
       "                        <td id=\"T_4cec719c_c18d_11ea_8fd2_dca904945c80row2_col5\" class=\"data row2 col5\" >67</td>\n",
       "                        <td id=\"T_4cec719c_c18d_11ea_8fd2_dca904945c80row2_col6\" class=\"data row2 col6\" >23</td>\n",
       "                        <td id=\"T_4cec719c_c18d_11ea_8fd2_dca904945c80row2_col7\" class=\"data row2 col7\" >33</td>\n",
       "                        <td id=\"T_4cec719c_c18d_11ea_8fd2_dca904945c80row2_col8\" class=\"data row2 col8\" >88</td>\n",
       "                        <td id=\"T_4cec719c_c18d_11ea_8fd2_dca904945c80row2_col9\" class=\"data row2 col9\" >42</td>\n",
       "                        <td id=\"T_4cec719c_c18d_11ea_8fd2_dca904945c80row2_col10\" class=\"data row2 col10\" >1</td>\n",
       "                        <td id=\"T_4cec719c_c18d_11ea_8fd2_dca904945c80row2_col11\" class=\"data row2 col11\" >79</td>\n",
       "                        <td id=\"T_4cec719c_c18d_11ea_8fd2_dca904945c80row2_col12\" class=\"data row2 col12\" >10</td>\n",
       "                        <td id=\"T_4cec719c_c18d_11ea_8fd2_dca904945c80row2_col13\" class=\"data row2 col13\" >1</td>\n",
       "                        <td id=\"T_4cec719c_c18d_11ea_8fd2_dca904945c80row2_col14\" class=\"data row2 col14\" >97</td>\n",
       "                        <td id=\"T_4cec719c_c18d_11ea_8fd2_dca904945c80row2_col15\" class=\"data row2 col15\" >43</td>\n",
       "                        <td id=\"T_4cec719c_c18d_11ea_8fd2_dca904945c80row2_col16\" class=\"data row2 col16\" >39</td>\n",
       "                        <td id=\"T_4cec719c_c18d_11ea_8fd2_dca904945c80row2_col17\" class=\"data row2 col17\" >265</td>\n",
       "                        <td id=\"T_4cec719c_c18d_11ea_8fd2_dca904945c80row2_col18\" class=\"data row2 col18\" >889</td>\n",
       "            </tr>\n",
       "    </tbody></table>"
      ],
      "text/plain": [
       "<pandas.io.formats.style.Styler at 0x1a1905ca90>"
      ]
     },
     "execution_count": 28,
     "metadata": {},
     "output_type": "execute_result"
    }
   ],
   "source": [
    "pd.crosstab([df.Survived], [df.Sex, df.Pclass, df.Embarked], margins=True).style.background_gradient(cmap='autumn_r')"
   ]
  },
  {
   "cell_type": "markdown",
   "metadata": {},
   "source": [
    "**Add a [point plot](https://seaborn.pydata.org/generated/seaborn.pointplot.html#seaborn.pointplot) to visualise Survival rate according to Embarked Value with a comparaison between male and female, with one plot for each Passenger class**"
   ]
  },
  {
   "cell_type": "code",
   "execution_count": 29,
   "metadata": {},
   "outputs": [
    {
     "data": {
      "text/plain": [
       "<seaborn.axisgrid.FacetGrid at 0x1a1c25d7b8>"
      ]
     },
     "execution_count": 29,
     "metadata": {},
     "output_type": "execute_result"
    },
    {
     "data": {
      "image/png": "[encoded data removed]",
      "text/plain": [
       "<Figure size 1150.5x360 with 3 Axes>"
      ]
     },
     "metadata": {},
     "output_type": "display_data"
    }
   ],
   "source": [
    "sns.catplot('Embarked','Survived', col='Pclass', hue= 'Sex', kind='point', data=df)"
   ]
  },
  {
   "cell_type": "markdown",
   "metadata": {},
   "source": [
    "**Insight**\n",
    "\n",
    "** Practically all women of Pclass 2 that embarked in C and Q survived, also nearly all women of Pclass 1 survived. **\n",
    "\n",
    "** All men of Pclass 1 and 2 embarked in Q died, survival rate for men in Pclass 2 and 3 is always below 0.2 **\n",
    "\n",
    "** For the remaining men in Pclass 1 that embarked in S and Q, survival rate is approx. 0.4 **"
   ]
  }
 ],
 "metadata": {
  "kernelspec": {
   "display_name": "Python 3",
   "language": "python",
   "name": "python3"
  },
  "language_info": {
   "codemirror_mode": {
    "name": "ipython",
    "version": 3
   },
   "file_extension": ".py",
   "mimetype": "text/x-python",
   "name": "python",
   "nbconvert_exporter": "python",
   "pygments_lexer": "ipython3",
   "version": "3.6.8"
  }
 },
 "nbformat": 4,
 "nbformat_minor": 4
}
